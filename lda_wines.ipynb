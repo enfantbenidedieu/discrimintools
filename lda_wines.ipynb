{
 "cells": [
  {
   "cell_type": "markdown",
   "metadata": {},
   "source": [
    "# LDA wines"
   ]
  },
  {
   "cell_type": "code",
   "execution_count": 1,
   "metadata": {},
   "outputs": [],
   "source": [
    "import warnings\n",
    "warnings.simplefilter(action='ignore', category=FutureWarning)\n",
    "warnings.filterwarnings(\"ignore\")"
   ]
  },
  {
   "cell_type": "code",
   "execution_count": 2,
   "metadata": {},
   "outputs": [
    {
     "name": "stdout",
     "output_type": "stream",
     "text": [
      "<class 'pandas.core.frame.DataFrame'>\n",
      "RangeIndex: 178 entries, 0 to 177\n",
      "Data columns (total 14 columns):\n",
      " #   Column          Non-Null Count  Dtype   \n",
      "---  ------          --------------  -----   \n",
      " 0   Cultivar        178 non-null    category\n",
      " 1   Alcohol         178 non-null    float64 \n",
      " 2   MalicAcid       178 non-null    float64 \n",
      " 3   Ash             178 non-null    float64 \n",
      " 4   AlcAsh          178 non-null    float64 \n",
      " 5   Mg              178 non-null    int32   \n",
      " 6   Phenols         178 non-null    float64 \n",
      " 7   Flav            178 non-null    float64 \n",
      " 8   NonFlavPhenols  178 non-null    float64 \n",
      " 9   Proa            178 non-null    float64 \n",
      " 10  Color           178 non-null    float64 \n",
      " 11  Hue             178 non-null    float64 \n",
      " 12  OD              178 non-null    float64 \n",
      " 13  Proline         178 non-null    int32   \n",
      "dtypes: category(1), float64(11), int32(2)\n",
      "memory usage: 17.1 KB\n"
     ]
    }
   ],
   "source": [
    "from discrimintools.datasets import load_wine\n",
    "wine = load_wine()\n",
    "wine.info()"
   ]
  },
  {
   "cell_type": "code",
   "execution_count": 3,
   "metadata": {},
   "outputs": [
    {
     "data": {
      "text/html": [
       "<style>#sk-container-id-1 {color: black;background-color: white;}#sk-container-id-1 pre{padding: 0;}#sk-container-id-1 div.sk-toggleable {background-color: white;}#sk-container-id-1 label.sk-toggleable__label {cursor: pointer;display: block;width: 100%;margin-bottom: 0;padding: 0.3em;box-sizing: border-box;text-align: center;}#sk-container-id-1 label.sk-toggleable__label-arrow:before {content: \"▸\";float: left;margin-right: 0.25em;color: #696969;}#sk-container-id-1 label.sk-toggleable__label-arrow:hover:before {color: black;}#sk-container-id-1 div.sk-estimator:hover label.sk-toggleable__label-arrow:before {color: black;}#sk-container-id-1 div.sk-toggleable__content {max-height: 0;max-width: 0;overflow: hidden;text-align: left;background-color: #f0f8ff;}#sk-container-id-1 div.sk-toggleable__content pre {margin: 0.2em;color: black;border-radius: 0.25em;background-color: #f0f8ff;}#sk-container-id-1 input.sk-toggleable__control:checked~div.sk-toggleable__content {max-height: 200px;max-width: 100%;overflow: auto;}#sk-container-id-1 input.sk-toggleable__control:checked~label.sk-toggleable__label-arrow:before {content: \"▾\";}#sk-container-id-1 div.sk-estimator input.sk-toggleable__control:checked~label.sk-toggleable__label {background-color: #d4ebff;}#sk-container-id-1 div.sk-label input.sk-toggleable__control:checked~label.sk-toggleable__label {background-color: #d4ebff;}#sk-container-id-1 input.sk-hidden--visually {border: 0;clip: rect(1px 1px 1px 1px);clip: rect(1px, 1px, 1px, 1px);height: 1px;margin: -1px;overflow: hidden;padding: 0;position: absolute;width: 1px;}#sk-container-id-1 div.sk-estimator {font-family: monospace;background-color: #f0f8ff;border: 1px dotted black;border-radius: 0.25em;box-sizing: border-box;margin-bottom: 0.5em;}#sk-container-id-1 div.sk-estimator:hover {background-color: #d4ebff;}#sk-container-id-1 div.sk-parallel-item::after {content: \"\";width: 100%;border-bottom: 1px solid gray;flex-grow: 1;}#sk-container-id-1 div.sk-label:hover label.sk-toggleable__label {background-color: #d4ebff;}#sk-container-id-1 div.sk-serial::before {content: \"\";position: absolute;border-left: 1px solid gray;box-sizing: border-box;top: 0;bottom: 0;left: 50%;z-index: 0;}#sk-container-id-1 div.sk-serial {display: flex;flex-direction: column;align-items: center;background-color: white;padding-right: 0.2em;padding-left: 0.2em;position: relative;}#sk-container-id-1 div.sk-item {position: relative;z-index: 1;}#sk-container-id-1 div.sk-parallel {display: flex;align-items: stretch;justify-content: center;background-color: white;position: relative;}#sk-container-id-1 div.sk-item::before, #sk-container-id-1 div.sk-parallel-item::before {content: \"\";position: absolute;border-left: 1px solid gray;box-sizing: border-box;top: 0;bottom: 0;left: 50%;z-index: -1;}#sk-container-id-1 div.sk-parallel-item {display: flex;flex-direction: column;z-index: 1;position: relative;background-color: white;}#sk-container-id-1 div.sk-parallel-item:first-child::after {align-self: flex-end;width: 50%;}#sk-container-id-1 div.sk-parallel-item:last-child::after {align-self: flex-start;width: 50%;}#sk-container-id-1 div.sk-parallel-item:only-child::after {width: 0;}#sk-container-id-1 div.sk-dashed-wrapped {border: 1px dashed gray;margin: 0 0.4em 0.5em 0.4em;box-sizing: border-box;padding-bottom: 0.4em;background-color: white;}#sk-container-id-1 div.sk-label label {font-family: monospace;font-weight: bold;display: inline-block;line-height: 1.2em;}#sk-container-id-1 div.sk-label-container {text-align: center;}#sk-container-id-1 div.sk-container {/* jupyter's `normalize.less` sets `[hidden] { display: none; }` but bootstrap.min.css set `[hidden] { display: none !important; }` so we also need the `!important` here to be able to override the default hidden behavior on the sphinx rendered scikit-learn.org. See: https://github.com/scikit-learn/scikit-learn/issues/21755 */display: inline-block !important;position: relative;}#sk-container-id-1 div.sk-text-repr-fallback {display: none;}</style><div id=\"sk-container-id-1\" class=\"sk-top-container\"><div class=\"sk-text-repr-fallback\"><pre>LDA(priors=&#x27;prop&#x27;, target=[&#x27;Cultivar&#x27;])</pre><b>In a Jupyter environment, please rerun this cell to show the HTML representation or trust the notebook. <br />On GitHub, the HTML representation is unable to render, please try loading this page with nbviewer.org.</b></div><div class=\"sk-container\" hidden><div class=\"sk-item\"><div class=\"sk-estimator sk-toggleable\"><input class=\"sk-toggleable__control sk-hidden--visually\" id=\"sk-estimator-id-1\" type=\"checkbox\" checked><label for=\"sk-estimator-id-1\" class=\"sk-toggleable__label sk-toggleable__label-arrow\">LDA</label><div class=\"sk-toggleable__content\"><pre>LDA(priors=&#x27;prop&#x27;, target=[&#x27;Cultivar&#x27;])</pre></div></div></div></div></div>"
      ],
      "text/plain": [
       "LDA(priors='prop', target=['Cultivar'])"
      ]
     },
     "execution_count": 3,
     "metadata": {},
     "output_type": "execute_result"
    }
   ],
   "source": [
    "# Linear Discriminant Analysis (LDA)\n",
    "from discrimintools import LDA\n",
    "res_lda = LDA(target=[\"Cultivar\"],features=None,priors=\"prop\")\n",
    "res_lda.fit(wine)"
   ]
  },
  {
   "cell_type": "markdown",
   "metadata": {},
   "source": [
    "## Coefficients"
   ]
  },
  {
   "cell_type": "code",
   "execution_count": 4,
   "metadata": {},
   "outputs": [
    {
     "data": {
      "text/html": [
       "<div>\n",
       "<style scoped>\n",
       "    .dataframe tbody tr th:only-of-type {\n",
       "        vertical-align: middle;\n",
       "    }\n",
       "\n",
       "    .dataframe tbody tr th {\n",
       "        vertical-align: top;\n",
       "    }\n",
       "\n",
       "    .dataframe thead th {\n",
       "        text-align: right;\n",
       "    }\n",
       "</style>\n",
       "<table border=\"1\" class=\"dataframe\">\n",
       "  <thead>\n",
       "    <tr style=\"text-align: right;\">\n",
       "      <th></th>\n",
       "      <th>barbera</th>\n",
       "      <th>barolo</th>\n",
       "      <th>grignolino</th>\n",
       "    </tr>\n",
       "  </thead>\n",
       "  <tbody>\n",
       "    <tr>\n",
       "      <th>Alcohol</th>\n",
       "      <td>54.127194</td>\n",
       "      <td>57.351419</td>\n",
       "      <td>52.372515</td>\n",
       "    </tr>\n",
       "    <tr>\n",
       "      <th>MalicAcid</th>\n",
       "      <td>2.099088</td>\n",
       "      <td>0.853500</td>\n",
       "      <td>0.134205</td>\n",
       "    </tr>\n",
       "    <tr>\n",
       "      <th>Ash</th>\n",
       "      <td>35.905720</td>\n",
       "      <td>39.031411</td>\n",
       "      <td>28.028787</td>\n",
       "    </tr>\n",
       "    <tr>\n",
       "      <th>AlcAsh</th>\n",
       "      <td>0.553729</td>\n",
       "      <td>-0.662148</td>\n",
       "      <td>0.464883</td>\n",
       "    </tr>\n",
       "    <tr>\n",
       "      <th>Mg</th>\n",
       "      <td>0.484826</td>\n",
       "      <td>0.501534</td>\n",
       "      <td>0.496229</td>\n",
       "    </tr>\n",
       "    <tr>\n",
       "      <th>Phenols</th>\n",
       "      <td>1.531045</td>\n",
       "      <td>-3.260801</td>\n",
       "      <td>-1.060655</td>\n",
       "    </tr>\n",
       "    <tr>\n",
       "      <th>Flav</th>\n",
       "      <td>-9.235046</td>\n",
       "      <td>3.578709</td>\n",
       "      <td>0.074584</td>\n",
       "    </tr>\n",
       "    <tr>\n",
       "      <th>NonFlavPhenols</th>\n",
       "      <td>28.222983</td>\n",
       "      <td>39.626225</td>\n",
       "      <td>41.417889</td>\n",
       "    </tr>\n",
       "    <tr>\n",
       "      <th>Proa</th>\n",
       "      <td>2.316715</td>\n",
       "      <td>1.242999</td>\n",
       "      <td>2.970052</td>\n",
       "    </tr>\n",
       "    <tr>\n",
       "      <th>Color</th>\n",
       "      <td>-1.266012</td>\n",
       "      <td>-3.987953</td>\n",
       "      <td>-3.855622</td>\n",
       "    </tr>\n",
       "    <tr>\n",
       "      <th>Hue</th>\n",
       "      <td>21.434107</td>\n",
       "      <td>27.599510</td>\n",
       "      <td>31.176612</td>\n",
       "    </tr>\n",
       "    <tr>\n",
       "      <th>OD</th>\n",
       "      <td>13.553577</td>\n",
       "      <td>22.527263</td>\n",
       "      <td>18.444670</td>\n",
       "    </tr>\n",
       "    <tr>\n",
       "      <th>Proline</th>\n",
       "      <td>-0.000453</td>\n",
       "      <td>0.020721</td>\n",
       "      <td>-0.000156</td>\n",
       "    </tr>\n",
       "    <tr>\n",
       "      <th>Intercept</th>\n",
       "      <td>-453.783121</td>\n",
       "      <td>-523.443146</td>\n",
       "      <td>-427.199299</td>\n",
       "    </tr>\n",
       "  </tbody>\n",
       "</table>\n",
       "</div>"
      ],
      "text/plain": [
       "                   barbera      barolo  grignolino\n",
       "Alcohol          54.127194   57.351419   52.372515\n",
       "MalicAcid         2.099088    0.853500    0.134205\n",
       "Ash              35.905720   39.031411   28.028787\n",
       "AlcAsh            0.553729   -0.662148    0.464883\n",
       "Mg                0.484826    0.501534    0.496229\n",
       "Phenols           1.531045   -3.260801   -1.060655\n",
       "Flav             -9.235046    3.578709    0.074584\n",
       "NonFlavPhenols   28.222983   39.626225   41.417889\n",
       "Proa              2.316715    1.242999    2.970052\n",
       "Color            -1.266012   -3.987953   -3.855622\n",
       "Hue              21.434107   27.599510   31.176612\n",
       "OD               13.553577   22.527263   18.444670\n",
       "Proline          -0.000453    0.020721   -0.000156\n",
       "Intercept      -453.783121 -523.443146 -427.199299"
      ]
     },
     "execution_count": 4,
     "metadata": {},
     "output_type": "execute_result"
    }
   ],
   "source": [
    "from discrimintools import get_lda_coef\n",
    "coef = get_lda_coef(res_lda)\n",
    "coef"
   ]
  },
  {
   "cell_type": "markdown",
   "metadata": {},
   "source": [
    "## Stepwise\n",
    "\n",
    "### Backward"
   ]
  },
  {
   "cell_type": "code",
   "execution_count": 5,
   "metadata": {},
   "outputs": [
    {
     "name": "stdout",
     "output_type": "stream",
     "text": [
      "                Wilks L.  Partial L.          F       p-value\n",
      "Alcohol         0.023315    0.170455  16.746589  2.429239e-07\n",
      "MalicAcid       0.020810    0.070585   6.189564  2.565019e-03\n",
      "Ash             0.022408    0.136876  12.924414  6.165590e-06\n",
      "AlcAsh          0.023125    0.163652  15.947446  4.726639e-07\n",
      "Mg              0.019353    0.000638   0.052050  3.221545e-08\n",
      "Phenols         0.019951    0.030563   2.569394  7.968106e-02\n",
      "Flav            0.026784    0.277893  31.364188  2.992384e-12\n",
      "NonFlavPhenols  0.020042    0.034983   2.954437  5.490524e-02\n",
      "Proa            0.019640    0.015213   1.259008  2.866816e-01\n",
      "Color           0.025079    0.228813  24.181185  6.361137e-10\n",
      "Hue             0.020323    0.048329   4.138826  1.764747e-02\n",
      "OD              0.022491    0.140047  13.272596  4.567712e-06\n",
      "Proline         0.028324    0.317158  37.854033  3.141931e-14\n",
      "\n"
     ]
    }
   ],
   "source": [
    "# Backward\n",
    "from discrimintools import STEPDISC\n",
    "\n",
    "backward = STEPDISC(model=res_lda,method=\"backward\",alpha=0.01,model_train=True,verbose=True)"
   ]
  },
  {
   "cell_type": "markdown",
   "metadata": {},
   "source": [
    "### Forward"
   ]
  },
  {
   "cell_type": "code",
   "execution_count": 6,
   "metadata": {},
   "outputs": [
    {
     "name": "stdout",
     "output_type": "stream",
     "text": [
      "                Wilks L.  Partial L.           F       p-value\n",
      "Alcohol         0.393121    0.606879  135.077624  1.110223e-16\n",
      "MalicAcid       0.703131    0.296869   36.943425  4.130030e-14\n",
      "Ash             0.867944    0.132056   13.312901  4.149968e-06\n",
      "AlcAsh          0.709815    0.290185   35.771637  9.447998e-14\n",
      "Mg              0.875617    0.124383   12.429584  8.963395e-06\n",
      "Phenols         0.482804    0.517196   93.733010  1.110223e-16\n",
      "Flav            0.272225    0.727775  233.925873  1.110223e-16\n",
      "NonFlavPhenols  0.760371    0.239629   27.575417  3.888045e-11\n",
      "Proa            0.742965    0.257035   30.271383  5.125345e-12\n",
      "Color           0.420342    0.579658  120.664018  1.110223e-16\n",
      "Hue             0.463412    0.536588  101.316795  1.110223e-16\n",
      "OD              0.315347    0.684653  189.972321  1.110223e-16\n",
      "Proline         0.296188    0.703812  207.920374  1.110223e-16\n",
      "\n",
      "                Wilks L.  Partial L.           F       p-value\n",
      "Alcohol         0.112569    0.586485  123.391575  1.110223e-16\n",
      "MalicAcid       0.230232    0.154256   15.868016  4.675020e-07\n",
      "Ash             0.227597    0.163938   17.059281  1.716894e-07\n",
      "AlcAsh          0.214359    0.212564   23.485140  9.348421e-10\n",
      "Mg              0.245644    0.097641    9.413912  1.312262e-04\n",
      "Phenols         0.262722    0.034906    3.146615  4.545430e-02\n",
      "NonFlavPhenols  0.270518    0.006269    0.548840  1.647698e-01\n",
      "Proa            0.267269    0.018205    1.613236  2.022073e-01\n",
      "Color           0.102491    0.623507  144.080253  1.110223e-16\n",
      "Hue             0.178562    0.344063   45.634772  1.110223e-16\n",
      "OD              0.202180    0.257305   30.140964  5.761169e-12\n",
      "Proline         0.106532    0.608663  135.314643  1.110223e-16\n",
      "\n",
      "                Wilks L.  Partial L.          F       p-value\n",
      "Alcohol         0.061436    0.400567  57.802968  1.110223e-16\n",
      "MalicAcid       0.087059    0.150564  15.332251  7.409878e-07\n",
      "Ash             0.092910    0.093476   8.919425  2.057361e-04\n",
      "AlcAsh          0.080197    0.217516  24.045365  6.104312e-10\n",
      "Mg              0.097913    0.044665   4.044134  1.920771e-02\n",
      "Phenols         0.102102    0.003787   0.328844  5.035148e-02\n",
      "NonFlavPhenols  0.101199    0.012603   1.104050  3.338499e-01\n",
      "Proa            0.099492    0.029257   2.607039  7.664857e-02\n",
      "Hue             0.089314    0.128559  12.760888  6.769909e-06\n",
      "OD              0.092697    0.095560   9.139257  1.686019e-04\n",
      "Proline         0.047763    0.533981  99.114675  1.110223e-16\n",
      "\n",
      "                Wilks L.  Partial L.          F       p-value\n",
      "Alcohol         0.037155    0.222083  24.551631  4.171223e-10\n",
      "MalicAcid       0.039840    0.165865  17.100787  1.683979e-07\n",
      "Ash             0.043513    0.088977   8.399409  3.307570e-04\n",
      "AlcAsh          0.042391    0.112460  10.897034  3.500784e-05\n",
      "Mg              0.047442    0.006703   0.580336  1.815718e-01\n",
      "Phenols         0.047399    0.007620   0.660368  2.228781e-01\n",
      "NonFlavPhenols  0.047544    0.004568   0.394675  8.232124e-02\n",
      "Proa            0.046051    0.035831   3.196005  4.336728e-02\n",
      "Hue             0.042454    0.111150  10.754227  3.974216e-05\n",
      "OD              0.043078    0.098078   9.351949  1.394837e-04\n",
      "\n",
      "                Wilks L.  Partial L.          F   p-value\n",
      "MalicAcid       0.031883    0.141902  14.138991  0.000002\n",
      "Ash             0.033446    0.099843   9.483449  0.000124\n",
      "AlcAsh          0.033521    0.097820   9.270447  0.000151\n",
      "Mg              0.036874    0.007572   0.652369  0.218866\n",
      "Phenols         0.036774    0.010266   0.886811  0.326193\n",
      "NonFlavPhenols  0.037040    0.003096   0.265538  0.025088\n",
      "Proa            0.036260    0.024104   2.111762  0.124170\n",
      "Hue             0.032931    0.113703  10.968843  0.000033\n",
      "OD              0.033924    0.086980   8.145295  0.000418\n",
      "\n",
      "                Wilks L.  Partial L.         F   p-value\n",
      "Ash             0.029645    0.070193  6.416795  0.002058\n",
      "AlcAsh          0.029227    0.083314  7.725360  0.000615\n",
      "Mg              0.031624    0.008117  0.695589  0.240362\n",
      "Phenols         0.031556    0.010255  0.880674  0.323688\n",
      "NonFlavPhenols  0.031595    0.009039  0.775287  0.277994\n",
      "Proa            0.030902    0.030757  2.697303  0.070271\n",
      "Hue             0.030337    0.048475  4.330331  0.014645\n",
      "OD              0.028958    0.091747  8.586222  0.000280\n",
      "\n",
      "                Wilks L.  Partial L.         F   p-value\n",
      "Ash             0.026920    0.070376  6.396925  0.002099\n",
      "AlcAsh          0.026150    0.096958  9.072598  0.000181\n",
      "Mg              0.028769    0.006526  0.555036  0.168176\n",
      "Phenols         0.028206    0.025964  2.252412  0.108293\n",
      "NonFlavPhenols  0.028516    0.015251  1.308648  0.272909\n",
      "Proa            0.027936    0.035277  3.089951  0.048084\n",
      "Hue             0.027505    0.050175  4.463756  0.012909\n",
      "\n",
      "                Wilks L.  Partial L.          F   p-value\n",
      "Ash             0.022371    0.144503  14.188535  0.000002\n",
      "Mg              0.025987    0.006248   0.528095  0.153728\n",
      "Phenols         0.025397    0.028798   2.490743  0.085904\n",
      "NonFlavPhenols  0.025363    0.030095   2.606437  0.076780\n",
      "Proa            0.025203    0.036202   3.155195  0.045167\n",
      "Hue             0.024803    0.051499   4.560824  0.011780\n",
      "\n",
      "                Wilks L.  Partial L.         F   p-value\n",
      "Mg              0.022350    0.000932  0.077927  0.000007\n",
      "Phenols         0.021704    0.029828  2.567192  0.079777\n",
      "NonFlavPhenols  0.021362    0.045117  3.945289  0.021175\n",
      "Proa            0.021974    0.017750  1.508884  0.224156\n",
      "Hue             0.021014    0.060677  5.393777  0.005371\n",
      "\n",
      "                Wilks L.  Partial L.         F   p-value\n",
      "Mg              0.020994    0.000954  0.079261  0.000008\n",
      "Phenols         0.020385    0.029949  2.562532  0.080157\n",
      "NonFlavPhenols  0.020319    0.033065  2.838279  0.061370\n",
      "Proa            0.020639    0.017820  1.505907  0.224830\n",
      "\n"
     ]
    }
   ],
   "source": [
    "# Forward\n",
    "forward = STEPDISC(model=res_lda,method=\"forward\",alpha=0.01,model_train=True,verbose=True)"
   ]
  }
 ],
 "metadata": {
  "kernelspec": {
   "display_name": "Python 3",
   "language": "python",
   "name": "python3"
  },
  "language_info": {
   "codemirror_mode": {
    "name": "ipython",
    "version": 3
   },
   "file_extension": ".py",
   "mimetype": "text/x-python",
   "name": "python",
   "nbconvert_exporter": "python",
   "pygments_lexer": "ipython3",
   "version": "3.10.5"
  }
 },
 "nbformat": 4,
 "nbformat_minor": 2
}
