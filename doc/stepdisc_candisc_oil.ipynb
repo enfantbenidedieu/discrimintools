{
 "cells": [
  {
   "cell_type": "markdown",
   "metadata": {},
   "source": [
    "# STEPDISC with CANDISC model"
   ]
  },
  {
   "cell_type": "code",
   "execution_count": 1,
   "metadata": {},
   "outputs": [],
   "source": [
    "import warnings\n",
    "warnings.simplefilter(action='ignore', category=FutureWarning)\n",
    "warnings.filterwarnings(\"ignore\")"
   ]
  },
  {
   "cell_type": "code",
   "execution_count": 2,
   "metadata": {},
   "outputs": [
    {
     "name": "stdout",
     "output_type": "stream",
     "text": [
      "<class 'pandas.core.frame.DataFrame'>\n",
      "RangeIndex: 569 entries, 0 to 568\n",
      "Data columns (total 9 columns):\n",
      " #   Column       Non-Null Count  Dtype \n",
      "---  ------       --------------  ----- \n",
      " 0   CLASSE       569 non-null    object\n",
      " 1   palmitic     569 non-null    int64 \n",
      " 2   palmitoleic  569 non-null    int64 \n",
      " 3   stearic      569 non-null    int64 \n",
      " 4   oleic        569 non-null    int64 \n",
      " 5   linoleic     569 non-null    int64 \n",
      " 6   linolenic    569 non-null    int64 \n",
      " 7   arachidic    569 non-null    int64 \n",
      " 8   eicosenoic   569 non-null    int64 \n",
      "dtypes: int64(8), object(1)\n",
      "memory usage: 40.1+ KB\n"
     ]
    }
   ],
   "source": [
    "#importation des données\n",
    "import pandas as pd\n",
    "DTrain= pd.read_excel(\"./data/Olive_Oil_Candisc.xlsx\",sheet_name=\"dataset\")\n",
    "DTrain.info()"
   ]
  },
  {
   "cell_type": "code",
   "execution_count": 3,
   "metadata": {},
   "outputs": [
    {
     "data": {
      "text/html": [
       "<style>#sk-container-id-1 {color: black;background-color: white;}#sk-container-id-1 pre{padding: 0;}#sk-container-id-1 div.sk-toggleable {background-color: white;}#sk-container-id-1 label.sk-toggleable__label {cursor: pointer;display: block;width: 100%;margin-bottom: 0;padding: 0.3em;box-sizing: border-box;text-align: center;}#sk-container-id-1 label.sk-toggleable__label-arrow:before {content: \"▸\";float: left;margin-right: 0.25em;color: #696969;}#sk-container-id-1 label.sk-toggleable__label-arrow:hover:before {color: black;}#sk-container-id-1 div.sk-estimator:hover label.sk-toggleable__label-arrow:before {color: black;}#sk-container-id-1 div.sk-toggleable__content {max-height: 0;max-width: 0;overflow: hidden;text-align: left;background-color: #f0f8ff;}#sk-container-id-1 div.sk-toggleable__content pre {margin: 0.2em;color: black;border-radius: 0.25em;background-color: #f0f8ff;}#sk-container-id-1 input.sk-toggleable__control:checked~div.sk-toggleable__content {max-height: 200px;max-width: 100%;overflow: auto;}#sk-container-id-1 input.sk-toggleable__control:checked~label.sk-toggleable__label-arrow:before {content: \"▾\";}#sk-container-id-1 div.sk-estimator input.sk-toggleable__control:checked~label.sk-toggleable__label {background-color: #d4ebff;}#sk-container-id-1 div.sk-label input.sk-toggleable__control:checked~label.sk-toggleable__label {background-color: #d4ebff;}#sk-container-id-1 input.sk-hidden--visually {border: 0;clip: rect(1px 1px 1px 1px);clip: rect(1px, 1px, 1px, 1px);height: 1px;margin: -1px;overflow: hidden;padding: 0;position: absolute;width: 1px;}#sk-container-id-1 div.sk-estimator {font-family: monospace;background-color: #f0f8ff;border: 1px dotted black;border-radius: 0.25em;box-sizing: border-box;margin-bottom: 0.5em;}#sk-container-id-1 div.sk-estimator:hover {background-color: #d4ebff;}#sk-container-id-1 div.sk-parallel-item::after {content: \"\";width: 100%;border-bottom: 1px solid gray;flex-grow: 1;}#sk-container-id-1 div.sk-label:hover label.sk-toggleable__label {background-color: #d4ebff;}#sk-container-id-1 div.sk-serial::before {content: \"\";position: absolute;border-left: 1px solid gray;box-sizing: border-box;top: 0;bottom: 0;left: 50%;z-index: 0;}#sk-container-id-1 div.sk-serial {display: flex;flex-direction: column;align-items: center;background-color: white;padding-right: 0.2em;padding-left: 0.2em;position: relative;}#sk-container-id-1 div.sk-item {position: relative;z-index: 1;}#sk-container-id-1 div.sk-parallel {display: flex;align-items: stretch;justify-content: center;background-color: white;position: relative;}#sk-container-id-1 div.sk-item::before, #sk-container-id-1 div.sk-parallel-item::before {content: \"\";position: absolute;border-left: 1px solid gray;box-sizing: border-box;top: 0;bottom: 0;left: 50%;z-index: -1;}#sk-container-id-1 div.sk-parallel-item {display: flex;flex-direction: column;z-index: 1;position: relative;background-color: white;}#sk-container-id-1 div.sk-parallel-item:first-child::after {align-self: flex-end;width: 50%;}#sk-container-id-1 div.sk-parallel-item:last-child::after {align-self: flex-start;width: 50%;}#sk-container-id-1 div.sk-parallel-item:only-child::after {width: 0;}#sk-container-id-1 div.sk-dashed-wrapped {border: 1px dashed gray;margin: 0 0.4em 0.5em 0.4em;box-sizing: border-box;padding-bottom: 0.4em;background-color: white;}#sk-container-id-1 div.sk-label label {font-family: monospace;font-weight: bold;display: inline-block;line-height: 1.2em;}#sk-container-id-1 div.sk-label-container {text-align: center;}#sk-container-id-1 div.sk-container {/* jupyter's `normalize.less` sets `[hidden] { display: none; }` but bootstrap.min.css set `[hidden] { display: none !important; }` so we also need the `!important` here to be able to override the default hidden behavior on the sphinx rendered scikit-learn.org. See: https://github.com/scikit-learn/scikit-learn/issues/21755 */display: inline-block !important;position: relative;}#sk-container-id-1 div.sk-text-repr-fallback {display: none;}</style><div id=\"sk-container-id-1\" class=\"sk-top-container\"><div class=\"sk-text-repr-fallback\"><pre>CANDISC(n_components=2, priors=&#x27;prop&#x27;, target=[&#x27;CLASSE&#x27;])</pre><b>In a Jupyter environment, please rerun this cell to show the HTML representation or trust the notebook. <br />On GitHub, the HTML representation is unable to render, please try loading this page with nbviewer.org.</b></div><div class=\"sk-container\" hidden><div class=\"sk-item\"><div class=\"sk-estimator sk-toggleable\"><input class=\"sk-toggleable__control sk-hidden--visually\" id=\"sk-estimator-id-1\" type=\"checkbox\" checked><label for=\"sk-estimator-id-1\" class=\"sk-toggleable__label sk-toggleable__label-arrow\">CANDISC</label><div class=\"sk-toggleable__content\"><pre>CANDISC(n_components=2, priors=&#x27;prop&#x27;, target=[&#x27;CLASSE&#x27;])</pre></div></div></div></div></div>"
      ],
      "text/plain": [
       "CANDISC(n_components=2, priors='prop', target=['CLASSE'])"
      ]
     },
     "execution_count": 3,
     "metadata": {},
     "output_type": "execute_result"
    }
   ],
   "source": [
    "from discrimintools import CANDISC\n",
    "candisc = CANDISC(n_components=2,target=['CLASSE'],priors=\"prop\",parallelize=False)\n",
    "# Entraînement\n",
    "candisc.fit(DTrain)"
   ]
  },
  {
   "cell_type": "markdown",
   "metadata": {},
   "source": [
    "## Forward selection\n",
    "\n",
    "### Model selection"
   ]
  },
  {
   "cell_type": "code",
   "execution_count": 4,
   "metadata": {},
   "outputs": [
    {
     "name": "stdout",
     "output_type": "stream",
     "text": [
      "             Wilks L.  Partial L.            F       p-value\n",
      "palmitic     0.538509    0.461491   242.524854  1.110223e-16\n",
      "palmitoleic  0.604905    0.395095   184.841942  1.110223e-16\n",
      "stearic      0.998272    0.001728     0.489942  1.308464e-01\n",
      "oleic        0.473479    0.526521   314.703134  1.110223e-16\n",
      "linoleic     0.550371    0.449629   231.198312  1.110223e-16\n",
      "linolenic    0.687722    0.312278   128.503464  1.110223e-16\n",
      "arachidic    0.662890    0.337110   143.918675  1.110223e-16\n",
      "eicosenoic   0.202071    0.797929  1117.498522  1.110223e-16\n",
      "\n",
      "             Wilks L.  Partial L.           F       p-value\n",
      "palmitic     0.130129    0.356025  156.181332  1.110223e-16\n",
      "palmitoleic  0.123582    0.388421  179.418881  1.110223e-16\n",
      "stearic      0.184593    0.086494   26.748148  7.960743e-12\n",
      "oleic        0.102388    0.493307  275.036355  1.110223e-16\n",
      "linoleic     0.094108    0.534283  324.091029  1.110223e-16\n",
      "linolenic    0.195821    0.030927    9.015798  1.398527e-04\n",
      "arachidic    0.139761    0.308355  125.946400  1.110223e-16\n",
      "\n",
      "             Wilks L.  Partial L.           F       p-value\n",
      "palmitic     0.064624    0.313297  128.658103  1.110223e-16\n",
      "palmitoleic  0.054167    0.424414  207.935167  1.110223e-16\n",
      "stearic      0.088816    0.056230   16.801620  8.170662e-08\n",
      "oleic        0.070818    0.247485   92.743401  1.110223e-16\n",
      "linolenic    0.078805    0.162609   54.760308  1.110223e-16\n",
      "arachidic    0.064452    0.315126  129.754781  1.110223e-16\n",
      "\n",
      "           Wilks L.  Partial L.           F       p-value\n",
      "palmitic   0.051660    0.046294   13.664275  1.604028e-06\n",
      "stearic    0.053220    0.017479    5.007993  6.985163e-03\n",
      "oleic      0.051666    0.046172   13.626478  1.662907e-06\n",
      "linolenic  0.045867    0.153235   50.941613  1.110223e-16\n",
      "arachidic  0.039318    0.274139  106.315330  1.110223e-16\n",
      "\n",
      "           Wilks L.  Partial L.          F       p-value\n",
      "palmitic   0.036354    0.075390  22.912027  2.718440e-10\n",
      "stearic    0.038407    0.023180   6.668090  1.373760e-03\n",
      "oleic      0.037676    0.041772  12.249610  6.205177e-06\n",
      "linolenic  0.034623    0.119397  38.099399  3.330669e-16\n",
      "\n",
      "          Wilks L.  Partial L.          F   p-value\n",
      "palmitic  0.032986    0.047282  13.920669  0.000001\n",
      "stearic   0.034059    0.016309   4.650441  0.009929\n",
      "oleic     0.034059    0.016292   4.645700  0.009975\n",
      "\n",
      "         Wilks L.  Partial L.         F   p-value\n",
      "stearic  0.032434    0.016756  4.771705  0.008813\n",
      "oleic    0.032173    0.024665  7.080984  0.000918\n",
      "\n",
      "         Wilks L.  Partial L.         F  p-value\n",
      "stearic   0.03196     0.00662  1.862669  0.15622\n",
      "\n"
     ]
    }
   ],
   "source": [
    "from discrimintools import STEPDISC\n",
    "forward = STEPDISC(model=candisc,method=\"forward\",alpha=0.01,verbose=True,model_train=True)"
   ]
  },
  {
   "cell_type": "code",
   "execution_count": 5,
   "metadata": {},
   "outputs": [
    {
     "data": {
      "text/plain": [
       "['eicosenoic',\n",
       " 'linoleic',\n",
       " 'palmitoleic',\n",
       " 'arachidic',\n",
       " 'linolenic',\n",
       " 'palmitic',\n",
       " 'oleic']"
      ]
     },
     "execution_count": 5,
     "metadata": {},
     "output_type": "execute_result"
    }
   ],
   "source": [
    "forward.results_[\"selected\"]"
   ]
  },
  {
   "cell_type": "markdown",
   "metadata": {},
   "source": [
    "### Selected model"
   ]
  },
  {
   "cell_type": "code",
   "execution_count": 6,
   "metadata": {},
   "outputs": [
    {
     "data": {
      "text/html": [
       "<div>\n",
       "<style scoped>\n",
       "    .dataframe tbody tr th:only-of-type {\n",
       "        vertical-align: middle;\n",
       "    }\n",
       "\n",
       "    .dataframe tbody tr th {\n",
       "        vertical-align: top;\n",
       "    }\n",
       "\n",
       "    .dataframe thead th {\n",
       "        text-align: right;\n",
       "    }\n",
       "</style>\n",
       "<table border=\"1\" class=\"dataframe\">\n",
       "  <thead>\n",
       "    <tr style=\"text-align: right;\">\n",
       "      <th></th>\n",
       "      <th>LD1</th>\n",
       "      <th>LD2</th>\n",
       "    </tr>\n",
       "  </thead>\n",
       "  <tbody>\n",
       "    <tr>\n",
       "      <th>eicosenoic</th>\n",
       "      <td>0.164895</td>\n",
       "      <td>0.006711</td>\n",
       "    </tr>\n",
       "    <tr>\n",
       "      <th>linoleic</th>\n",
       "      <td>0.002930</td>\n",
       "      <td>-0.004031</td>\n",
       "    </tr>\n",
       "    <tr>\n",
       "      <th>palmitoleic</th>\n",
       "      <td>0.015002</td>\n",
       "      <td>0.015544</td>\n",
       "    </tr>\n",
       "    <tr>\n",
       "      <th>arachidic</th>\n",
       "      <td>-0.015674</td>\n",
       "      <td>-0.037365</td>\n",
       "    </tr>\n",
       "    <tr>\n",
       "      <th>linolenic</th>\n",
       "      <td>0.043514</td>\n",
       "      <td>0.001969</td>\n",
       "    </tr>\n",
       "    <tr>\n",
       "      <th>palmitic</th>\n",
       "      <td>0.004763</td>\n",
       "      <td>0.005819</td>\n",
       "    </tr>\n",
       "    <tr>\n",
       "      <th>oleic</th>\n",
       "      <td>0.002508</td>\n",
       "      <td>0.003384</td>\n",
       "    </tr>\n",
       "  </tbody>\n",
       "</table>\n",
       "</div>"
      ],
      "text/plain": [
       "                  LD1       LD2\n",
       "eicosenoic   0.164895  0.006711\n",
       "linoleic     0.002930 -0.004031\n",
       "palmitoleic  0.015002  0.015544\n",
       "arachidic   -0.015674 -0.037365\n",
       "linolenic    0.043514  0.001969\n",
       "palmitic     0.004763  0.005819\n",
       "oleic        0.002508  0.003384"
      ]
     },
     "execution_count": 6,
     "metadata": {},
     "output_type": "execute_result"
    }
   ],
   "source": [
    "forward.results_[\"train\"].coef_"
   ]
  },
  {
   "cell_type": "markdown",
   "metadata": {},
   "source": [
    "## Backward selection"
   ]
  },
  {
   "cell_type": "code",
   "execution_count": 7,
   "metadata": {},
   "outputs": [
    {
     "name": "stdout",
     "output_type": "stream",
     "text": [
      "             Wilks L.  Partial L.           F       p-value\n",
      "palmitic     0.032841    0.026839    7.708465  4.984126e-04\n",
      "palmitoleic  0.035653    0.103591   32.299625  5.317968e-14\n",
      "stearic      0.032173    0.006620    1.862669  1.562200e-01\n",
      "oleic        0.032434    0.014611    4.144304  1.634425e-02\n",
      "linoleic     0.032000    0.001256    0.351617  5.903470e-02\n",
      "linolenic    0.034732    0.079820   24.244906  7.988221e-11\n",
      "arachidic    0.038352    0.166662   55.898213  1.110223e-16\n",
      "eicosenoic   0.083220    0.615959  448.287368  1.110223e-16\n",
      "\n",
      "             Wilks L.  Partial L.           F       p-value\n",
      "palmitic     0.045758    0.300663  120.379199  1.110223e-16\n",
      "palmitoleic  0.037878    0.155182   51.432355  1.110223e-16\n",
      "stearic      0.033300    0.039042   11.375758  1.436455e-05\n",
      "oleic        0.067870    0.528510  313.861739  1.110223e-16\n",
      "linolenic    0.035097    0.088234   27.096220  5.853207e-12\n",
      "arachidic    0.040299    0.205935   72.616067  1.110223e-16\n",
      "eicosenoic   0.103504    0.690833  625.657980  1.110223e-16\n",
      "\n"
     ]
    }
   ],
   "source": [
    "backward = STEPDISC(model=candisc,method=\"backward\",alpha=0.01,verbose=True,model_train=True)"
   ]
  },
  {
   "cell_type": "code",
   "execution_count": 8,
   "metadata": {},
   "outputs": [
    {
     "data": {
      "text/plain": [
       "['palmitic',\n",
       " 'palmitoleic',\n",
       " 'stearic',\n",
       " 'oleic',\n",
       " 'linolenic',\n",
       " 'arachidic',\n",
       " 'eicosenoic']"
      ]
     },
     "execution_count": 8,
     "metadata": {},
     "output_type": "execute_result"
    }
   ],
   "source": [
    "backward.results_[\"selected\"]"
   ]
  }
 ],
 "metadata": {
  "kernelspec": {
   "display_name": "Python 3",
   "language": "python",
   "name": "python3"
  },
  "language_info": {
   "codemirror_mode": {
    "name": "ipython",
    "version": 3
   },
   "file_extension": ".py",
   "mimetype": "text/x-python",
   "name": "python",
   "nbconvert_exporter": "python",
   "pygments_lexer": "ipython3",
   "version": "3.10.5"
  }
 },
 "nbformat": 4,
 "nbformat_minor": 2
}
