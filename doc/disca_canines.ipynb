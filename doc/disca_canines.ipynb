{
 "cells": [
  {
   "cell_type": "markdown",
   "metadata": {},
   "source": [
    "# DISCA with canines dataset"
   ]
  },
  {
   "cell_type": "code",
   "execution_count": 1,
   "metadata": {},
   "outputs": [],
   "source": [
    "import warnings\n",
    "warnings.simplefilter(action='ignore', category=FutureWarning)\n",
    "warnings.filterwarnings(\"ignore\")"
   ]
  },
  {
   "cell_type": "code",
   "execution_count": 2,
   "metadata": {},
   "outputs": [
    {
     "name": "stdout",
     "output_type": "stream",
     "text": [
      "<class 'pandas.core.frame.DataFrame'>\n",
      "Index: 27 entries, Beauceron to Terre-Neuve\n",
      "Data columns (total 7 columns):\n",
      " #   Column        Non-Null Count  Dtype \n",
      "---  ------        --------------  ----- \n",
      " 0   Taille        27 non-null     object\n",
      " 1   Poids         27 non-null     object\n",
      " 2   Velocite      27 non-null     object\n",
      " 3   Intelligence  27 non-null     object\n",
      " 4   Affection     27 non-null     object\n",
      " 5   Agressivite   27 non-null     object\n",
      " 6   Fonction      27 non-null     object\n",
      "dtypes: object(7)\n",
      "memory usage: 1.7+ KB\n"
     ]
    }
   ],
   "source": [
    "# Load dataset\n",
    "from discrimintools.datasets import load_canines\n",
    "canines = load_canines()\n",
    "canines.info()"
   ]
  },
  {
   "cell_type": "code",
   "execution_count": 3,
   "metadata": {},
   "outputs": [
    {
     "data": {
      "text/html": [
       "<style>#sk-container-id-1 {color: black;background-color: white;}#sk-container-id-1 pre{padding: 0;}#sk-container-id-1 div.sk-toggleable {background-color: white;}#sk-container-id-1 label.sk-toggleable__label {cursor: pointer;display: block;width: 100%;margin-bottom: 0;padding: 0.3em;box-sizing: border-box;text-align: center;}#sk-container-id-1 label.sk-toggleable__label-arrow:before {content: \"▸\";float: left;margin-right: 0.25em;color: #696969;}#sk-container-id-1 label.sk-toggleable__label-arrow:hover:before {color: black;}#sk-container-id-1 div.sk-estimator:hover label.sk-toggleable__label-arrow:before {color: black;}#sk-container-id-1 div.sk-toggleable__content {max-height: 0;max-width: 0;overflow: hidden;text-align: left;background-color: #f0f8ff;}#sk-container-id-1 div.sk-toggleable__content pre {margin: 0.2em;color: black;border-radius: 0.25em;background-color: #f0f8ff;}#sk-container-id-1 input.sk-toggleable__control:checked~div.sk-toggleable__content {max-height: 200px;max-width: 100%;overflow: auto;}#sk-container-id-1 input.sk-toggleable__control:checked~label.sk-toggleable__label-arrow:before {content: \"▾\";}#sk-container-id-1 div.sk-estimator input.sk-toggleable__control:checked~label.sk-toggleable__label {background-color: #d4ebff;}#sk-container-id-1 div.sk-label input.sk-toggleable__control:checked~label.sk-toggleable__label {background-color: #d4ebff;}#sk-container-id-1 input.sk-hidden--visually {border: 0;clip: rect(1px 1px 1px 1px);clip: rect(1px, 1px, 1px, 1px);height: 1px;margin: -1px;overflow: hidden;padding: 0;position: absolute;width: 1px;}#sk-container-id-1 div.sk-estimator {font-family: monospace;background-color: #f0f8ff;border: 1px dotted black;border-radius: 0.25em;box-sizing: border-box;margin-bottom: 0.5em;}#sk-container-id-1 div.sk-estimator:hover {background-color: #d4ebff;}#sk-container-id-1 div.sk-parallel-item::after {content: \"\";width: 100%;border-bottom: 1px solid gray;flex-grow: 1;}#sk-container-id-1 div.sk-label:hover label.sk-toggleable__label {background-color: #d4ebff;}#sk-container-id-1 div.sk-serial::before {content: \"\";position: absolute;border-left: 1px solid gray;box-sizing: border-box;top: 0;bottom: 0;left: 50%;z-index: 0;}#sk-container-id-1 div.sk-serial {display: flex;flex-direction: column;align-items: center;background-color: white;padding-right: 0.2em;padding-left: 0.2em;position: relative;}#sk-container-id-1 div.sk-item {position: relative;z-index: 1;}#sk-container-id-1 div.sk-parallel {display: flex;align-items: stretch;justify-content: center;background-color: white;position: relative;}#sk-container-id-1 div.sk-item::before, #sk-container-id-1 div.sk-parallel-item::before {content: \"\";position: absolute;border-left: 1px solid gray;box-sizing: border-box;top: 0;bottom: 0;left: 50%;z-index: -1;}#sk-container-id-1 div.sk-parallel-item {display: flex;flex-direction: column;z-index: 1;position: relative;background-color: white;}#sk-container-id-1 div.sk-parallel-item:first-child::after {align-self: flex-end;width: 50%;}#sk-container-id-1 div.sk-parallel-item:last-child::after {align-self: flex-start;width: 50%;}#sk-container-id-1 div.sk-parallel-item:only-child::after {width: 0;}#sk-container-id-1 div.sk-dashed-wrapped {border: 1px dashed gray;margin: 0 0.4em 0.5em 0.4em;box-sizing: border-box;padding-bottom: 0.4em;background-color: white;}#sk-container-id-1 div.sk-label label {font-family: monospace;font-weight: bold;display: inline-block;line-height: 1.2em;}#sk-container-id-1 div.sk-label-container {text-align: center;}#sk-container-id-1 div.sk-container {/* jupyter's `normalize.less` sets `[hidden] { display: none; }` but bootstrap.min.css set `[hidden] { display: none !important; }` so we also need the `!important` here to be able to override the default hidden behavior on the sphinx rendered scikit-learn.org. See: https://github.com/scikit-learn/scikit-learn/issues/21755 */display: inline-block !important;position: relative;}#sk-container-id-1 div.sk-text-repr-fallback {display: none;}</style><div id=\"sk-container-id-1\" class=\"sk-top-container\"><div class=\"sk-text-repr-fallback\"><pre>DISCA(priors=&#x27;prop&#x27;, target=[&#x27;Fonction&#x27;])</pre><b>In a Jupyter environment, please rerun this cell to show the HTML representation or trust the notebook. <br />On GitHub, the HTML representation is unable to render, please try loading this page with nbviewer.org.</b></div><div class=\"sk-container\" hidden><div class=\"sk-item\"><div class=\"sk-estimator sk-toggleable\"><input class=\"sk-toggleable__control sk-hidden--visually\" id=\"sk-estimator-id-1\" type=\"checkbox\" checked><label for=\"sk-estimator-id-1\" class=\"sk-toggleable__label sk-toggleable__label-arrow\">DISCA</label><div class=\"sk-toggleable__content\"><pre>DISCA(priors=&#x27;prop&#x27;, target=[&#x27;Fonction&#x27;])</pre></div></div></div></div></div>"
      ],
      "text/plain": [
       "DISCA(priors='prop', target=['Fonction'])"
      ]
     },
     "execution_count": 3,
     "metadata": {},
     "output_type": "execute_result"
    }
   ],
   "source": [
    "# Load DISCA\n",
    "from discrimintools import DISCA\n",
    "res_disca = DISCA(n_components=2,target=[\"Fonction\"],priors=\"prop\")\n",
    "res_disca.fit(canines)"
   ]
  },
  {
   "cell_type": "code",
   "execution_count": 4,
   "metadata": {},
   "outputs": [
    {
     "name": "stdout",
     "output_type": "stream",
     "text": [
      "                     Discriminant Correspondence Analysis - Results                     \n",
      "\n",
      "\n",
      "Class Level information\n",
      "\n",
      "           Frequency  Proportion  Prior Probability\n",
      "Fonction                                           \n",
      "compagnie         10    0.370370           0.370370\n",
      "chasse             9    0.333333           0.333333\n",
      "utilite            8    0.296296           0.296296\n",
      "\n",
      "Canonical coefficients (the 10 first)\n",
      "\n",
      "                      Dim.1  Dim.2\n",
      "Taille_Taille+        0.174 -0.131\n",
      "Taille_Taille++      -0.191 -0.003\n",
      "Taille_Taille-        0.284  0.100\n",
      "Poids_Poids+         -0.045 -0.234\n",
      "Poids_Poids++        -0.340  0.469\n",
      "Poids_Poids-          0.291  0.116\n",
      "Velocite_Veloc+       0.132 -0.221\n",
      "Velocite_Veloc++     -0.149 -0.064\n",
      "Velocite_Veloc-       0.028  0.235\n",
      "Intelligence_Intell+  0.088  0.077\n",
      "\n",
      "Individuals (the 10 first)\n",
      "\n",
      "             Dim.1  Dim.2\n",
      "Chien                    \n",
      "Beauceron   -0.232  0.060\n",
      "Basset       0.242  0.296\n",
      "Berger All  -0.460  0.032\n",
      "Boxer        0.414 -0.224\n",
      "Bull-Dog     0.991  0.523\n",
      "Bull-Mastif -0.964  0.755\n",
      "Caniche      0.867  0.040\n",
      "Chihuahua    0.863  0.285\n",
      "Cocker       0.646  0.582\n",
      "Colley       0.004 -0.230\n",
      "\n",
      "Categories (the 10 first)\n",
      "\n",
      "                      Dim.1     ctr   cos2  Dim.2     ctr   cos2\n",
      "Taille_Taille+        0.615   3.380  0.838 -0.271   1.908  0.162\n",
      "Taille_Taille++      -0.672  12.100  1.000 -0.006   0.003  0.000\n",
      "Taille_Taille-        1.001  12.518  0.959  0.207   1.565  0.041\n",
      "Poids_Poids+         -0.159   0.631  0.098 -0.483  17.019  0.902\n",
      "Poids_Poids++        -1.199  12.835  0.606  0.968  24.407  0.394\n",
      "Poids_Poids-          1.028  15.082  0.948  0.240   2.408  0.052\n",
      "Velocite_Veloc+       0.466   3.094  0.510 -0.456   8.684  0.490\n",
      "Velocite_Veloc++     -0.524   4.415  0.939 -0.133   0.831  0.061\n",
      "Velocite_Veloc-       0.099   0.177  0.040  0.485  12.252  0.960\n",
      "Intelligence_Intell+  0.312   2.258  0.796  0.158   1.694  0.204\n",
      "\n",
      "Groups\n",
      "\n",
      "           Dim.1     ctr   cos2  Dim.2     ctr   cos2\n",
      "chasse    -0.167   2.692  0.109 -0.477  63.975  0.891\n",
      "compagnie  0.715  54.691  0.951  0.163   8.272  0.049\n",
      "utilite   -0.705  42.617  0.818  0.333  27.753  0.182\n"
     ]
    }
   ],
   "source": [
    "from discrimintools import summaryDISCA\n",
    "summaryDISCA(res_disca)"
   ]
  },
  {
   "cell_type": "markdown",
   "metadata": {},
   "source": [
    "## Individuals informations\n",
    "\n",
    "### Coordinates"
   ]
  },
  {
   "cell_type": "code",
   "execution_count": 5,
   "metadata": {},
   "outputs": [
    {
     "data": {
      "text/plain": [
       "dict_keys(['coord'])"
      ]
     },
     "execution_count": 5,
     "metadata": {},
     "output_type": "execute_result"
    }
   ],
   "source": [
    "from discrimintools import get_disca_ind\n",
    "ind = get_disca_ind(res_disca)\n",
    "ind.keys()"
   ]
  },
  {
   "cell_type": "code",
   "execution_count": 6,
   "metadata": {},
   "outputs": [
    {
     "data": {
      "text/html": [
       "<div>\n",
       "<style scoped>\n",
       "    .dataframe tbody tr th:only-of-type {\n",
       "        vertical-align: middle;\n",
       "    }\n",
       "\n",
       "    .dataframe tbody tr th {\n",
       "        vertical-align: top;\n",
       "    }\n",
       "\n",
       "    .dataframe thead th {\n",
       "        text-align: right;\n",
       "    }\n",
       "</style>\n",
       "<table border=\"1\" class=\"dataframe\">\n",
       "  <thead>\n",
       "    <tr style=\"text-align: right;\">\n",
       "      <th></th>\n",
       "      <th>Dim.1</th>\n",
       "      <th>Dim.2</th>\n",
       "    </tr>\n",
       "    <tr>\n",
       "      <th>Chien</th>\n",
       "      <th></th>\n",
       "      <th></th>\n",
       "    </tr>\n",
       "  </thead>\n",
       "  <tbody>\n",
       "    <tr>\n",
       "      <th>Beauceron</th>\n",
       "      <td>-0.231936</td>\n",
       "      <td>0.060037</td>\n",
       "    </tr>\n",
       "    <tr>\n",
       "      <th>Basset</th>\n",
       "      <td>0.241638</td>\n",
       "      <td>0.295881</td>\n",
       "    </tr>\n",
       "    <tr>\n",
       "      <th>Berger All</th>\n",
       "      <td>-0.459741</td>\n",
       "      <td>0.032325</td>\n",
       "    </tr>\n",
       "    <tr>\n",
       "      <th>Boxer</th>\n",
       "      <td>0.413511</td>\n",
       "      <td>-0.224446</td>\n",
       "    </tr>\n",
       "    <tr>\n",
       "      <th>Bull-Dog</th>\n",
       "      <td>0.990876</td>\n",
       "      <td>0.523040</td>\n",
       "    </tr>\n",
       "    <tr>\n",
       "      <th>Bull-Mastif</th>\n",
       "      <td>-0.963955</td>\n",
       "      <td>0.754635</td>\n",
       "    </tr>\n",
       "  </tbody>\n",
       "</table>\n",
       "</div>"
      ],
      "text/plain": [
       "                Dim.1     Dim.2\n",
       "Chien                          \n",
       "Beauceron   -0.231936  0.060037\n",
       "Basset       0.241638  0.295881\n",
       "Berger All  -0.459741  0.032325\n",
       "Boxer        0.413511 -0.224446\n",
       "Bull-Dog     0.990876  0.523040\n",
       "Bull-Mastif -0.963955  0.754635"
      ]
     },
     "execution_count": 6,
     "metadata": {},
     "output_type": "execute_result"
    }
   ],
   "source": [
    "ind[\"coord\"].head(6)"
   ]
  },
  {
   "cell_type": "code",
   "execution_count": 7,
   "metadata": {},
   "outputs": [
    {
     "data": {
      "image/png": "[encoded data removed]",
      "text/plain": [
       "<Figure size 432x288 with 1 Axes>"
      ]
     },
     "metadata": {
      "needs_background": "light"
     },
     "output_type": "display_data"
    },
    {
     "name": "stdout",
     "output_type": "stream",
     "text": [
      "\n"
     ]
    }
   ],
   "source": [
    "from discrimintools import fviz_disca_ind\n",
    "p = fviz_disca_ind(res_disca,repel=True)\n",
    "print(p)"
   ]
  },
  {
   "cell_type": "markdown",
   "metadata": {},
   "source": [
    "## Variables/categories informations"
   ]
  },
  {
   "cell_type": "code",
   "execution_count": 8,
   "metadata": {},
   "outputs": [
    {
     "data": {
      "text/plain": [
       "dict_keys(['coord', 'contrib', 'cos2', 'infos'])"
      ]
     },
     "execution_count": 8,
     "metadata": {},
     "output_type": "execute_result"
    }
   ],
   "source": [
    "from discrimintools import get_disca_var\n",
    "var = get_disca_var(res_disca)\n",
    "var.keys()"
   ]
  },
  {
   "cell_type": "markdown",
   "metadata": {},
   "source": [
    "### Coordinates"
   ]
  },
  {
   "cell_type": "code",
   "execution_count": 9,
   "metadata": {},
   "outputs": [
    {
     "data": {
      "text/html": [
       "<div>\n",
       "<style scoped>\n",
       "    .dataframe tbody tr th:only-of-type {\n",
       "        vertical-align: middle;\n",
       "    }\n",
       "\n",
       "    .dataframe tbody tr th {\n",
       "        vertical-align: top;\n",
       "    }\n",
       "\n",
       "    .dataframe thead th {\n",
       "        text-align: right;\n",
       "    }\n",
       "</style>\n",
       "<table border=\"1\" class=\"dataframe\">\n",
       "  <thead>\n",
       "    <tr style=\"text-align: right;\">\n",
       "      <th></th>\n",
       "      <th>Dim.1</th>\n",
       "      <th>Dim.2</th>\n",
       "    </tr>\n",
       "  </thead>\n",
       "  <tbody>\n",
       "    <tr>\n",
       "      <th>Taille_Taille+</th>\n",
       "      <td>0.615447</td>\n",
       "      <td>-0.270601</td>\n",
       "    </tr>\n",
       "    <tr>\n",
       "      <th>Taille_Taille++</th>\n",
       "      <td>-0.672278</td>\n",
       "      <td>-0.006473</td>\n",
       "    </tr>\n",
       "    <tr>\n",
       "      <th>Taille_Taille-</th>\n",
       "      <td>1.000991</td>\n",
       "      <td>0.207157</td>\n",
       "    </tr>\n",
       "    <tr>\n",
       "      <th>Poids_Poids+</th>\n",
       "      <td>-0.158972</td>\n",
       "      <td>-0.482984</td>\n",
       "    </tr>\n",
       "    <tr>\n",
       "      <th>Poids_Poids++</th>\n",
       "      <td>-1.199302</td>\n",
       "      <td>0.967820</td>\n",
       "    </tr>\n",
       "    <tr>\n",
       "      <th>Poids_Poids-</th>\n",
       "      <td>1.027765</td>\n",
       "      <td>0.240335</td>\n",
       "    </tr>\n",
       "  </tbody>\n",
       "</table>\n",
       "</div>"
      ],
      "text/plain": [
       "                    Dim.1     Dim.2\n",
       "Taille_Taille+   0.615447 -0.270601\n",
       "Taille_Taille++ -0.672278 -0.006473\n",
       "Taille_Taille-   1.000991  0.207157\n",
       "Poids_Poids+    -0.158972 -0.482984\n",
       "Poids_Poids++   -1.199302  0.967820\n",
       "Poids_Poids-     1.027765  0.240335"
      ]
     },
     "execution_count": 9,
     "metadata": {},
     "output_type": "execute_result"
    }
   ],
   "source": [
    "# Coordinates\n",
    "var[\"coord\"].head(6)"
   ]
  },
  {
   "cell_type": "code",
   "execution_count": 10,
   "metadata": {},
   "outputs": [
    {
     "data": {
      "image/png": "[encoded data removed]",
      "text/plain": [
       "<Figure size 640x480 with 1 Axes>"
      ]
     },
     "metadata": {
      "needs_background": "light"
     },
     "output_type": "display_data"
    },
    {
     "name": "stdout",
     "output_type": "stream",
     "text": [
      "\n"
     ]
    }
   ],
   "source": [
    "# Variables/categories factor map\n",
    "from discrimintools import fviz_disca_mod\n",
    "p = fviz_disca_mod(res_disca,repel=True)\n",
    "print(p)"
   ]
  },
  {
   "cell_type": "markdown",
   "metadata": {},
   "source": [
    "### Contributions"
   ]
  },
  {
   "cell_type": "code",
   "execution_count": 11,
   "metadata": {},
   "outputs": [
    {
     "data": {
      "text/html": [
       "<div>\n",
       "<style scoped>\n",
       "    .dataframe tbody tr th:only-of-type {\n",
       "        vertical-align: middle;\n",
       "    }\n",
       "\n",
       "    .dataframe tbody tr th {\n",
       "        vertical-align: top;\n",
       "    }\n",
       "\n",
       "    .dataframe thead th {\n",
       "        text-align: right;\n",
       "    }\n",
       "</style>\n",
       "<table border=\"1\" class=\"dataframe\">\n",
       "  <thead>\n",
       "    <tr style=\"text-align: right;\">\n",
       "      <th></th>\n",
       "      <th>Dim.1</th>\n",
       "      <th>Dim.2</th>\n",
       "    </tr>\n",
       "  </thead>\n",
       "  <tbody>\n",
       "    <tr>\n",
       "      <th>Taille_Taille+</th>\n",
       "      <td>3.380111</td>\n",
       "      <td>1.908012</td>\n",
       "    </tr>\n",
       "    <tr>\n",
       "      <th>Taille_Taille++</th>\n",
       "      <td>12.099553</td>\n",
       "      <td>0.003275</td>\n",
       "    </tr>\n",
       "    <tr>\n",
       "      <th>Taille_Taille-</th>\n",
       "      <td>12.518107</td>\n",
       "      <td>1.565485</td>\n",
       "    </tr>\n",
       "    <tr>\n",
       "      <th>Poids_Poids+</th>\n",
       "      <td>0.631468</td>\n",
       "      <td>17.019410</td>\n",
       "    </tr>\n",
       "    <tr>\n",
       "      <th>Poids_Poids++</th>\n",
       "      <td>12.835325</td>\n",
       "      <td>24.406737</td>\n",
       "    </tr>\n",
       "    <tr>\n",
       "      <th>Poids_Poids-</th>\n",
       "      <td>15.081961</td>\n",
       "      <td>2.408099</td>\n",
       "    </tr>\n",
       "  </tbody>\n",
       "</table>\n",
       "</div>"
      ],
      "text/plain": [
       "                     Dim.1      Dim.2\n",
       "Taille_Taille+    3.380111   1.908012\n",
       "Taille_Taille++  12.099553   0.003275\n",
       "Taille_Taille-   12.518107   1.565485\n",
       "Poids_Poids+      0.631468  17.019410\n",
       "Poids_Poids++    12.835325  24.406737\n",
       "Poids_Poids-     15.081961   2.408099"
      ]
     },
     "execution_count": 11,
     "metadata": {},
     "output_type": "execute_result"
    }
   ],
   "source": [
    "# Contributions\n",
    "var[\"contrib\"].head(6)"
   ]
  },
  {
   "cell_type": "markdown",
   "metadata": {},
   "source": [
    "### Square cosinus (Cos2)"
   ]
  },
  {
   "cell_type": "code",
   "execution_count": 12,
   "metadata": {},
   "outputs": [
    {
     "data": {
      "text/html": [
       "<div>\n",
       "<style scoped>\n",
       "    .dataframe tbody tr th:only-of-type {\n",
       "        vertical-align: middle;\n",
       "    }\n",
       "\n",
       "    .dataframe tbody tr th {\n",
       "        vertical-align: top;\n",
       "    }\n",
       "\n",
       "    .dataframe thead th {\n",
       "        text-align: right;\n",
       "    }\n",
       "</style>\n",
       "<table border=\"1\" class=\"dataframe\">\n",
       "  <thead>\n",
       "    <tr style=\"text-align: right;\">\n",
       "      <th></th>\n",
       "      <th>Dim.1</th>\n",
       "      <th>Dim.2</th>\n",
       "    </tr>\n",
       "  </thead>\n",
       "  <tbody>\n",
       "    <tr>\n",
       "      <th>Taille_Taille+</th>\n",
       "      <td>0.837997</td>\n",
       "      <td>0.162003</td>\n",
       "    </tr>\n",
       "    <tr>\n",
       "      <th>Taille_Taille++</th>\n",
       "      <td>0.999907</td>\n",
       "      <td>0.000093</td>\n",
       "    </tr>\n",
       "    <tr>\n",
       "      <th>Taille_Taille-</th>\n",
       "      <td>0.958930</td>\n",
       "      <td>0.041070</td>\n",
       "    </tr>\n",
       "    <tr>\n",
       "      <th>Poids_Poids+</th>\n",
       "      <td>0.097748</td>\n",
       "      <td>0.902252</td>\n",
       "    </tr>\n",
       "    <tr>\n",
       "      <th>Poids_Poids++</th>\n",
       "      <td>0.605610</td>\n",
       "      <td>0.394390</td>\n",
       "    </tr>\n",
       "    <tr>\n",
       "      <th>Poids_Poids-</th>\n",
       "      <td>0.948153</td>\n",
       "      <td>0.051847</td>\n",
       "    </tr>\n",
       "  </tbody>\n",
       "</table>\n",
       "</div>"
      ],
      "text/plain": [
       "                    Dim.1     Dim.2\n",
       "Taille_Taille+   0.837997  0.162003\n",
       "Taille_Taille++  0.999907  0.000093\n",
       "Taille_Taille-   0.958930  0.041070\n",
       "Poids_Poids+     0.097748  0.902252\n",
       "Poids_Poids++    0.605610  0.394390\n",
       "Poids_Poids-     0.948153  0.051847"
      ]
     },
     "execution_count": 12,
     "metadata": {},
     "output_type": "execute_result"
    }
   ],
   "source": [
    "# Square cosinus (Cos2)\n",
    "var[\"cos2\"].head(6)"
   ]
  },
  {
   "cell_type": "markdown",
   "metadata": {},
   "source": [
    "### Additionals informations"
   ]
  },
  {
   "cell_type": "code",
   "execution_count": 13,
   "metadata": {},
   "outputs": [
    {
     "data": {
      "text/html": [
       "<div>\n",
       "<style scoped>\n",
       "    .dataframe tbody tr th:only-of-type {\n",
       "        vertical-align: middle;\n",
       "    }\n",
       "\n",
       "    .dataframe tbody tr th {\n",
       "        vertical-align: top;\n",
       "    }\n",
       "\n",
       "    .dataframe thead th {\n",
       "        text-align: right;\n",
       "    }\n",
       "</style>\n",
       "<table border=\"1\" class=\"dataframe\">\n",
       "  <thead>\n",
       "    <tr style=\"text-align: right;\">\n",
       "      <th></th>\n",
       "      <th>dist</th>\n",
       "      <th>marge</th>\n",
       "      <th>inertia</th>\n",
       "    </tr>\n",
       "  </thead>\n",
       "  <tbody>\n",
       "    <tr>\n",
       "      <th>Taille_Taille+</th>\n",
       "      <td>0.672309</td>\n",
       "      <td>0.030864</td>\n",
       "      <td>0.013951</td>\n",
       "    </tr>\n",
       "    <tr>\n",
       "      <th>Taille_Taille++</th>\n",
       "      <td>0.672309</td>\n",
       "      <td>0.092593</td>\n",
       "      <td>0.041852</td>\n",
       "    </tr>\n",
       "    <tr>\n",
       "      <th>Taille_Taille-</th>\n",
       "      <td>1.022203</td>\n",
       "      <td>0.043210</td>\n",
       "      <td>0.045150</td>\n",
       "    </tr>\n",
       "    <tr>\n",
       "      <th>Poids_Poids+</th>\n",
       "      <td>0.508474</td>\n",
       "      <td>0.086420</td>\n",
       "      <td>0.022343</td>\n",
       "    </tr>\n",
       "    <tr>\n",
       "      <th>Poids_Poids++</th>\n",
       "      <td>1.541104</td>\n",
       "      <td>0.030864</td>\n",
       "      <td>0.073302</td>\n",
       "    </tr>\n",
       "    <tr>\n",
       "      <th>Poids_Poids-</th>\n",
       "      <td>1.055492</td>\n",
       "      <td>0.049383</td>\n",
       "      <td>0.055015</td>\n",
       "    </tr>\n",
       "  </tbody>\n",
       "</table>\n",
       "</div>"
      ],
      "text/plain": [
       "                     dist     marge   inertia\n",
       "Taille_Taille+   0.672309  0.030864  0.013951\n",
       "Taille_Taille++  0.672309  0.092593  0.041852\n",
       "Taille_Taille-   1.022203  0.043210  0.045150\n",
       "Poids_Poids+     0.508474  0.086420  0.022343\n",
       "Poids_Poids++    1.541104  0.030864  0.073302\n",
       "Poids_Poids-     1.055492  0.049383  0.055015"
      ]
     },
     "execution_count": 13,
     "metadata": {},
     "output_type": "execute_result"
    }
   ],
   "source": [
    "# Additionals informations\n",
    "var[\"infos\"].head(6)"
   ]
  },
  {
   "cell_type": "markdown",
   "metadata": {},
   "source": [
    "## Groups/classes"
   ]
  },
  {
   "cell_type": "code",
   "execution_count": 14,
   "metadata": {},
   "outputs": [
    {
     "data": {
      "text/plain": [
       "dict_keys(['coord', 'contrib', 'cos2', 'infos', 'classes', 'dist2', 'dist'])"
      ]
     },
     "execution_count": 14,
     "metadata": {},
     "output_type": "execute_result"
    }
   ],
   "source": [
    "#\n",
    "from discrimintools import get_disca_classes\n",
    "classes = get_disca_classes(res_disca)\n",
    "classes.keys()"
   ]
  },
  {
   "cell_type": "markdown",
   "metadata": {},
   "source": [
    "### Coordinates"
   ]
  },
  {
   "cell_type": "code",
   "execution_count": 15,
   "metadata": {},
   "outputs": [
    {
     "data": {
      "text/html": [
       "<div>\n",
       "<style scoped>\n",
       "    .dataframe tbody tr th:only-of-type {\n",
       "        vertical-align: middle;\n",
       "    }\n",
       "\n",
       "    .dataframe tbody tr th {\n",
       "        vertical-align: top;\n",
       "    }\n",
       "\n",
       "    .dataframe thead th {\n",
       "        text-align: right;\n",
       "    }\n",
       "</style>\n",
       "<table border=\"1\" class=\"dataframe\">\n",
       "  <thead>\n",
       "    <tr style=\"text-align: right;\">\n",
       "      <th></th>\n",
       "      <th>Dim.1</th>\n",
       "      <th>Dim.2</th>\n",
       "    </tr>\n",
       "  </thead>\n",
       "  <tbody>\n",
       "    <tr>\n",
       "      <th>chasse</th>\n",
       "      <td>-0.167113</td>\n",
       "      <td>-0.476797</td>\n",
       "    </tr>\n",
       "    <tr>\n",
       "      <th>compagnie</th>\n",
       "      <td>0.714651</td>\n",
       "      <td>0.162645</td>\n",
       "    </tr>\n",
       "    <tr>\n",
       "      <th>utilite</th>\n",
       "      <td>-0.705312</td>\n",
       "      <td>0.333090</td>\n",
       "    </tr>\n",
       "  </tbody>\n",
       "</table>\n",
       "</div>"
      ],
      "text/plain": [
       "              Dim.1     Dim.2\n",
       "chasse    -0.167113 -0.476797\n",
       "compagnie  0.714651  0.162645\n",
       "utilite   -0.705312  0.333090"
      ]
     },
     "execution_count": 15,
     "metadata": {},
     "output_type": "execute_result"
    }
   ],
   "source": [
    "# classes factor coordinates\n",
    "classes[\"coord\"]"
   ]
  },
  {
   "cell_type": "markdown",
   "metadata": {},
   "source": [
    "### Contributions"
   ]
  },
  {
   "cell_type": "code",
   "execution_count": 16,
   "metadata": {},
   "outputs": [
    {
     "data": {
      "text/html": [
       "<div>\n",
       "<style scoped>\n",
       "    .dataframe tbody tr th:only-of-type {\n",
       "        vertical-align: middle;\n",
       "    }\n",
       "\n",
       "    .dataframe tbody tr th {\n",
       "        vertical-align: top;\n",
       "    }\n",
       "\n",
       "    .dataframe thead th {\n",
       "        text-align: right;\n",
       "    }\n",
       "</style>\n",
       "<table border=\"1\" class=\"dataframe\">\n",
       "  <thead>\n",
       "    <tr style=\"text-align: right;\">\n",
       "      <th></th>\n",
       "      <th>Dim.1</th>\n",
       "      <th>Dim.2</th>\n",
       "    </tr>\n",
       "  </thead>\n",
       "  <tbody>\n",
       "    <tr>\n",
       "      <th>chasse</th>\n",
       "      <td>2.691509</td>\n",
       "      <td>63.975158</td>\n",
       "    </tr>\n",
       "    <tr>\n",
       "      <th>compagnie</th>\n",
       "      <td>54.691459</td>\n",
       "      <td>8.271504</td>\n",
       "    </tr>\n",
       "    <tr>\n",
       "      <th>utilite</th>\n",
       "      <td>42.617032</td>\n",
       "      <td>27.753338</td>\n",
       "    </tr>\n",
       "  </tbody>\n",
       "</table>\n",
       "</div>"
      ],
      "text/plain": [
       "               Dim.1      Dim.2\n",
       "chasse      2.691509  63.975158\n",
       "compagnie  54.691459   8.271504\n",
       "utilite    42.617032  27.753338"
      ]
     },
     "execution_count": 16,
     "metadata": {},
     "output_type": "execute_result"
    }
   ],
   "source": [
    "# classes contributions\n",
    "classes[\"contrib\"]"
   ]
  },
  {
   "cell_type": "markdown",
   "metadata": {},
   "source": [
    "### Square cosinus (Cos2)"
   ]
  },
  {
   "cell_type": "code",
   "execution_count": 17,
   "metadata": {},
   "outputs": [
    {
     "data": {
      "text/html": [
       "<div>\n",
       "<style scoped>\n",
       "    .dataframe tbody tr th:only-of-type {\n",
       "        vertical-align: middle;\n",
       "    }\n",
       "\n",
       "    .dataframe tbody tr th {\n",
       "        vertical-align: top;\n",
       "    }\n",
       "\n",
       "    .dataframe thead th {\n",
       "        text-align: right;\n",
       "    }\n",
       "</style>\n",
       "<table border=\"1\" class=\"dataframe\">\n",
       "  <thead>\n",
       "    <tr style=\"text-align: right;\">\n",
       "      <th></th>\n",
       "      <th>Dim.1</th>\n",
       "      <th>Dim.2</th>\n",
       "    </tr>\n",
       "  </thead>\n",
       "  <tbody>\n",
       "    <tr>\n",
       "      <th>chasse</th>\n",
       "      <td>0.109405</td>\n",
       "      <td>0.890595</td>\n",
       "    </tr>\n",
       "    <tr>\n",
       "      <th>compagnie</th>\n",
       "      <td>0.950755</td>\n",
       "      <td>0.049245</td>\n",
       "    </tr>\n",
       "    <tr>\n",
       "      <th>utilite</th>\n",
       "      <td>0.817642</td>\n",
       "      <td>0.182358</td>\n",
       "    </tr>\n",
       "  </tbody>\n",
       "</table>\n",
       "</div>"
      ],
      "text/plain": [
       "              Dim.1     Dim.2\n",
       "chasse     0.109405  0.890595\n",
       "compagnie  0.950755  0.049245\n",
       "utilite    0.817642  0.182358"
      ]
     },
     "execution_count": 17,
     "metadata": {},
     "output_type": "execute_result"
    }
   ],
   "source": [
    "# Square cosinus (Cos2)\n",
    "classes[\"cos2\"]"
   ]
  },
  {
   "cell_type": "markdown",
   "metadata": {},
   "source": [
    "### Additionals informations"
   ]
  },
  {
   "cell_type": "code",
   "execution_count": 18,
   "metadata": {},
   "outputs": [
    {
     "data": {
      "text/html": [
       "<div>\n",
       "<style scoped>\n",
       "    .dataframe tbody tr th:only-of-type {\n",
       "        vertical-align: middle;\n",
       "    }\n",
       "\n",
       "    .dataframe tbody tr th {\n",
       "        vertical-align: top;\n",
       "    }\n",
       "\n",
       "    .dataframe thead th {\n",
       "        text-align: right;\n",
       "    }\n",
       "</style>\n",
       "<table border=\"1\" class=\"dataframe\">\n",
       "  <thead>\n",
       "    <tr style=\"text-align: right;\">\n",
       "      <th></th>\n",
       "      <th>dist</th>\n",
       "      <th>marge</th>\n",
       "      <th>inertia</th>\n",
       "    </tr>\n",
       "  </thead>\n",
       "  <tbody>\n",
       "    <tr>\n",
       "      <th>chasse</th>\n",
       "      <td>0.505235</td>\n",
       "      <td>0.333333</td>\n",
       "      <td>0.085087</td>\n",
       "    </tr>\n",
       "    <tr>\n",
       "      <th>compagnie</th>\n",
       "      <td>0.732926</td>\n",
       "      <td>0.370370</td>\n",
       "      <td>0.198956</td>\n",
       "    </tr>\n",
       "    <tr>\n",
       "      <th>utilite</th>\n",
       "      <td>0.780009</td>\n",
       "      <td>0.296296</td>\n",
       "      <td>0.180271</td>\n",
       "    </tr>\n",
       "  </tbody>\n",
       "</table>\n",
       "</div>"
      ],
      "text/plain": [
       "               dist     marge   inertia\n",
       "chasse     0.505235  0.333333  0.085087\n",
       "compagnie  0.732926  0.370370  0.198956\n",
       "utilite    0.780009  0.296296  0.180271"
      ]
     },
     "execution_count": 18,
     "metadata": {},
     "output_type": "execute_result"
    }
   ],
   "source": [
    "# Additionals informations\n",
    "classes[\"infos\"]"
   ]
  },
  {
   "cell_type": "markdown",
   "metadata": {},
   "source": [
    "### Square distance to origin"
   ]
  },
  {
   "cell_type": "code",
   "execution_count": 19,
   "metadata": {},
   "outputs": [
    {
     "data": {
      "text/html": [
       "<div>\n",
       "<style scoped>\n",
       "    .dataframe tbody tr th:only-of-type {\n",
       "        vertical-align: middle;\n",
       "    }\n",
       "\n",
       "    .dataframe tbody tr th {\n",
       "        vertical-align: top;\n",
       "    }\n",
       "\n",
       "    .dataframe thead th {\n",
       "        text-align: right;\n",
       "    }\n",
       "</style>\n",
       "<table border=\"1\" class=\"dataframe\">\n",
       "  <thead>\n",
       "    <tr style=\"text-align: right;\">\n",
       "      <th></th>\n",
       "      <th>dist2</th>\n",
       "    </tr>\n",
       "    <tr>\n",
       "      <th>Fonction</th>\n",
       "      <th></th>\n",
       "    </tr>\n",
       "  </thead>\n",
       "  <tbody>\n",
       "    <tr>\n",
       "      <th>chasse</th>\n",
       "      <td>0.255262</td>\n",
       "    </tr>\n",
       "    <tr>\n",
       "      <th>compagnie</th>\n",
       "      <td>0.537180</td>\n",
       "    </tr>\n",
       "    <tr>\n",
       "      <th>utilite</th>\n",
       "      <td>0.608413</td>\n",
       "    </tr>\n",
       "  </tbody>\n",
       "</table>\n",
       "</div>"
      ],
      "text/plain": [
       "              dist2\n",
       "Fonction           \n",
       "chasse     0.255262\n",
       "compagnie  0.537180\n",
       "utilite    0.608413"
      ]
     },
     "execution_count": 19,
     "metadata": {},
     "output_type": "execute_result"
    }
   ],
   "source": [
    "# Square distance to origin\n",
    "classes[\"dist2\"]"
   ]
  },
  {
   "cell_type": "markdown",
   "metadata": {},
   "source": [
    "### Square distance between groups"
   ]
  },
  {
   "cell_type": "code",
   "execution_count": 20,
   "metadata": {},
   "outputs": [
    {
     "data": {
      "text/html": [
       "<div>\n",
       "<style scoped>\n",
       "    .dataframe tbody tr th:only-of-type {\n",
       "        vertical-align: middle;\n",
       "    }\n",
       "\n",
       "    .dataframe tbody tr th {\n",
       "        vertical-align: top;\n",
       "    }\n",
       "\n",
       "    .dataframe thead th {\n",
       "        text-align: right;\n",
       "    }\n",
       "</style>\n",
       "<table border=\"1\" class=\"dataframe\">\n",
       "  <thead>\n",
       "    <tr style=\"text-align: right;\">\n",
       "      <th></th>\n",
       "      <th>chasse</th>\n",
       "      <th>compagnie</th>\n",
       "      <th>utilite</th>\n",
       "    </tr>\n",
       "  </thead>\n",
       "  <tbody>\n",
       "    <tr>\n",
       "      <th>chasse</th>\n",
       "      <td>0.000000</td>\n",
       "      <td>1.186395</td>\n",
       "      <td>0.945574</td>\n",
       "    </tr>\n",
       "    <tr>\n",
       "      <th>compagnie</th>\n",
       "      <td>1.186395</td>\n",
       "      <td>0.000000</td>\n",
       "      <td>2.045346</td>\n",
       "    </tr>\n",
       "    <tr>\n",
       "      <th>utilite</th>\n",
       "      <td>0.945574</td>\n",
       "      <td>2.045346</td>\n",
       "      <td>0.000000</td>\n",
       "    </tr>\n",
       "  </tbody>\n",
       "</table>\n",
       "</div>"
      ],
      "text/plain": [
       "             chasse  compagnie   utilite\n",
       "chasse     0.000000   1.186395  0.945574\n",
       "compagnie  1.186395   0.000000  2.045346\n",
       "utilite    0.945574   2.045346  0.000000"
      ]
     },
     "execution_count": 20,
     "metadata": {},
     "output_type": "execute_result"
    }
   ],
   "source": [
    "# Square distance between groups\n",
    "classes[\"dist\"]"
   ]
  },
  {
   "cell_type": "markdown",
   "metadata": {},
   "source": [
    "## Canonical coefficients"
   ]
  },
  {
   "cell_type": "code",
   "execution_count": 21,
   "metadata": {},
   "outputs": [
    {
     "data": {
      "text/html": [
       "<div>\n",
       "<style scoped>\n",
       "    .dataframe tbody tr th:only-of-type {\n",
       "        vertical-align: middle;\n",
       "    }\n",
       "\n",
       "    .dataframe tbody tr th {\n",
       "        vertical-align: top;\n",
       "    }\n",
       "\n",
       "    .dataframe thead th {\n",
       "        text-align: right;\n",
       "    }\n",
       "</style>\n",
       "<table border=\"1\" class=\"dataframe\">\n",
       "  <thead>\n",
       "    <tr style=\"text-align: right;\">\n",
       "      <th></th>\n",
       "      <th>Dim.1</th>\n",
       "      <th>Dim.2</th>\n",
       "    </tr>\n",
       "  </thead>\n",
       "  <tbody>\n",
       "    <tr>\n",
       "      <th>Taille_Taille+</th>\n",
       "      <td>0.174416</td>\n",
       "      <td>-0.131042</td>\n",
       "    </tr>\n",
       "    <tr>\n",
       "      <th>Taille_Taille++</th>\n",
       "      <td>-0.190522</td>\n",
       "      <td>-0.003135</td>\n",
       "    </tr>\n",
       "    <tr>\n",
       "      <th>Taille_Taille-</th>\n",
       "      <td>0.283679</td>\n",
       "      <td>0.100319</td>\n",
       "    </tr>\n",
       "    <tr>\n",
       "      <th>Poids_Poids+</th>\n",
       "      <td>-0.045052</td>\n",
       "      <td>-0.233892</td>\n",
       "    </tr>\n",
       "    <tr>\n",
       "      <th>Poids_Poids++</th>\n",
       "      <td>-0.339879</td>\n",
       "      <td>0.468680</td>\n",
       "    </tr>\n",
       "    <tr>\n",
       "      <th>Poids_Poids-</th>\n",
       "      <td>0.291266</td>\n",
       "      <td>0.116385</td>\n",
       "    </tr>\n",
       "    <tr>\n",
       "      <th>Velocite_Veloc+</th>\n",
       "      <td>0.131925</td>\n",
       "      <td>-0.221016</td>\n",
       "    </tr>\n",
       "    <tr>\n",
       "      <th>Velocite_Veloc++</th>\n",
       "      <td>-0.148584</td>\n",
       "      <td>-0.064441</td>\n",
       "    </tr>\n",
       "    <tr>\n",
       "      <th>Velocite_Veloc-</th>\n",
       "      <td>0.028185</td>\n",
       "      <td>0.234810</td>\n",
       "    </tr>\n",
       "    <tr>\n",
       "      <th>Intelligence_Intell+</th>\n",
       "      <td>0.088418</td>\n",
       "      <td>0.076566</td>\n",
       "    </tr>\n",
       "    <tr>\n",
       "      <th>Intelligence_Intell++</th>\n",
       "      <td>-0.139386</td>\n",
       "      <td>0.048854</td>\n",
       "    </tr>\n",
       "    <tr>\n",
       "      <th>Intelligence_Intell-</th>\n",
       "      <td>-0.039140</td>\n",
       "      <td>-0.161059</td>\n",
       "    </tr>\n",
       "    <tr>\n",
       "      <th>Affection_Affec+</th>\n",
       "      <td>0.185927</td>\n",
       "      <td>0.134580</td>\n",
       "    </tr>\n",
       "    <tr>\n",
       "      <th>Affection_Affec-</th>\n",
       "      <td>-0.200229</td>\n",
       "      <td>-0.144932</td>\n",
       "    </tr>\n",
       "    <tr>\n",
       "      <th>Agressivite_Agress+</th>\n",
       "      <td>-0.122123</td>\n",
       "      <td>0.150359</td>\n",
       "    </tr>\n",
       "    <tr>\n",
       "      <th>Agressivite_Agress-</th>\n",
       "      <td>0.113400</td>\n",
       "      <td>-0.139619</td>\n",
       "    </tr>\n",
       "  </tbody>\n",
       "</table>\n",
       "</div>"
      ],
      "text/plain": [
       "                          Dim.1     Dim.2\n",
       "Taille_Taille+         0.174416 -0.131042\n",
       "Taille_Taille++       -0.190522 -0.003135\n",
       "Taille_Taille-         0.283679  0.100319\n",
       "Poids_Poids+          -0.045052 -0.233892\n",
       "Poids_Poids++         -0.339879  0.468680\n",
       "Poids_Poids-           0.291266  0.116385\n",
       "Velocite_Veloc+        0.131925 -0.221016\n",
       "Velocite_Veloc++      -0.148584 -0.064441\n",
       "Velocite_Veloc-        0.028185  0.234810\n",
       "Intelligence_Intell+   0.088418  0.076566\n",
       "Intelligence_Intell++ -0.139386  0.048854\n",
       "Intelligence_Intell-  -0.039140 -0.161059\n",
       "Affection_Affec+       0.185927  0.134580\n",
       "Affection_Affec-      -0.200229 -0.144932\n",
       "Agressivite_Agress+   -0.122123  0.150359\n",
       "Agressivite_Agress-    0.113400 -0.139619"
      ]
     },
     "execution_count": 21,
     "metadata": {},
     "output_type": "execute_result"
    }
   ],
   "source": [
    "# Canonical coefficients\n",
    "from discrimintools import get_disca_coef\n",
    "coef = get_disca_coef(res_disca)\n",
    "coef"
   ]
  },
  {
   "cell_type": "markdown",
   "metadata": {},
   "source": [
    "## Anova results"
   ]
  },
  {
   "cell_type": "code",
   "execution_count": 22,
   "metadata": {},
   "outputs": [
    {
     "data": {
      "text/plain": [
       "Dim.1    0.735104\n",
       "Dim.2    0.518040\n",
       "Name: eta2, dtype: float64"
      ]
     },
     "execution_count": 22,
     "metadata": {},
     "output_type": "execute_result"
    }
   ],
   "source": [
    "# Squared ratio\n",
    "res_disca.anova_[\"eta2\"]"
   ]
  },
  {
   "cell_type": "code",
   "execution_count": 23,
   "metadata": {},
   "outputs": [
    {
     "data": {
      "text/plain": [
       "Dim.1    0.857382\n",
       "Dim.2    0.719750\n",
       "Name: eta2, dtype: float64"
      ]
     },
     "execution_count": 23,
     "metadata": {},
     "output_type": "execute_result"
    }
   ],
   "source": [
    "# Canonical correlation\n",
    "res_disca.anova_[\"canonical_eta2\"]"
   ]
  },
  {
   "cell_type": "markdown",
   "metadata": {},
   "source": [
    "## Correspondence Analysis (CA)"
   ]
  },
  {
   "cell_type": "code",
   "execution_count": 24,
   "metadata": {},
   "outputs": [],
   "source": [
    "# Correspondence Analysis (CA)\n",
    "res_ca = res_disca.factor_model_"
   ]
  },
  {
   "cell_type": "markdown",
   "metadata": {},
   "source": [
    "### Eigenvalues"
   ]
  },
  {
   "cell_type": "code",
   "execution_count": 25,
   "metadata": {},
   "outputs": [
    {
     "data": {
      "text/html": [
       "<div>\n",
       "<style scoped>\n",
       "    .dataframe tbody tr th:only-of-type {\n",
       "        vertical-align: middle;\n",
       "    }\n",
       "\n",
       "    .dataframe tbody tr th {\n",
       "        vertical-align: top;\n",
       "    }\n",
       "\n",
       "    .dataframe thead th {\n",
       "        text-align: right;\n",
       "    }\n",
       "</style>\n",
       "<table border=\"1\" class=\"dataframe\">\n",
       "  <thead>\n",
       "    <tr style=\"text-align: right;\">\n",
       "      <th></th>\n",
       "      <th>eigenvalue</th>\n",
       "      <th>difference</th>\n",
       "      <th>proportion</th>\n",
       "      <th>cumulative</th>\n",
       "    </tr>\n",
       "  </thead>\n",
       "  <tbody>\n",
       "    <tr>\n",
       "      <th>Dim.1</th>\n",
       "      <td>0.345864</td>\n",
       "      <td>0.227414</td>\n",
       "      <td>74.48927</td>\n",
       "      <td>74.48927</td>\n",
       "    </tr>\n",
       "    <tr>\n",
       "      <th>Dim.2</th>\n",
       "      <td>0.118450</td>\n",
       "      <td>NaN</td>\n",
       "      <td>25.51073</td>\n",
       "      <td>100.00000</td>\n",
       "    </tr>\n",
       "  </tbody>\n",
       "</table>\n",
       "</div>"
      ],
      "text/plain": [
       "       eigenvalue  difference  proportion  cumulative\n",
       "Dim.1    0.345864    0.227414    74.48927    74.48927\n",
       "Dim.2    0.118450         NaN    25.51073   100.00000"
      ]
     },
     "execution_count": 25,
     "metadata": {},
     "output_type": "execute_result"
    }
   ],
   "source": [
    "# Eigenvalues\n",
    "res_ca.eig_"
   ]
  }
 ],
 "metadata": {
  "kernelspec": {
   "display_name": "Python 3",
   "language": "python",
   "name": "python3"
  },
  "language_info": {
   "codemirror_mode": {
    "name": "ipython",
    "version": 3
   },
   "file_extension": ".py",
   "mimetype": "text/x-python",
   "name": "python",
   "nbconvert_exporter": "python",
   "pygments_lexer": "ipython3",
   "version": "3.10.5"
  }
 },
 "nbformat": 4,
 "nbformat_minor": 2
}
