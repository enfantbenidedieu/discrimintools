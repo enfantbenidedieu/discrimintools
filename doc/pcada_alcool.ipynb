{
 "cells": [
  {
   "cell_type": "markdown",
   "metadata": {},
   "source": [
    "# PCADA"
   ]
  },
  {
   "cell_type": "code",
   "execution_count": 1,
   "metadata": {},
   "outputs": [],
   "source": [
    "import warnings\n",
    "warnings.simplefilter(action='ignore', category=FutureWarning)\n",
    "warnings.filterwarnings(\"ignore\")"
   ]
  },
  {
   "cell_type": "code",
   "execution_count": 2,
   "metadata": {},
   "outputs": [
    {
     "name": "stdout",
     "output_type": "stream",
     "text": [
      "<class 'pandas.core.frame.DataFrame'>\n",
      "RangeIndex: 52 entries, 0 to 51\n",
      "Data columns (total 9 columns):\n",
      " #   Column  Non-Null Count  Dtype  \n",
      "---  ------  --------------  -----  \n",
      " 0   TYPE    52 non-null     object \n",
      " 1   MEOH    52 non-null     float64\n",
      " 2   ACET    52 non-null     float64\n",
      " 3   BU1     52 non-null     float64\n",
      " 4   BU2     52 non-null     float64\n",
      " 5   ISOP    52 non-null     int64  \n",
      " 6   MEPR    52 non-null     float64\n",
      " 7   PRO1    52 non-null     float64\n",
      " 8   ACAL    52 non-null     float64\n",
      "dtypes: float64(7), int64(1), object(1)\n",
      "memory usage: 3.8+ KB\n"
     ]
    }
   ],
   "source": [
    "# Chargement de la base\n",
    "import pandas as pd\n",
    "DTrain = pd.read_excel(\"./data/Data_Illustration_Livre_ADL.xlsx\",sheet_name=\"DATA_2_TRAIN\",header=0)\n",
    "DTrain.info()"
   ]
  },
  {
   "cell_type": "code",
   "execution_count": 3,
   "metadata": {},
   "outputs": [
    {
     "data": {
      "text/html": [
       "<style>#sk-container-id-1 {color: black;background-color: white;}#sk-container-id-1 pre{padding: 0;}#sk-container-id-1 div.sk-toggleable {background-color: white;}#sk-container-id-1 label.sk-toggleable__label {cursor: pointer;display: block;width: 100%;margin-bottom: 0;padding: 0.3em;box-sizing: border-box;text-align: center;}#sk-container-id-1 label.sk-toggleable__label-arrow:before {content: \"▸\";float: left;margin-right: 0.25em;color: #696969;}#sk-container-id-1 label.sk-toggleable__label-arrow:hover:before {color: black;}#sk-container-id-1 div.sk-estimator:hover label.sk-toggleable__label-arrow:before {color: black;}#sk-container-id-1 div.sk-toggleable__content {max-height: 0;max-width: 0;overflow: hidden;text-align: left;background-color: #f0f8ff;}#sk-container-id-1 div.sk-toggleable__content pre {margin: 0.2em;color: black;border-radius: 0.25em;background-color: #f0f8ff;}#sk-container-id-1 input.sk-toggleable__control:checked~div.sk-toggleable__content {max-height: 200px;max-width: 100%;overflow: auto;}#sk-container-id-1 input.sk-toggleable__control:checked~label.sk-toggleable__label-arrow:before {content: \"▾\";}#sk-container-id-1 div.sk-estimator input.sk-toggleable__control:checked~label.sk-toggleable__label {background-color: #d4ebff;}#sk-container-id-1 div.sk-label input.sk-toggleable__control:checked~label.sk-toggleable__label {background-color: #d4ebff;}#sk-container-id-1 input.sk-hidden--visually {border: 0;clip: rect(1px 1px 1px 1px);clip: rect(1px, 1px, 1px, 1px);height: 1px;margin: -1px;overflow: hidden;padding: 0;position: absolute;width: 1px;}#sk-container-id-1 div.sk-estimator {font-family: monospace;background-color: #f0f8ff;border: 1px dotted black;border-radius: 0.25em;box-sizing: border-box;margin-bottom: 0.5em;}#sk-container-id-1 div.sk-estimator:hover {background-color: #d4ebff;}#sk-container-id-1 div.sk-parallel-item::after {content: \"\";width: 100%;border-bottom: 1px solid gray;flex-grow: 1;}#sk-container-id-1 div.sk-label:hover label.sk-toggleable__label {background-color: #d4ebff;}#sk-container-id-1 div.sk-serial::before {content: \"\";position: absolute;border-left: 1px solid gray;box-sizing: border-box;top: 0;bottom: 0;left: 50%;z-index: 0;}#sk-container-id-1 div.sk-serial {display: flex;flex-direction: column;align-items: center;background-color: white;padding-right: 0.2em;padding-left: 0.2em;position: relative;}#sk-container-id-1 div.sk-item {position: relative;z-index: 1;}#sk-container-id-1 div.sk-parallel {display: flex;align-items: stretch;justify-content: center;background-color: white;position: relative;}#sk-container-id-1 div.sk-item::before, #sk-container-id-1 div.sk-parallel-item::before {content: \"\";position: absolute;border-left: 1px solid gray;box-sizing: border-box;top: 0;bottom: 0;left: 50%;z-index: -1;}#sk-container-id-1 div.sk-parallel-item {display: flex;flex-direction: column;z-index: 1;position: relative;background-color: white;}#sk-container-id-1 div.sk-parallel-item:first-child::after {align-self: flex-end;width: 50%;}#sk-container-id-1 div.sk-parallel-item:last-child::after {align-self: flex-start;width: 50%;}#sk-container-id-1 div.sk-parallel-item:only-child::after {width: 0;}#sk-container-id-1 div.sk-dashed-wrapped {border: 1px dashed gray;margin: 0 0.4em 0.5em 0.4em;box-sizing: border-box;padding-bottom: 0.4em;background-color: white;}#sk-container-id-1 div.sk-label label {font-family: monospace;font-weight: bold;display: inline-block;line-height: 1.2em;}#sk-container-id-1 div.sk-label-container {text-align: center;}#sk-container-id-1 div.sk-container {/* jupyter's `normalize.less` sets `[hidden] { display: none; }` but bootstrap.min.css set `[hidden] { display: none !important; }` so we also need the `!important` here to be able to override the default hidden behavior on the sphinx rendered scikit-learn.org. See: https://github.com/scikit-learn/scikit-learn/issues/21755 */display: inline-block !important;position: relative;}#sk-container-id-1 div.sk-text-repr-fallback {display: none;}</style><div id=\"sk-container-id-1\" class=\"sk-top-container\"><div class=\"sk-text-repr-fallback\"><pre>PCADA(priors=&#x27;prop&#x27;, target=[&#x27;TYPE&#x27;])</pre><b>In a Jupyter environment, please rerun this cell to show the HTML representation or trust the notebook. <br />On GitHub, the HTML representation is unable to render, please try loading this page with nbviewer.org.</b></div><div class=\"sk-container\" hidden><div class=\"sk-item\"><div class=\"sk-estimator sk-toggleable\"><input class=\"sk-toggleable__control sk-hidden--visually\" id=\"sk-estimator-id-1\" type=\"checkbox\" checked><label for=\"sk-estimator-id-1\" class=\"sk-toggleable__label sk-toggleable__label-arrow\">PCADA</label><div class=\"sk-toggleable__content\"><pre>PCADA(priors=&#x27;prop&#x27;, target=[&#x27;TYPE&#x27;])</pre></div></div></div></div></div>"
      ],
      "text/plain": [
       "PCADA(priors='prop', target=['TYPE'])"
      ]
     },
     "execution_count": 3,
     "metadata": {},
     "output_type": "execute_result"
    }
   ],
   "source": [
    "from discrimintools import PCADA\n",
    "res_pcada = PCADA(n_components=None,target=[\"TYPE\"],priors=\"prop\")\n",
    "res_pcada.fit(DTrain)"
   ]
  },
  {
   "cell_type": "code",
   "execution_count": 4,
   "metadata": {},
   "outputs": [
    {
     "data": {
      "text/html": [
       "<div>\n",
       "<style scoped>\n",
       "    .dataframe tbody tr th:only-of-type {\n",
       "        vertical-align: middle;\n",
       "    }\n",
       "\n",
       "    .dataframe tbody tr th {\n",
       "        vertical-align: top;\n",
       "    }\n",
       "\n",
       "    .dataframe thead th {\n",
       "        text-align: right;\n",
       "    }\n",
       "</style>\n",
       "<table border=\"1\" class=\"dataframe\">\n",
       "  <thead>\n",
       "    <tr style=\"text-align: right;\">\n",
       "      <th></th>\n",
       "      <th>KIRSCH</th>\n",
       "      <th>MIRAB</th>\n",
       "      <th>POIRE</th>\n",
       "    </tr>\n",
       "  </thead>\n",
       "  <tbody>\n",
       "    <tr>\n",
       "      <th>Z1</th>\n",
       "      <td>-4.866605</td>\n",
       "      <td>1.451182</td>\n",
       "      <td>3.048228</td>\n",
       "    </tr>\n",
       "    <tr>\n",
       "      <th>Z2</th>\n",
       "      <td>0.534208</td>\n",
       "      <td>-0.529084</td>\n",
       "      <td>-0.057264</td>\n",
       "    </tr>\n",
       "    <tr>\n",
       "      <th>Z3</th>\n",
       "      <td>0.436843</td>\n",
       "      <td>0.365030</td>\n",
       "      <td>-0.645089</td>\n",
       "    </tr>\n",
       "    <tr>\n",
       "      <th>Z4</th>\n",
       "      <td>5.939155</td>\n",
       "      <td>-2.494951</td>\n",
       "      <td>-3.177068</td>\n",
       "    </tr>\n",
       "    <tr>\n",
       "      <th>Z5</th>\n",
       "      <td>-2.747863</td>\n",
       "      <td>1.772826</td>\n",
       "      <td>1.006065</td>\n",
       "    </tr>\n",
       "    <tr>\n",
       "      <th>Z6</th>\n",
       "      <td>2.586556</td>\n",
       "      <td>1.224959</td>\n",
       "      <td>-3.117292</td>\n",
       "    </tr>\n",
       "    <tr>\n",
       "      <th>Z7</th>\n",
       "      <td>1.505985</td>\n",
       "      <td>0.455617</td>\n",
       "      <td>-1.621800</td>\n",
       "    </tr>\n",
       "    <tr>\n",
       "      <th>Z8</th>\n",
       "      <td>3.276267</td>\n",
       "      <td>-2.291882</td>\n",
       "      <td>-1.065916</td>\n",
       "    </tr>\n",
       "  </tbody>\n",
       "</table>\n",
       "</div>"
      ],
      "text/plain": [
       "      KIRSCH     MIRAB     POIRE\n",
       "Z1 -4.866605  1.451182  3.048228\n",
       "Z2  0.534208 -0.529084 -0.057264\n",
       "Z3  0.436843  0.365030 -0.645089\n",
       "Z4  5.939155 -2.494951 -3.177068\n",
       "Z5 -2.747863  1.772826  1.006065\n",
       "Z6  2.586556  1.224959 -3.117292\n",
       "Z7  1.505985  0.455617 -1.621800\n",
       "Z8  3.276267 -2.291882 -1.065916"
      ]
     },
     "execution_count": 4,
     "metadata": {},
     "output_type": "execute_result"
    }
   ],
   "source": [
    "res_pcada.lda_model_.coef_"
   ]
  },
  {
   "cell_type": "code",
   "execution_count": 5,
   "metadata": {},
   "outputs": [
    {
     "data": {
      "text/html": [
       "<div>\n",
       "<style scoped>\n",
       "    .dataframe tbody tr th:only-of-type {\n",
       "        vertical-align: middle;\n",
       "    }\n",
       "\n",
       "    .dataframe tbody tr th {\n",
       "        vertical-align: top;\n",
       "    }\n",
       "\n",
       "    .dataframe thead th {\n",
       "        text-align: right;\n",
       "    }\n",
       "</style>\n",
       "<table border=\"1\" class=\"dataframe\">\n",
       "  <thead>\n",
       "    <tr style=\"text-align: right;\">\n",
       "      <th></th>\n",
       "      <th>KIRSCH</th>\n",
       "      <th>MIRAB</th>\n",
       "      <th>POIRE</th>\n",
       "    </tr>\n",
       "  </thead>\n",
       "  <tbody>\n",
       "    <tr>\n",
       "      <th>Intercept</th>\n",
       "      <td>-8.146909</td>\n",
       "      <td>-2.886328</td>\n",
       "      <td>-3.761888</td>\n",
       "    </tr>\n",
       "  </tbody>\n",
       "</table>\n",
       "</div>"
      ],
      "text/plain": [
       "             KIRSCH     MIRAB     POIRE\n",
       "Intercept -8.146909 -2.886328 -3.761888"
      ]
     },
     "execution_count": 5,
     "metadata": {},
     "output_type": "execute_result"
    }
   ],
   "source": [
    "res_pcada.lda_model_.intercept_"
   ]
  },
  {
   "cell_type": "code",
   "execution_count": 6,
   "metadata": {},
   "outputs": [
    {
     "data": {
      "text/html": [
       "<div>\n",
       "<style scoped>\n",
       "    .dataframe tbody tr th:only-of-type {\n",
       "        vertical-align: middle;\n",
       "    }\n",
       "\n",
       "    .dataframe tbody tr th {\n",
       "        vertical-align: top;\n",
       "    }\n",
       "\n",
       "    .dataframe thead th {\n",
       "        text-align: right;\n",
       "    }\n",
       "</style>\n",
       "<table border=\"1\" class=\"dataframe\">\n",
       "  <thead>\n",
       "    <tr style=\"text-align: right;\">\n",
       "      <th></th>\n",
       "      <th>KIRSCH</th>\n",
       "      <th>MIRAB</th>\n",
       "      <th>POIRE</th>\n",
       "    </tr>\n",
       "  </thead>\n",
       "  <tbody>\n",
       "    <tr>\n",
       "      <th>MEOH</th>\n",
       "      <td>-0.865561</td>\n",
       "      <td>0.306321</td>\n",
       "      <td>0.505986</td>\n",
       "    </tr>\n",
       "    <tr>\n",
       "      <th>ACET</th>\n",
       "      <td>-0.050249</td>\n",
       "      <td>0.101306</td>\n",
       "      <td>-0.033267</td>\n",
       "    </tr>\n",
       "    <tr>\n",
       "      <th>BU1</th>\n",
       "      <td>-0.385141</td>\n",
       "      <td>0.255202</td>\n",
       "      <td>0.135968</td>\n",
       "    </tr>\n",
       "    <tr>\n",
       "      <th>BU2</th>\n",
       "      <td>-0.441147</td>\n",
       "      <td>0.046071</td>\n",
       "      <td>0.340422</td>\n",
       "    </tr>\n",
       "    <tr>\n",
       "      <th>ISOP</th>\n",
       "      <td>0.061087</td>\n",
       "      <td>0.101043</td>\n",
       "      <td>-0.127706</td>\n",
       "    </tr>\n",
       "    <tr>\n",
       "      <th>MEPR</th>\n",
       "      <td>0.088422</td>\n",
       "      <td>-0.292154</td>\n",
       "      <td>0.143957</td>\n",
       "    </tr>\n",
       "    <tr>\n",
       "      <th>PRO1</th>\n",
       "      <td>0.471867</td>\n",
       "      <td>-0.100496</td>\n",
       "      <td>-0.325715</td>\n",
       "    </tr>\n",
       "    <tr>\n",
       "      <th>ACAL</th>\n",
       "      <td>0.159520</td>\n",
       "      <td>-0.132230</td>\n",
       "      <td>-0.036420</td>\n",
       "    </tr>\n",
       "  </tbody>\n",
       "</table>\n",
       "</div>"
      ],
      "text/plain": [
       "        KIRSCH     MIRAB     POIRE\n",
       "MEOH -0.865561  0.306321  0.505986\n",
       "ACET -0.050249  0.101306 -0.033267\n",
       "BU1  -0.385141  0.255202  0.135968\n",
       "BU2  -0.441147  0.046071  0.340422\n",
       "ISOP  0.061087  0.101043 -0.127706\n",
       "MEPR  0.088422 -0.292154  0.143957\n",
       "PRO1  0.471867 -0.100496 -0.325715\n",
       "ACAL  0.159520 -0.132230 -0.036420"
      ]
     },
     "execution_count": 6,
     "metadata": {},
     "output_type": "execute_result"
    }
   ],
   "source": [
    "res_pcada.coef_"
   ]
  },
  {
   "cell_type": "markdown",
   "metadata": {},
   "source": [
    "## Application sur le Test"
   ]
  },
  {
   "cell_type": "code",
   "execution_count": 7,
   "metadata": {},
   "outputs": [
    {
     "data": {
      "text/html": [
       "<div>\n",
       "<style scoped>\n",
       "    .dataframe tbody tr th:only-of-type {\n",
       "        vertical-align: middle;\n",
       "    }\n",
       "\n",
       "    .dataframe tbody tr th {\n",
       "        vertical-align: top;\n",
       "    }\n",
       "\n",
       "    .dataframe thead th {\n",
       "        text-align: right;\n",
       "    }\n",
       "</style>\n",
       "<table border=\"1\" class=\"dataframe\">\n",
       "  <thead>\n",
       "    <tr style=\"text-align: right;\">\n",
       "      <th></th>\n",
       "      <th>TYPE</th>\n",
       "      <th>MEOH</th>\n",
       "      <th>ACET</th>\n",
       "      <th>BU1</th>\n",
       "      <th>BU2</th>\n",
       "      <th>ISOP</th>\n",
       "      <th>MEPR</th>\n",
       "      <th>PRO1</th>\n",
       "      <th>ACAL</th>\n",
       "    </tr>\n",
       "  </thead>\n",
       "  <tbody>\n",
       "    <tr>\n",
       "      <th>0</th>\n",
       "      <td>KIRSCH</td>\n",
       "      <td>3</td>\n",
       "      <td>15</td>\n",
       "      <td>0.2</td>\n",
       "      <td>30.0</td>\n",
       "      <td>9</td>\n",
       "      <td>9</td>\n",
       "      <td>350</td>\n",
       "      <td>9.0</td>\n",
       "    </tr>\n",
       "    <tr>\n",
       "      <th>1</th>\n",
       "      <td>KIRSCH</td>\n",
       "      <td>475</td>\n",
       "      <td>172</td>\n",
       "      <td>1.9</td>\n",
       "      <td>7.0</td>\n",
       "      <td>113</td>\n",
       "      <td>33</td>\n",
       "      <td>546</td>\n",
       "      <td>14.0</td>\n",
       "    </tr>\n",
       "    <tr>\n",
       "      <th>2</th>\n",
       "      <td>KIRSCH</td>\n",
       "      <td>186</td>\n",
       "      <td>101</td>\n",
       "      <td>0.0</td>\n",
       "      <td>1.6</td>\n",
       "      <td>36</td>\n",
       "      <td>11</td>\n",
       "      <td>128</td>\n",
       "      <td>8.0</td>\n",
       "    </tr>\n",
       "    <tr>\n",
       "      <th>3</th>\n",
       "      <td>KIRSCH</td>\n",
       "      <td>371</td>\n",
       "      <td>414</td>\n",
       "      <td>1.2</td>\n",
       "      <td>0.0</td>\n",
       "      <td>97</td>\n",
       "      <td>39</td>\n",
       "      <td>502</td>\n",
       "      <td>9.0</td>\n",
       "    </tr>\n",
       "    <tr>\n",
       "      <th>4</th>\n",
       "      <td>KIRSCH</td>\n",
       "      <td>583</td>\n",
       "      <td>226</td>\n",
       "      <td>2.3</td>\n",
       "      <td>19.0</td>\n",
       "      <td>120</td>\n",
       "      <td>46</td>\n",
       "      <td>656</td>\n",
       "      <td>11.0</td>\n",
       "    </tr>\n",
       "  </tbody>\n",
       "</table>\n",
       "</div>"
      ],
      "text/plain": [
       "     TYPE  MEOH  ACET  BU1   BU2  ISOP  MEPR  PRO1  ACAL\n",
       "0  KIRSCH     3    15  0.2  30.0     9     9   350   9.0\n",
       "1  KIRSCH   475   172  1.9   7.0   113    33   546  14.0\n",
       "2  KIRSCH   186   101  0.0   1.6    36    11   128   8.0\n",
       "3  KIRSCH   371   414  1.2   0.0    97    39   502   9.0\n",
       "4  KIRSCH   583   226  2.3  19.0   120    46   656  11.0"
      ]
     },
     "execution_count": 7,
     "metadata": {},
     "output_type": "execute_result"
    }
   ],
   "source": [
    "DTest = pd.read_excel(\"./data/Data_Illustration_Livre_ADL.xlsx\",sheet_name=\"DATA_2_TEST\",header=0)\n",
    "DTest.head()"
   ]
  },
  {
   "cell_type": "code",
   "execution_count": 8,
   "metadata": {},
   "outputs": [
    {
     "data": {
      "text/plain": [
       "0     KIRSCH\n",
       "1     KIRSCH\n",
       "2     KIRSCH\n",
       "3     KIRSCH\n",
       "4     KIRSCH\n",
       "5     KIRSCH\n",
       "6     KIRSCH\n",
       "7     KIRSCH\n",
       "8     KIRSCH\n",
       "9     KIRSCH\n",
       "10    KIRSCH\n",
       "11    KIRSCH\n",
       "12    KIRSCH\n",
       "13    KIRSCH\n",
       "14     POIRE\n",
       "15     MIRAB\n",
       "16     MIRAB\n",
       "17     MIRAB\n",
       "18     MIRAB\n",
       "19     MIRAB\n",
       "20     MIRAB\n",
       "21     MIRAB\n",
       "22     MIRAB\n",
       "23     MIRAB\n",
       "24     MIRAB\n",
       "25     MIRAB\n",
       "26     MIRAB\n",
       "27     POIRE\n",
       "28     MIRAB\n",
       "29     MIRAB\n",
       "30     POIRE\n",
       "31     MIRAB\n",
       "32     MIRAB\n",
       "33     MIRAB\n",
       "34     POIRE\n",
       "35    KIRSCH\n",
       "36     POIRE\n",
       "37     POIRE\n",
       "38     MIRAB\n",
       "39     POIRE\n",
       "40     POIRE\n",
       "41     POIRE\n",
       "42     POIRE\n",
       "43     POIRE\n",
       "44     POIRE\n",
       "45     POIRE\n",
       "46     POIRE\n",
       "47     MIRAB\n",
       "48     POIRE\n",
       "49     POIRE\n",
       "Name: prediction, dtype: object"
      ]
     },
     "execution_count": 8,
     "metadata": {},
     "output_type": "execute_result"
    }
   ],
   "source": [
    "yPred = res_pcada.predict(DTest)\n",
    "yPred"
   ]
  },
  {
   "cell_type": "code",
   "execution_count": 9,
   "metadata": {},
   "outputs": [
    {
     "data": {
      "text/html": [
       "<div>\n",
       "<style scoped>\n",
       "    .dataframe tbody tr th:only-of-type {\n",
       "        vertical-align: middle;\n",
       "    }\n",
       "\n",
       "    .dataframe tbody tr th {\n",
       "        vertical-align: top;\n",
       "    }\n",
       "\n",
       "    .dataframe thead th {\n",
       "        text-align: right;\n",
       "    }\n",
       "</style>\n",
       "<table border=\"1\" class=\"dataframe\">\n",
       "  <thead>\n",
       "    <tr style=\"text-align: right;\">\n",
       "      <th>prediction</th>\n",
       "      <th>KIRSCH</th>\n",
       "      <th>MIRAB</th>\n",
       "      <th>POIRE</th>\n",
       "    </tr>\n",
       "    <tr>\n",
       "      <th>TYPE</th>\n",
       "      <th></th>\n",
       "      <th></th>\n",
       "      <th></th>\n",
       "    </tr>\n",
       "  </thead>\n",
       "  <tbody>\n",
       "    <tr>\n",
       "      <th>KIRSCH</th>\n",
       "      <td>14</td>\n",
       "      <td>0</td>\n",
       "      <td>0</td>\n",
       "    </tr>\n",
       "    <tr>\n",
       "      <th>MIRAB</th>\n",
       "      <td>0</td>\n",
       "      <td>14</td>\n",
       "      <td>3</td>\n",
       "    </tr>\n",
       "    <tr>\n",
       "      <th>POIRE</th>\n",
       "      <td>1</td>\n",
       "      <td>5</td>\n",
       "      <td>13</td>\n",
       "    </tr>\n",
       "  </tbody>\n",
       "</table>\n",
       "</div>"
      ],
      "text/plain": [
       "prediction  KIRSCH  MIRAB  POIRE\n",
       "TYPE                            \n",
       "KIRSCH          14      0      0\n",
       "MIRAB            0     14      3\n",
       "POIRE            1      5     13"
      ]
     },
     "execution_count": 9,
     "metadata": {},
     "output_type": "execute_result"
    }
   ],
   "source": [
    "pd.crosstab(DTest.TYPE,yPred)"
   ]
  }
 ],
 "metadata": {
  "kernelspec": {
   "display_name": "Python 3",
   "language": "python",
   "name": "python3"
  },
  "language_info": {
   "codemirror_mode": {
    "name": "ipython",
    "version": 3
   },
   "file_extension": ".py",
   "mimetype": "text/x-python",
   "name": "python",
   "nbconvert_exporter": "python",
   "pygments_lexer": "ipython3",
   "version": "3.10.5"
  }
 },
 "nbformat": 4,
 "nbformat_minor": 2
}
