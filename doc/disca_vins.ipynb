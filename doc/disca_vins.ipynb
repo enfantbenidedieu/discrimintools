{
 "cells": [
  {
   "attachments": {},
   "cell_type": "markdown",
   "metadata": {},
   "source": [
    "# Discriminant Correspondence Analysis (DISCA)"
   ]
  },
  {
   "cell_type": "code",
   "execution_count": 1,
   "metadata": {},
   "outputs": [],
   "source": [
    "import warnings\n",
    "warnings.simplefilter(action='ignore', category=FutureWarning)\n",
    "warnings.filterwarnings(\"ignore\")"
   ]
  },
  {
   "cell_type": "code",
   "execution_count": 2,
   "metadata": {},
   "outputs": [
    {
     "data": {
      "text/html": [
       "<div>\n",
       "<style scoped>\n",
       "    .dataframe tbody tr th:only-of-type {\n",
       "        vertical-align: middle;\n",
       "    }\n",
       "\n",
       "    .dataframe tbody tr th {\n",
       "        vertical-align: top;\n",
       "    }\n",
       "\n",
       "    .dataframe thead th {\n",
       "        text-align: right;\n",
       "    }\n",
       "</style>\n",
       "<table border=\"1\" class=\"dataframe\">\n",
       "  <thead>\n",
       "    <tr style=\"text-align: right;\">\n",
       "      <th></th>\n",
       "      <th>Region</th>\n",
       "      <th>Woody</th>\n",
       "      <th>Fruity</th>\n",
       "      <th>Sweet</th>\n",
       "      <th>Alcohol</th>\n",
       "      <th>Hedonic</th>\n",
       "    </tr>\n",
       "  </thead>\n",
       "  <tbody>\n",
       "    <tr>\n",
       "      <th>0</th>\n",
       "      <td>Loire</td>\n",
       "      <td>A</td>\n",
       "      <td>C</td>\n",
       "      <td>B</td>\n",
       "      <td>A</td>\n",
       "      <td>A</td>\n",
       "    </tr>\n",
       "    <tr>\n",
       "      <th>1</th>\n",
       "      <td>Loire</td>\n",
       "      <td>B</td>\n",
       "      <td>C</td>\n",
       "      <td>C</td>\n",
       "      <td>B</td>\n",
       "      <td>C</td>\n",
       "    </tr>\n",
       "    <tr>\n",
       "      <th>2</th>\n",
       "      <td>Loire</td>\n",
       "      <td>A</td>\n",
       "      <td>B</td>\n",
       "      <td>B</td>\n",
       "      <td>A</td>\n",
       "      <td>B</td>\n",
       "    </tr>\n",
       "    <tr>\n",
       "      <th>3</th>\n",
       "      <td>Loire</td>\n",
       "      <td>A</td>\n",
       "      <td>C</td>\n",
       "      <td>C</td>\n",
       "      <td>B</td>\n",
       "      <td>D</td>\n",
       "    </tr>\n",
       "    <tr>\n",
       "      <th>4</th>\n",
       "      <td>Rhone</td>\n",
       "      <td>A</td>\n",
       "      <td>B</td>\n",
       "      <td>A</td>\n",
       "      <td>C</td>\n",
       "      <td>C</td>\n",
       "    </tr>\n",
       "    <tr>\n",
       "      <th>5</th>\n",
       "      <td>Rhone</td>\n",
       "      <td>B</td>\n",
       "      <td>A</td>\n",
       "      <td>A</td>\n",
       "      <td>C</td>\n",
       "      <td>B</td>\n",
       "    </tr>\n",
       "    <tr>\n",
       "      <th>6</th>\n",
       "      <td>Rhone</td>\n",
       "      <td>C</td>\n",
       "      <td>B</td>\n",
       "      <td>B</td>\n",
       "      <td>B</td>\n",
       "      <td>A</td>\n",
       "    </tr>\n",
       "    <tr>\n",
       "      <th>7</th>\n",
       "      <td>Rhone</td>\n",
       "      <td>B</td>\n",
       "      <td>C</td>\n",
       "      <td>C</td>\n",
       "      <td>C</td>\n",
       "      <td>D</td>\n",
       "    </tr>\n",
       "    <tr>\n",
       "      <th>8</th>\n",
       "      <td>Beaujolais</td>\n",
       "      <td>C</td>\n",
       "      <td>A</td>\n",
       "      <td>C</td>\n",
       "      <td>A</td>\n",
       "      <td>A</td>\n",
       "    </tr>\n",
       "    <tr>\n",
       "      <th>9</th>\n",
       "      <td>Beaujolais</td>\n",
       "      <td>B</td>\n",
       "      <td>A</td>\n",
       "      <td>C</td>\n",
       "      <td>A</td>\n",
       "      <td>B</td>\n",
       "    </tr>\n",
       "    <tr>\n",
       "      <th>10</th>\n",
       "      <td>Beaujolais</td>\n",
       "      <td>C</td>\n",
       "      <td>B</td>\n",
       "      <td>B</td>\n",
       "      <td>B</td>\n",
       "      <td>D</td>\n",
       "    </tr>\n",
       "    <tr>\n",
       "      <th>11</th>\n",
       "      <td>Beaujolais</td>\n",
       "      <td>C</td>\n",
       "      <td>A</td>\n",
       "      <td>A</td>\n",
       "      <td>A</td>\n",
       "      <td>C</td>\n",
       "    </tr>\n",
       "  </tbody>\n",
       "</table>\n",
       "</div>"
      ],
      "text/plain": [
       "        Region Woody Fruity Sweet Alcohol Hedonic\n",
       "0        Loire     A      C     B       A       A\n",
       "1        Loire     B      C     C       B       C\n",
       "2        Loire     A      B     B       A       B\n",
       "3        Loire     A      C     C       B       D\n",
       "4        Rhone     A      B     A       C       C\n",
       "5        Rhone     B      A     A       C       B\n",
       "6        Rhone     C      B     B       B       A\n",
       "7        Rhone     B      C     C       C       D\n",
       "8   Beaujolais     C      A     C       A       A\n",
       "9   Beaujolais     B      A     C       A       B\n",
       "10  Beaujolais     C      B     B       B       D\n",
       "11  Beaujolais     C      A     A       A       C"
      ]
     },
     "execution_count": 2,
     "metadata": {},
     "output_type": "execute_result"
    }
   ],
   "source": [
    "# Chargement de la base\n",
    "import pandas as pd\n",
    "D = pd.read_excel(\"./data/Data_Illustration_Livre_ADL.xlsx\",sheet_name=\"DIVAY\",header=0)\n",
    "D"
   ]
  },
  {
   "cell_type": "code",
   "execution_count": 3,
   "metadata": {},
   "outputs": [],
   "source": [
    "from discrimintools import DISCA"
   ]
  },
  {
   "cell_type": "code",
   "execution_count": 4,
   "metadata": {},
   "outputs": [
    {
     "data": {
      "text/html": [
       "<style>#sk-container-id-1 {color: black;background-color: white;}#sk-container-id-1 pre{padding: 0;}#sk-container-id-1 div.sk-toggleable {background-color: white;}#sk-container-id-1 label.sk-toggleable__label {cursor: pointer;display: block;width: 100%;margin-bottom: 0;padding: 0.3em;box-sizing: border-box;text-align: center;}#sk-container-id-1 label.sk-toggleable__label-arrow:before {content: \"▸\";float: left;margin-right: 0.25em;color: #696969;}#sk-container-id-1 label.sk-toggleable__label-arrow:hover:before {color: black;}#sk-container-id-1 div.sk-estimator:hover label.sk-toggleable__label-arrow:before {color: black;}#sk-container-id-1 div.sk-toggleable__content {max-height: 0;max-width: 0;overflow: hidden;text-align: left;background-color: #f0f8ff;}#sk-container-id-1 div.sk-toggleable__content pre {margin: 0.2em;color: black;border-radius: 0.25em;background-color: #f0f8ff;}#sk-container-id-1 input.sk-toggleable__control:checked~div.sk-toggleable__content {max-height: 200px;max-width: 100%;overflow: auto;}#sk-container-id-1 input.sk-toggleable__control:checked~label.sk-toggleable__label-arrow:before {content: \"▾\";}#sk-container-id-1 div.sk-estimator input.sk-toggleable__control:checked~label.sk-toggleable__label {background-color: #d4ebff;}#sk-container-id-1 div.sk-label input.sk-toggleable__control:checked~label.sk-toggleable__label {background-color: #d4ebff;}#sk-container-id-1 input.sk-hidden--visually {border: 0;clip: rect(1px 1px 1px 1px);clip: rect(1px, 1px, 1px, 1px);height: 1px;margin: -1px;overflow: hidden;padding: 0;position: absolute;width: 1px;}#sk-container-id-1 div.sk-estimator {font-family: monospace;background-color: #f0f8ff;border: 1px dotted black;border-radius: 0.25em;box-sizing: border-box;margin-bottom: 0.5em;}#sk-container-id-1 div.sk-estimator:hover {background-color: #d4ebff;}#sk-container-id-1 div.sk-parallel-item::after {content: \"\";width: 100%;border-bottom: 1px solid gray;flex-grow: 1;}#sk-container-id-1 div.sk-label:hover label.sk-toggleable__label {background-color: #d4ebff;}#sk-container-id-1 div.sk-serial::before {content: \"\";position: absolute;border-left: 1px solid gray;box-sizing: border-box;top: 0;bottom: 0;left: 50%;z-index: 0;}#sk-container-id-1 div.sk-serial {display: flex;flex-direction: column;align-items: center;background-color: white;padding-right: 0.2em;padding-left: 0.2em;position: relative;}#sk-container-id-1 div.sk-item {position: relative;z-index: 1;}#sk-container-id-1 div.sk-parallel {display: flex;align-items: stretch;justify-content: center;background-color: white;position: relative;}#sk-container-id-1 div.sk-item::before, #sk-container-id-1 div.sk-parallel-item::before {content: \"\";position: absolute;border-left: 1px solid gray;box-sizing: border-box;top: 0;bottom: 0;left: 50%;z-index: -1;}#sk-container-id-1 div.sk-parallel-item {display: flex;flex-direction: column;z-index: 1;position: relative;background-color: white;}#sk-container-id-1 div.sk-parallel-item:first-child::after {align-self: flex-end;width: 50%;}#sk-container-id-1 div.sk-parallel-item:last-child::after {align-self: flex-start;width: 50%;}#sk-container-id-1 div.sk-parallel-item:only-child::after {width: 0;}#sk-container-id-1 div.sk-dashed-wrapped {border: 1px dashed gray;margin: 0 0.4em 0.5em 0.4em;box-sizing: border-box;padding-bottom: 0.4em;background-color: white;}#sk-container-id-1 div.sk-label label {font-family: monospace;font-weight: bold;display: inline-block;line-height: 1.2em;}#sk-container-id-1 div.sk-label-container {text-align: center;}#sk-container-id-1 div.sk-container {/* jupyter's `normalize.less` sets `[hidden] { display: none; }` but bootstrap.min.css set `[hidden] { display: none !important; }` so we also need the `!important` here to be able to override the default hidden behavior on the sphinx rendered scikit-learn.org. See: https://github.com/scikit-learn/scikit-learn/issues/21755 */display: inline-block !important;position: relative;}#sk-container-id-1 div.sk-text-repr-fallback {display: none;}</style><div id=\"sk-container-id-1\" class=\"sk-top-container\"><div class=\"sk-text-repr-fallback\"><pre>DISCA(priors=&#x27;prop&#x27;, target=[&#x27;Region&#x27;])</pre><b>In a Jupyter environment, please rerun this cell to show the HTML representation or trust the notebook. <br />On GitHub, the HTML representation is unable to render, please try loading this page with nbviewer.org.</b></div><div class=\"sk-container\" hidden><div class=\"sk-item\"><div class=\"sk-estimator sk-toggleable\"><input class=\"sk-toggleable__control sk-hidden--visually\" id=\"sk-estimator-id-1\" type=\"checkbox\" checked><label for=\"sk-estimator-id-1\" class=\"sk-toggleable__label sk-toggleable__label-arrow\">DISCA</label><div class=\"sk-toggleable__content\"><pre>DISCA(priors=&#x27;prop&#x27;, target=[&#x27;Region&#x27;])</pre></div></div></div></div></div>"
      ],
      "text/plain": [
       "DISCA(priors='prop', target=['Region'])"
      ]
     },
     "execution_count": 4,
     "metadata": {},
     "output_type": "execute_result"
    }
   ],
   "source": [
    "disca = DISCA(n_components=None,target=[\"Region\"],priors=\"prop\",parallelize=False)\n",
    "\n",
    "disca.fit(D)"
   ]
  },
  {
   "cell_type": "markdown",
   "metadata": {},
   "source": [
    "## Affectation d'un individu supplementarire"
   ]
  },
  {
   "cell_type": "code",
   "execution_count": 5,
   "metadata": {},
   "outputs": [
    {
     "data": {
      "text/html": [
       "<div>\n",
       "<style scoped>\n",
       "    .dataframe tbody tr th:only-of-type {\n",
       "        vertical-align: middle;\n",
       "    }\n",
       "\n",
       "    .dataframe tbody tr th {\n",
       "        vertical-align: top;\n",
       "    }\n",
       "\n",
       "    .dataframe thead th {\n",
       "        text-align: right;\n",
       "    }\n",
       "</style>\n",
       "<table border=\"1\" class=\"dataframe\">\n",
       "  <thead>\n",
       "    <tr style=\"text-align: right;\">\n",
       "      <th></th>\n",
       "      <th>Woody</th>\n",
       "      <th>Fruity</th>\n",
       "      <th>Sweet</th>\n",
       "      <th>Alcohol</th>\n",
       "      <th>Hedonic</th>\n",
       "    </tr>\n",
       "  </thead>\n",
       "  <tbody>\n",
       "    <tr>\n",
       "      <th>12</th>\n",
       "      <td>A</td>\n",
       "      <td>C</td>\n",
       "      <td>B</td>\n",
       "      <td>B</td>\n",
       "      <td>A</td>\n",
       "    </tr>\n",
       "  </tbody>\n",
       "</table>\n",
       "</div>"
      ],
      "text/plain": [
       "   Woody Fruity Sweet Alcohol Hedonic\n",
       "12     A      C     B       B       A"
      ]
     },
     "execution_count": 5,
     "metadata": {},
     "output_type": "execute_result"
    }
   ],
   "source": [
    "# Individus supplémentaires\n",
    "Xsup = pd.DataFrame({\n",
    "    \"Woody\" : \"A\",\"Fruity\" : \"C\", \"Sweet\" : \"B\", \"Alcohol\" : \"B\", \"Hedonic\" : \"A\"\n",
    "},index=[12])\n",
    "Xsup"
   ]
  },
  {
   "cell_type": "code",
   "execution_count": 6,
   "metadata": {},
   "outputs": [
    {
     "data": {
      "text/html": [
       "<div>\n",
       "<style scoped>\n",
       "    .dataframe tbody tr th:only-of-type {\n",
       "        vertical-align: middle;\n",
       "    }\n",
       "\n",
       "    .dataframe tbody tr th {\n",
       "        vertical-align: top;\n",
       "    }\n",
       "\n",
       "    .dataframe thead th {\n",
       "        text-align: right;\n",
       "    }\n",
       "</style>\n",
       "<table border=\"1\" class=\"dataframe\">\n",
       "  <thead>\n",
       "    <tr style=\"text-align: right;\">\n",
       "      <th></th>\n",
       "      <th>Dim.1</th>\n",
       "      <th>Dim.2</th>\n",
       "    </tr>\n",
       "  </thead>\n",
       "  <tbody>\n",
       "    <tr>\n",
       "      <th>12</th>\n",
       "      <td>-1.006603</td>\n",
       "      <td>-0.153958</td>\n",
       "    </tr>\n",
       "  </tbody>\n",
       "</table>\n",
       "</div>"
      ],
      "text/plain": [
       "       Dim.1     Dim.2\n",
       "12 -1.006603 -0.153958"
      ]
     },
     "execution_count": 6,
     "metadata": {},
     "output_type": "execute_result"
    }
   ],
   "source": [
    "disca.transform(Xsup)"
   ]
  },
  {
   "cell_type": "code",
   "execution_count": 7,
   "metadata": {},
   "outputs": [
    {
     "data": {
      "text/html": [
       "<div>\n",
       "<style scoped>\n",
       "    .dataframe tbody tr th:only-of-type {\n",
       "        vertical-align: middle;\n",
       "    }\n",
       "\n",
       "    .dataframe tbody tr th {\n",
       "        vertical-align: top;\n",
       "    }\n",
       "\n",
       "    .dataframe thead th {\n",
       "        text-align: right;\n",
       "    }\n",
       "</style>\n",
       "<table border=\"1\" class=\"dataframe\">\n",
       "  <thead>\n",
       "    <tr style=\"text-align: right;\">\n",
       "      <th></th>\n",
       "      <th>Beaujolais</th>\n",
       "      <th>Loire</th>\n",
       "      <th>Rhone</th>\n",
       "    </tr>\n",
       "  </thead>\n",
       "  <tbody>\n",
       "    <tr>\n",
       "      <th>12</th>\n",
       "      <td>2.501952</td>\n",
       "      <td>0.126952</td>\n",
       "      <td>1.841952</td>\n",
       "    </tr>\n",
       "  </tbody>\n",
       "</table>\n",
       "</div>"
      ],
      "text/plain": [
       "    Beaujolais     Loire     Rhone\n",
       "12    2.501952  0.126952  1.841952"
      ]
     },
     "execution_count": 7,
     "metadata": {},
     "output_type": "execute_result"
    }
   ],
   "source": [
    "disca.decision_function(Xsup)"
   ]
  },
  {
   "cell_type": "code",
   "execution_count": 8,
   "metadata": {},
   "outputs": [
    {
     "data": {
      "text/html": [
       "<div>\n",
       "<style scoped>\n",
       "    .dataframe tbody tr th:only-of-type {\n",
       "        vertical-align: middle;\n",
       "    }\n",
       "\n",
       "    .dataframe tbody tr th {\n",
       "        vertical-align: top;\n",
       "    }\n",
       "\n",
       "    .dataframe thead th {\n",
       "        text-align: right;\n",
       "    }\n",
       "</style>\n",
       "<table border=\"1\" class=\"dataframe\">\n",
       "  <thead>\n",
       "    <tr style=\"text-align: right;\">\n",
       "      <th></th>\n",
       "      <th>Beaujolais</th>\n",
       "      <th>Loire</th>\n",
       "      <th>Rhone</th>\n",
       "    </tr>\n",
       "  </thead>\n",
       "  <tbody>\n",
       "    <tr>\n",
       "      <th>12</th>\n",
       "      <td>0.176372</td>\n",
       "      <td>0.578301</td>\n",
       "      <td>0.245327</td>\n",
       "    </tr>\n",
       "  </tbody>\n",
       "</table>\n",
       "</div>"
      ],
      "text/plain": [
       "    Beaujolais     Loire     Rhone\n",
       "12    0.176372  0.578301  0.245327"
      ]
     },
     "execution_count": 8,
     "metadata": {},
     "output_type": "execute_result"
    }
   ],
   "source": [
    "disca.predict_proba(Xsup)"
   ]
  },
  {
   "cell_type": "code",
   "execution_count": 9,
   "metadata": {},
   "outputs": [
    {
     "data": {
      "text/plain": [
       "12    Loire\n",
       "Name: prediction, dtype: object"
      ]
     },
     "execution_count": 9,
     "metadata": {},
     "output_type": "execute_result"
    }
   ],
   "source": [
    "disca.predict(Xsup)"
   ]
  },
  {
   "cell_type": "markdown",
   "metadata": {},
   "source": [
    "## Analyse Factorielles des Correspondances"
   ]
  },
  {
   "cell_type": "markdown",
   "metadata": {},
   "source": [
    "### Individus (groupes - classes)"
   ]
  },
  {
   "cell_type": "code",
   "execution_count": 10,
   "metadata": {},
   "outputs": [
    {
     "data": {
      "text/plain": [
       "dict_keys(['coord', 'contrib', 'cos2', 'infos', 'classes', 'dist2', 'dist'])"
      ]
     },
     "execution_count": 10,
     "metadata": {},
     "output_type": "execute_result"
    }
   ],
   "source": [
    "row = disca.classes_\n",
    "row.keys()"
   ]
  },
  {
   "cell_type": "code",
   "execution_count": 11,
   "metadata": {},
   "outputs": [
    {
     "data": {
      "text/html": [
       "<div>\n",
       "<style scoped>\n",
       "    .dataframe tbody tr th:only-of-type {\n",
       "        vertical-align: middle;\n",
       "    }\n",
       "\n",
       "    .dataframe tbody tr th {\n",
       "        vertical-align: top;\n",
       "    }\n",
       "\n",
       "    .dataframe thead th {\n",
       "        text-align: right;\n",
       "    }\n",
       "</style>\n",
       "<table border=\"1\" class=\"dataframe\">\n",
       "  <thead>\n",
       "    <tr style=\"text-align: right;\">\n",
       "      <th></th>\n",
       "      <th>Dim.1</th>\n",
       "      <th>Dim.2</th>\n",
       "    </tr>\n",
       "  </thead>\n",
       "  <tbody>\n",
       "    <tr>\n",
       "      <th>Beaujolais</th>\n",
       "      <td>0.556908</td>\n",
       "      <td>-0.393515</td>\n",
       "    </tr>\n",
       "    <tr>\n",
       "      <th>Loire</th>\n",
       "      <td>-0.659534</td>\n",
       "      <td>-0.234552</td>\n",
       "    </tr>\n",
       "    <tr>\n",
       "      <th>Rhone</th>\n",
       "      <td>0.102626</td>\n",
       "      <td>0.628067</td>\n",
       "    </tr>\n",
       "  </tbody>\n",
       "</table>\n",
       "</div>"
      ],
      "text/plain": [
       "               Dim.1     Dim.2\n",
       "Beaujolais  0.556908 -0.393515\n",
       "Loire      -0.659534 -0.234552\n",
       "Rhone       0.102626  0.628067"
      ]
     },
     "execution_count": 11,
     "metadata": {},
     "output_type": "execute_result"
    }
   ],
   "source": [
    "### Coordonnées factorielles\n",
    "row[\"coord\"].head(6)"
   ]
  },
  {
   "cell_type": "code",
   "execution_count": 12,
   "metadata": {},
   "outputs": [
    {
     "data": {
      "text/html": [
       "<div>\n",
       "<style scoped>\n",
       "    .dataframe tbody tr th:only-of-type {\n",
       "        vertical-align: middle;\n",
       "    }\n",
       "\n",
       "    .dataframe tbody tr th {\n",
       "        vertical-align: top;\n",
       "    }\n",
       "\n",
       "    .dataframe thead th {\n",
       "        text-align: right;\n",
       "    }\n",
       "</style>\n",
       "<table border=\"1\" class=\"dataframe\">\n",
       "  <thead>\n",
       "    <tr style=\"text-align: right;\">\n",
       "      <th></th>\n",
       "      <th>Dim.1</th>\n",
       "      <th>Dim.2</th>\n",
       "    </tr>\n",
       "  </thead>\n",
       "  <tbody>\n",
       "    <tr>\n",
       "      <th>Beaujolais</th>\n",
       "      <td>0.666981</td>\n",
       "      <td>0.333019</td>\n",
       "    </tr>\n",
       "    <tr>\n",
       "      <th>Loire</th>\n",
       "      <td>0.887725</td>\n",
       "      <td>0.112275</td>\n",
       "    </tr>\n",
       "    <tr>\n",
       "      <th>Rhone</th>\n",
       "      <td>0.026005</td>\n",
       "      <td>0.973995</td>\n",
       "    </tr>\n",
       "  </tbody>\n",
       "</table>\n",
       "</div>"
      ],
      "text/plain": [
       "               Dim.1     Dim.2\n",
       "Beaujolais  0.666981  0.333019\n",
       "Loire       0.887725  0.112275\n",
       "Rhone       0.026005  0.973995"
      ]
     },
     "execution_count": 12,
     "metadata": {},
     "output_type": "execute_result"
    }
   ],
   "source": [
    "### Cos2\n",
    "row[\"cos2\"].head(6)"
   ]
  },
  {
   "cell_type": "code",
   "execution_count": 13,
   "metadata": {},
   "outputs": [
    {
     "data": {
      "text/html": [
       "<div>\n",
       "<style scoped>\n",
       "    .dataframe tbody tr th:only-of-type {\n",
       "        vertical-align: middle;\n",
       "    }\n",
       "\n",
       "    .dataframe tbody tr th {\n",
       "        vertical-align: top;\n",
       "    }\n",
       "\n",
       "    .dataframe thead th {\n",
       "        text-align: right;\n",
       "    }\n",
       "</style>\n",
       "<table border=\"1\" class=\"dataframe\">\n",
       "  <thead>\n",
       "    <tr style=\"text-align: right;\">\n",
       "      <th></th>\n",
       "      <th>Dim.1</th>\n",
       "      <th>Dim.2</th>\n",
       "    </tr>\n",
       "  </thead>\n",
       "  <tbody>\n",
       "    <tr>\n",
       "      <th>Beaujolais</th>\n",
       "      <td>41.042884</td>\n",
       "      <td>25.623783</td>\n",
       "    </tr>\n",
       "    <tr>\n",
       "      <th>Loire</th>\n",
       "      <td>57.563349</td>\n",
       "      <td>9.103318</td>\n",
       "    </tr>\n",
       "    <tr>\n",
       "      <th>Rhone</th>\n",
       "      <td>1.393768</td>\n",
       "      <td>65.272899</td>\n",
       "    </tr>\n",
       "  </tbody>\n",
       "</table>\n",
       "</div>"
      ],
      "text/plain": [
       "                Dim.1      Dim.2\n",
       "Beaujolais  41.042884  25.623783\n",
       "Loire       57.563349   9.103318\n",
       "Rhone        1.393768  65.272899"
      ]
     },
     "execution_count": 13,
     "metadata": {},
     "output_type": "execute_result"
    }
   ],
   "source": [
    "### Contributions\n",
    "row[\"contrib\"].head(6)"
   ]
  },
  {
   "cell_type": "code",
   "execution_count": 14,
   "metadata": {},
   "outputs": [
    {
     "data": {
      "text/html": [
       "<div>\n",
       "<style scoped>\n",
       "    .dataframe tbody tr th:only-of-type {\n",
       "        vertical-align: middle;\n",
       "    }\n",
       "\n",
       "    .dataframe tbody tr th {\n",
       "        vertical-align: top;\n",
       "    }\n",
       "\n",
       "    .dataframe thead th {\n",
       "        text-align: right;\n",
       "    }\n",
       "</style>\n",
       "<table border=\"1\" class=\"dataframe\">\n",
       "  <thead>\n",
       "    <tr style=\"text-align: right;\">\n",
       "      <th></th>\n",
       "      <th>dist2</th>\n",
       "    </tr>\n",
       "    <tr>\n",
       "      <th>Region</th>\n",
       "      <th></th>\n",
       "    </tr>\n",
       "  </thead>\n",
       "  <tbody>\n",
       "    <tr>\n",
       "      <th>Beaujolais</th>\n",
       "      <td>0.465</td>\n",
       "    </tr>\n",
       "    <tr>\n",
       "      <th>Loire</th>\n",
       "      <td>0.490</td>\n",
       "    </tr>\n",
       "    <tr>\n",
       "      <th>Rhone</th>\n",
       "      <td>0.405</td>\n",
       "    </tr>\n",
       "  </tbody>\n",
       "</table>\n",
       "</div>"
      ],
      "text/plain": [
       "            dist2\n",
       "Region           \n",
       "Beaujolais  0.465\n",
       "Loire       0.490\n",
       "Rhone       0.405"
      ]
     },
     "execution_count": 14,
     "metadata": {},
     "output_type": "execute_result"
    }
   ],
   "source": [
    "### Distance à 2\n",
    "row[\"dist2\"]"
   ]
  },
  {
   "cell_type": "code",
   "execution_count": 15,
   "metadata": {},
   "outputs": [
    {
     "data": {
      "text/html": [
       "<div>\n",
       "<style scoped>\n",
       "    .dataframe tbody tr th:only-of-type {\n",
       "        vertical-align: middle;\n",
       "    }\n",
       "\n",
       "    .dataframe tbody tr th {\n",
       "        vertical-align: top;\n",
       "    }\n",
       "\n",
       "    .dataframe thead th {\n",
       "        text-align: right;\n",
       "    }\n",
       "</style>\n",
       "<table border=\"1\" class=\"dataframe\">\n",
       "  <thead>\n",
       "    <tr style=\"text-align: right;\">\n",
       "      <th></th>\n",
       "      <th>Beaujolais</th>\n",
       "      <th>Loire</th>\n",
       "      <th>Rhone</th>\n",
       "    </tr>\n",
       "  </thead>\n",
       "  <tbody>\n",
       "    <tr>\n",
       "      <th>Beaujolais</th>\n",
       "      <td>0.000</td>\n",
       "      <td>1.505</td>\n",
       "      <td>1.250</td>\n",
       "    </tr>\n",
       "    <tr>\n",
       "      <th>Loire</th>\n",
       "      <td>1.505</td>\n",
       "      <td>0.000</td>\n",
       "      <td>1.325</td>\n",
       "    </tr>\n",
       "    <tr>\n",
       "      <th>Rhone</th>\n",
       "      <td>1.250</td>\n",
       "      <td>1.325</td>\n",
       "      <td>0.000</td>\n",
       "    </tr>\n",
       "  </tbody>\n",
       "</table>\n",
       "</div>"
      ],
      "text/plain": [
       "            Beaujolais  Loire  Rhone\n",
       "Beaujolais       0.000  1.505  1.250\n",
       "Loire            1.505  0.000  1.325\n",
       "Rhone            1.250  1.325  0.000"
      ]
     },
     "execution_count": 15,
     "metadata": {},
     "output_type": "execute_result"
    }
   ],
   "source": [
    "### Distance entre les classes\n",
    "row[\"dist\"]"
   ]
  },
  {
   "cell_type": "markdown",
   "metadata": {},
   "source": [
    "### Variables/modalités"
   ]
  },
  {
   "cell_type": "code",
   "execution_count": 16,
   "metadata": {},
   "outputs": [
    {
     "data": {
      "text/plain": [
       "dict_keys(['coord', 'contrib', 'cos2', 'infos'])"
      ]
     },
     "execution_count": 16,
     "metadata": {},
     "output_type": "execute_result"
    }
   ],
   "source": [
    "var = disca.var_\n",
    "var.keys()"
   ]
  },
  {
   "cell_type": "code",
   "execution_count": 17,
   "metadata": {},
   "outputs": [
    {
     "data": {
      "text/html": [
       "<div>\n",
       "<style scoped>\n",
       "    .dataframe tbody tr th:only-of-type {\n",
       "        vertical-align: middle;\n",
       "    }\n",
       "\n",
       "    .dataframe tbody tr th {\n",
       "        vertical-align: top;\n",
       "    }\n",
       "\n",
       "    .dataframe thead th {\n",
       "        text-align: right;\n",
       "    }\n",
       "</style>\n",
       "<table border=\"1\" class=\"dataframe\">\n",
       "  <thead>\n",
       "    <tr style=\"text-align: right;\">\n",
       "      <th></th>\n",
       "      <th>Dim.1</th>\n",
       "      <th>Dim.2</th>\n",
       "    </tr>\n",
       "  </thead>\n",
       "  <tbody>\n",
       "    <tr>\n",
       "      <th>Woody_A</th>\n",
       "      <td>-0.934466</td>\n",
       "      <td>-0.042104</td>\n",
       "    </tr>\n",
       "    <tr>\n",
       "      <th>Woody_B</th>\n",
       "      <td>0.051121</td>\n",
       "      <td>0.349838</td>\n",
       "    </tr>\n",
       "    <tr>\n",
       "      <th>Woody_C</th>\n",
       "      <td>0.883346</td>\n",
       "      <td>-0.307734</td>\n",
       "    </tr>\n",
       "    <tr>\n",
       "      <th>Fruity_A</th>\n",
       "      <td>0.883346</td>\n",
       "      <td>-0.307734</td>\n",
       "    </tr>\n",
       "    <tr>\n",
       "      <th>Fruity_B</th>\n",
       "      <td>0.051121</td>\n",
       "      <td>0.349838</td>\n",
       "    </tr>\n",
       "    <tr>\n",
       "      <th>Fruity_C</th>\n",
       "      <td>-0.934466</td>\n",
       "      <td>-0.042104</td>\n",
       "    </tr>\n",
       "  </tbody>\n",
       "</table>\n",
       "</div>"
      ],
      "text/plain": [
       "             Dim.1     Dim.2\n",
       "Woody_A  -0.934466 -0.042104\n",
       "Woody_B   0.051121  0.349838\n",
       "Woody_C   0.883346 -0.307734\n",
       "Fruity_A  0.883346 -0.307734\n",
       "Fruity_B  0.051121  0.349838\n",
       "Fruity_C -0.934466 -0.042104"
      ]
     },
     "execution_count": 17,
     "metadata": {},
     "output_type": "execute_result"
    }
   ],
   "source": [
    "## Coordonnées des indicatrices\n",
    "var[\"coord\"].head(6)"
   ]
  },
  {
   "cell_type": "code",
   "execution_count": 18,
   "metadata": {},
   "outputs": [
    {
     "data": {
      "text/html": [
       "<div>\n",
       "<style scoped>\n",
       "    .dataframe tbody tr th:only-of-type {\n",
       "        vertical-align: middle;\n",
       "    }\n",
       "\n",
       "    .dataframe tbody tr th {\n",
       "        vertical-align: top;\n",
       "    }\n",
       "\n",
       "    .dataframe thead th {\n",
       "        text-align: right;\n",
       "    }\n",
       "</style>\n",
       "<table border=\"1\" class=\"dataframe\">\n",
       "  <thead>\n",
       "    <tr style=\"text-align: right;\">\n",
       "      <th></th>\n",
       "      <th>Dim.1</th>\n",
       "      <th>Dim.2</th>\n",
       "    </tr>\n",
       "  </thead>\n",
       "  <tbody>\n",
       "    <tr>\n",
       "      <th>Woody_A</th>\n",
       "      <td>23.111530</td>\n",
       "      <td>0.058667</td>\n",
       "    </tr>\n",
       "    <tr>\n",
       "      <th>Woody_B</th>\n",
       "      <td>0.069166</td>\n",
       "      <td>4.050284</td>\n",
       "    </tr>\n",
       "    <tr>\n",
       "      <th>Woody_C</th>\n",
       "      <td>20.652034</td>\n",
       "      <td>3.134028</td>\n",
       "    </tr>\n",
       "    <tr>\n",
       "      <th>Fruity_A</th>\n",
       "      <td>20.652034</td>\n",
       "      <td>3.134028</td>\n",
       "    </tr>\n",
       "    <tr>\n",
       "      <th>Fruity_B</th>\n",
       "      <td>0.069166</td>\n",
       "      <td>4.050284</td>\n",
       "    </tr>\n",
       "    <tr>\n",
       "      <th>Fruity_C</th>\n",
       "      <td>23.111530</td>\n",
       "      <td>0.058667</td>\n",
       "    </tr>\n",
       "  </tbody>\n",
       "</table>\n",
       "</div>"
      ],
      "text/plain": [
       "              Dim.1     Dim.2\n",
       "Woody_A   23.111530  0.058667\n",
       "Woody_B    0.069166  4.050284\n",
       "Woody_C   20.652034  3.134028\n",
       "Fruity_A  20.652034  3.134028\n",
       "Fruity_B   0.069166  4.050284\n",
       "Fruity_C  23.111530  0.058667"
      ]
     },
     "execution_count": 18,
     "metadata": {},
     "output_type": "execute_result"
    }
   ],
   "source": [
    "### Conributions aux facteurs\n",
    "var[\"contrib\"].head(6)"
   ]
  },
  {
   "cell_type": "markdown",
   "metadata": {},
   "source": [
    "## Analyse discriminante\n",
    "\n",
    "### Coefficients des fonctions discriminantes canoniques"
   ]
  },
  {
   "cell_type": "code",
   "execution_count": 19,
   "metadata": {},
   "outputs": [
    {
     "data": {
      "text/html": [
       "<div>\n",
       "<style scoped>\n",
       "    .dataframe tbody tr th:only-of-type {\n",
       "        vertical-align: middle;\n",
       "    }\n",
       "\n",
       "    .dataframe tbody tr th {\n",
       "        vertical-align: top;\n",
       "    }\n",
       "\n",
       "    .dataframe thead th {\n",
       "        text-align: right;\n",
       "    }\n",
       "</style>\n",
       "<table border=\"1\" class=\"dataframe\">\n",
       "  <thead>\n",
       "    <tr style=\"text-align: right;\">\n",
       "      <th></th>\n",
       "      <th>Dim.1</th>\n",
       "      <th>Dim.2</th>\n",
       "    </tr>\n",
       "  </thead>\n",
       "  <tbody>\n",
       "    <tr>\n",
       "      <th>Woody_A</th>\n",
       "      <td>-0.372383</td>\n",
       "      <td>-0.018762</td>\n",
       "    </tr>\n",
       "    <tr>\n",
       "      <th>Woody_B</th>\n",
       "      <td>0.020371</td>\n",
       "      <td>0.155890</td>\n",
       "    </tr>\n",
       "    <tr>\n",
       "      <th>Woody_C</th>\n",
       "      <td>0.352012</td>\n",
       "      <td>-0.137128</td>\n",
       "    </tr>\n",
       "    <tr>\n",
       "      <th>Fruity_A</th>\n",
       "      <td>0.352012</td>\n",
       "      <td>-0.137128</td>\n",
       "    </tr>\n",
       "    <tr>\n",
       "      <th>Fruity_B</th>\n",
       "      <td>0.020371</td>\n",
       "      <td>0.155890</td>\n",
       "    </tr>\n",
       "    <tr>\n",
       "      <th>Fruity_C</th>\n",
       "      <td>-0.372383</td>\n",
       "      <td>-0.018762</td>\n",
       "    </tr>\n",
       "    <tr>\n",
       "      <th>Sweet_A</th>\n",
       "      <td>0.201720</td>\n",
       "      <td>0.285476</td>\n",
       "    </tr>\n",
       "    <tr>\n",
       "      <th>Sweet_B</th>\n",
       "      <td>-0.130918</td>\n",
       "      <td>-0.058217</td>\n",
       "    </tr>\n",
       "    <tr>\n",
       "      <th>Sweet_C</th>\n",
       "      <td>-0.016297</td>\n",
       "      <td>-0.124712</td>\n",
       "    </tr>\n",
       "    <tr>\n",
       "      <th>Alcohol_A</th>\n",
       "      <td>0.055843</td>\n",
       "      <td>-0.327562</td>\n",
       "    </tr>\n",
       "    <tr>\n",
       "      <th>Alcohol_B</th>\n",
       "      <td>-0.130918</td>\n",
       "      <td>-0.058217</td>\n",
       "    </tr>\n",
       "    <tr>\n",
       "      <th>Alcohol_C</th>\n",
       "      <td>0.081486</td>\n",
       "      <td>0.623560</td>\n",
       "    </tr>\n",
       "    <tr>\n",
       "      <th>Hedonic_A</th>\n",
       "      <td>0.000000</td>\n",
       "      <td>0.000000</td>\n",
       "    </tr>\n",
       "    <tr>\n",
       "      <th>Hedonic_B</th>\n",
       "      <td>0.000000</td>\n",
       "      <td>0.000000</td>\n",
       "    </tr>\n",
       "    <tr>\n",
       "      <th>Hedonic_C</th>\n",
       "      <td>0.000000</td>\n",
       "      <td>0.000000</td>\n",
       "    </tr>\n",
       "    <tr>\n",
       "      <th>Hedonic_D</th>\n",
       "      <td>0.000000</td>\n",
       "      <td>0.000000</td>\n",
       "    </tr>\n",
       "  </tbody>\n",
       "</table>\n",
       "</div>"
      ],
      "text/plain": [
       "              Dim.1     Dim.2\n",
       "Woody_A   -0.372383 -0.018762\n",
       "Woody_B    0.020371  0.155890\n",
       "Woody_C    0.352012 -0.137128\n",
       "Fruity_A   0.352012 -0.137128\n",
       "Fruity_B   0.020371  0.155890\n",
       "Fruity_C  -0.372383 -0.018762\n",
       "Sweet_A    0.201720  0.285476\n",
       "Sweet_B   -0.130918 -0.058217\n",
       "Sweet_C   -0.016297 -0.124712\n",
       "Alcohol_A  0.055843 -0.327562\n",
       "Alcohol_B -0.130918 -0.058217\n",
       "Alcohol_C  0.081486  0.623560\n",
       "Hedonic_A  0.000000  0.000000\n",
       "Hedonic_B  0.000000  0.000000\n",
       "Hedonic_C  0.000000  0.000000\n",
       "Hedonic_D  0.000000  0.000000"
      ]
     },
     "execution_count": 19,
     "metadata": {},
     "output_type": "execute_result"
    }
   ],
   "source": [
    "disca.coef_"
   ]
  },
  {
   "cell_type": "markdown",
   "metadata": {},
   "source": [
    "### Coordonnées des individus"
   ]
  },
  {
   "cell_type": "code",
   "execution_count": 20,
   "metadata": {},
   "outputs": [
    {
     "data": {
      "text/plain": [
       "dict_keys(['coord'])"
      ]
     },
     "execution_count": 20,
     "metadata": {},
     "output_type": "execute_result"
    }
   ],
   "source": [
    "# Coordonnées des individus\n",
    "ind = disca.ind_\n",
    "ind.keys()"
   ]
  },
  {
   "cell_type": "code",
   "execution_count": 21,
   "metadata": {},
   "outputs": [
    {
     "data": {
      "text/html": [
       "<div>\n",
       "<style scoped>\n",
       "    .dataframe tbody tr th:only-of-type {\n",
       "        vertical-align: middle;\n",
       "    }\n",
       "\n",
       "    .dataframe tbody tr th {\n",
       "        vertical-align: top;\n",
       "    }\n",
       "\n",
       "    .dataframe thead th {\n",
       "        text-align: right;\n",
       "    }\n",
       "</style>\n",
       "<table border=\"1\" class=\"dataframe\">\n",
       "  <thead>\n",
       "    <tr style=\"text-align: right;\">\n",
       "      <th></th>\n",
       "      <th>Dim.1</th>\n",
       "      <th>Dim.2</th>\n",
       "    </tr>\n",
       "  </thead>\n",
       "  <tbody>\n",
       "    <tr>\n",
       "      <th>0</th>\n",
       "      <td>-0.819841</td>\n",
       "      <td>-0.423303</td>\n",
       "    </tr>\n",
       "    <tr>\n",
       "      <th>1</th>\n",
       "      <td>-0.499227</td>\n",
       "      <td>-0.045801</td>\n",
       "    </tr>\n",
       "    <tr>\n",
       "      <th>2</th>\n",
       "      <td>-0.427087</td>\n",
       "      <td>-0.248651</td>\n",
       "    </tr>\n",
       "    <tr>\n",
       "      <th>3</th>\n",
       "      <td>-0.891982</td>\n",
       "      <td>-0.220453</td>\n",
       "    </tr>\n",
       "    <tr>\n",
       "      <th>4</th>\n",
       "      <td>-0.068806</td>\n",
       "      <td>1.046165</td>\n",
       "    </tr>\n",
       "    <tr>\n",
       "      <th>5</th>\n",
       "      <td>0.655588</td>\n",
       "      <td>0.927798</td>\n",
       "    </tr>\n",
       "    <tr>\n",
       "      <th>6</th>\n",
       "      <td>0.110547</td>\n",
       "      <td>-0.097673</td>\n",
       "    </tr>\n",
       "    <tr>\n",
       "      <th>7</th>\n",
       "      <td>-0.286823</td>\n",
       "      <td>0.635976</td>\n",
       "    </tr>\n",
       "    <tr>\n",
       "      <th>8</th>\n",
       "      <td>0.743569</td>\n",
       "      <td>-0.726531</td>\n",
       "    </tr>\n",
       "    <tr>\n",
       "      <th>9</th>\n",
       "      <td>0.411929</td>\n",
       "      <td>-0.433513</td>\n",
       "    </tr>\n",
       "    <tr>\n",
       "      <th>10</th>\n",
       "      <td>0.110547</td>\n",
       "      <td>-0.097673</td>\n",
       "    </tr>\n",
       "    <tr>\n",
       "      <th>11</th>\n",
       "      <td>0.961586</td>\n",
       "      <td>-0.316342</td>\n",
       "    </tr>\n",
       "  </tbody>\n",
       "</table>\n",
       "</div>"
      ],
      "text/plain": [
       "       Dim.1     Dim.2\n",
       "0  -0.819841 -0.423303\n",
       "1  -0.499227 -0.045801\n",
       "2  -0.427087 -0.248651\n",
       "3  -0.891982 -0.220453\n",
       "4  -0.068806  1.046165\n",
       "5   0.655588  0.927798\n",
       "6   0.110547 -0.097673\n",
       "7  -0.286823  0.635976\n",
       "8   0.743569 -0.726531\n",
       "9   0.411929 -0.433513\n",
       "10  0.110547 -0.097673\n",
       "11  0.961586 -0.316342"
      ]
     },
     "execution_count": 21,
     "metadata": {},
     "output_type": "execute_result"
    }
   ],
   "source": [
    "ind[\"coord\"]"
   ]
  },
  {
   "cell_type": "markdown",
   "metadata": {},
   "source": [
    "## Autres fonctions\n",
    "\n",
    "### fit transform"
   ]
  },
  {
   "cell_type": "code",
   "execution_count": 22,
   "metadata": {},
   "outputs": [
    {
     "data": {
      "text/html": [
       "<div>\n",
       "<style scoped>\n",
       "    .dataframe tbody tr th:only-of-type {\n",
       "        vertical-align: middle;\n",
       "    }\n",
       "\n",
       "    .dataframe tbody tr th {\n",
       "        vertical-align: top;\n",
       "    }\n",
       "\n",
       "    .dataframe thead th {\n",
       "        text-align: right;\n",
       "    }\n",
       "</style>\n",
       "<table border=\"1\" class=\"dataframe\">\n",
       "  <thead>\n",
       "    <tr style=\"text-align: right;\">\n",
       "      <th></th>\n",
       "      <th>Dim.1</th>\n",
       "      <th>Dim.2</th>\n",
       "    </tr>\n",
       "  </thead>\n",
       "  <tbody>\n",
       "    <tr>\n",
       "      <th>0</th>\n",
       "      <td>-0.819841</td>\n",
       "      <td>-0.423303</td>\n",
       "    </tr>\n",
       "    <tr>\n",
       "      <th>1</th>\n",
       "      <td>-0.499227</td>\n",
       "      <td>-0.045801</td>\n",
       "    </tr>\n",
       "    <tr>\n",
       "      <th>2</th>\n",
       "      <td>-0.427087</td>\n",
       "      <td>-0.248651</td>\n",
       "    </tr>\n",
       "    <tr>\n",
       "      <th>3</th>\n",
       "      <td>-0.891982</td>\n",
       "      <td>-0.220453</td>\n",
       "    </tr>\n",
       "    <tr>\n",
       "      <th>4</th>\n",
       "      <td>-0.068806</td>\n",
       "      <td>1.046165</td>\n",
       "    </tr>\n",
       "    <tr>\n",
       "      <th>5</th>\n",
       "      <td>0.655588</td>\n",
       "      <td>0.927798</td>\n",
       "    </tr>\n",
       "    <tr>\n",
       "      <th>6</th>\n",
       "      <td>0.110547</td>\n",
       "      <td>-0.097673</td>\n",
       "    </tr>\n",
       "    <tr>\n",
       "      <th>7</th>\n",
       "      <td>-0.286823</td>\n",
       "      <td>0.635976</td>\n",
       "    </tr>\n",
       "    <tr>\n",
       "      <th>8</th>\n",
       "      <td>0.743569</td>\n",
       "      <td>-0.726531</td>\n",
       "    </tr>\n",
       "    <tr>\n",
       "      <th>9</th>\n",
       "      <td>0.411929</td>\n",
       "      <td>-0.433513</td>\n",
       "    </tr>\n",
       "    <tr>\n",
       "      <th>10</th>\n",
       "      <td>0.110547</td>\n",
       "      <td>-0.097673</td>\n",
       "    </tr>\n",
       "    <tr>\n",
       "      <th>11</th>\n",
       "      <td>0.961586</td>\n",
       "      <td>-0.316342</td>\n",
       "    </tr>\n",
       "  </tbody>\n",
       "</table>\n",
       "</div>"
      ],
      "text/plain": [
       "       Dim.1     Dim.2\n",
       "0  -0.819841 -0.423303\n",
       "1  -0.499227 -0.045801\n",
       "2  -0.427087 -0.248651\n",
       "3  -0.891982 -0.220453\n",
       "4  -0.068806  1.046165\n",
       "5   0.655588  0.927798\n",
       "6   0.110547 -0.097673\n",
       "7  -0.286823  0.635976\n",
       "8   0.743569 -0.726531\n",
       "9   0.411929 -0.433513\n",
       "10  0.110547 -0.097673\n",
       "11  0.961586 -0.316342"
      ]
     },
     "execution_count": 22,
     "metadata": {},
     "output_type": "execute_result"
    }
   ],
   "source": [
    "disca.fit_transform(D)"
   ]
  },
  {
   "cell_type": "markdown",
   "metadata": {},
   "source": [
    "### tranform()"
   ]
  },
  {
   "cell_type": "code",
   "execution_count": 23,
   "metadata": {},
   "outputs": [
    {
     "data": {
      "text/html": [
       "<div>\n",
       "<style scoped>\n",
       "    .dataframe tbody tr th:only-of-type {\n",
       "        vertical-align: middle;\n",
       "    }\n",
       "\n",
       "    .dataframe tbody tr th {\n",
       "        vertical-align: top;\n",
       "    }\n",
       "\n",
       "    .dataframe thead th {\n",
       "        text-align: right;\n",
       "    }\n",
       "</style>\n",
       "<table border=\"1\" class=\"dataframe\">\n",
       "  <thead>\n",
       "    <tr style=\"text-align: right;\">\n",
       "      <th></th>\n",
       "      <th>Dim.1</th>\n",
       "      <th>Dim.2</th>\n",
       "    </tr>\n",
       "  </thead>\n",
       "  <tbody>\n",
       "    <tr>\n",
       "      <th>0</th>\n",
       "      <td>-0.819841</td>\n",
       "      <td>-0.423303</td>\n",
       "    </tr>\n",
       "    <tr>\n",
       "      <th>1</th>\n",
       "      <td>-0.499227</td>\n",
       "      <td>-0.045801</td>\n",
       "    </tr>\n",
       "    <tr>\n",
       "      <th>2</th>\n",
       "      <td>-0.427087</td>\n",
       "      <td>-0.248651</td>\n",
       "    </tr>\n",
       "    <tr>\n",
       "      <th>3</th>\n",
       "      <td>-0.891982</td>\n",
       "      <td>-0.220453</td>\n",
       "    </tr>\n",
       "    <tr>\n",
       "      <th>4</th>\n",
       "      <td>-0.068806</td>\n",
       "      <td>1.046165</td>\n",
       "    </tr>\n",
       "    <tr>\n",
       "      <th>5</th>\n",
       "      <td>0.655588</td>\n",
       "      <td>0.927798</td>\n",
       "    </tr>\n",
       "    <tr>\n",
       "      <th>6</th>\n",
       "      <td>0.110547</td>\n",
       "      <td>-0.097673</td>\n",
       "    </tr>\n",
       "    <tr>\n",
       "      <th>7</th>\n",
       "      <td>-0.286823</td>\n",
       "      <td>0.635976</td>\n",
       "    </tr>\n",
       "    <tr>\n",
       "      <th>8</th>\n",
       "      <td>0.743569</td>\n",
       "      <td>-0.726531</td>\n",
       "    </tr>\n",
       "    <tr>\n",
       "      <th>9</th>\n",
       "      <td>0.411929</td>\n",
       "      <td>-0.433513</td>\n",
       "    </tr>\n",
       "    <tr>\n",
       "      <th>10</th>\n",
       "      <td>0.110547</td>\n",
       "      <td>-0.097673</td>\n",
       "    </tr>\n",
       "    <tr>\n",
       "      <th>11</th>\n",
       "      <td>0.961586</td>\n",
       "      <td>-0.316342</td>\n",
       "    </tr>\n",
       "  </tbody>\n",
       "</table>\n",
       "</div>"
      ],
      "text/plain": [
       "       Dim.1     Dim.2\n",
       "0  -0.819841 -0.423303\n",
       "1  -0.499227 -0.045801\n",
       "2  -0.427087 -0.248651\n",
       "3  -0.891982 -0.220453\n",
       "4  -0.068806  1.046165\n",
       "5   0.655588  0.927798\n",
       "6   0.110547 -0.097673\n",
       "7  -0.286823  0.635976\n",
       "8   0.743569 -0.726531\n",
       "9   0.411929 -0.433513\n",
       "10  0.110547 -0.097673\n",
       "11  0.961586 -0.316342"
      ]
     },
     "execution_count": 23,
     "metadata": {},
     "output_type": "execute_result"
    }
   ],
   "source": [
    "disca.transform(D)"
   ]
  },
  {
   "cell_type": "markdown",
   "metadata": {},
   "source": [
    "### decision_function"
   ]
  },
  {
   "cell_type": "code",
   "execution_count": 24,
   "metadata": {},
   "outputs": [
    {
     "data": {
      "text/html": [
       "<div>\n",
       "<style scoped>\n",
       "    .dataframe tbody tr th:only-of-type {\n",
       "        vertical-align: middle;\n",
       "    }\n",
       "\n",
       "    .dataframe tbody tr th {\n",
       "        vertical-align: top;\n",
       "    }\n",
       "\n",
       "    .dataframe thead th {\n",
       "        text-align: right;\n",
       "    }\n",
       "</style>\n",
       "<table border=\"1\" class=\"dataframe\">\n",
       "  <thead>\n",
       "    <tr style=\"text-align: right;\">\n",
       "      <th></th>\n",
       "      <th>Beaujolais</th>\n",
       "      <th>Loire</th>\n",
       "      <th>Rhone</th>\n",
       "    </tr>\n",
       "  </thead>\n",
       "  <tbody>\n",
       "    <tr>\n",
       "      <th>0</th>\n",
       "      <td>1.896325</td>\n",
       "      <td>0.061325</td>\n",
       "      <td>1.956325</td>\n",
       "    </tr>\n",
       "    <tr>\n",
       "      <th>1</th>\n",
       "      <td>1.236325</td>\n",
       "      <td>0.061325</td>\n",
       "      <td>0.816325</td>\n",
       "    </tr>\n",
       "    <tr>\n",
       "      <th>2</th>\n",
       "      <td>0.989231</td>\n",
       "      <td>0.054231</td>\n",
       "      <td>1.049231</td>\n",
       "    </tr>\n",
       "    <tr>\n",
       "      <th>3</th>\n",
       "      <td>2.129231</td>\n",
       "      <td>0.054231</td>\n",
       "      <td>1.709231</td>\n",
       "    </tr>\n",
       "    <tr>\n",
       "      <th>4</th>\n",
       "      <td>2.464195</td>\n",
       "      <td>1.989195</td>\n",
       "      <td>0.204195</td>\n",
       "    </tr>\n",
       "    <tr>\n",
       "      <th>5</th>\n",
       "      <td>1.755606</td>\n",
       "      <td>3.080606</td>\n",
       "      <td>0.395606</td>\n",
       "    </tr>\n",
       "    <tr>\n",
       "      <th>6</th>\n",
       "      <td>0.286761</td>\n",
       "      <td>0.611761</td>\n",
       "      <td>0.526761</td>\n",
       "    </tr>\n",
       "    <tr>\n",
       "      <th>7</th>\n",
       "      <td>1.771733</td>\n",
       "      <td>0.896733</td>\n",
       "      <td>0.151733</td>\n",
       "    </tr>\n",
       "    <tr>\n",
       "      <th>8</th>\n",
       "      <td>0.145742</td>\n",
       "      <td>2.210742</td>\n",
       "      <td>2.245742</td>\n",
       "    </tr>\n",
       "    <tr>\n",
       "      <th>9</th>\n",
       "      <td>0.022619</td>\n",
       "      <td>1.187619</td>\n",
       "      <td>1.222619</td>\n",
       "    </tr>\n",
       "    <tr>\n",
       "      <th>10</th>\n",
       "      <td>0.286761</td>\n",
       "      <td>0.611761</td>\n",
       "      <td>0.526761</td>\n",
       "    </tr>\n",
       "    <tr>\n",
       "      <th>11</th>\n",
       "      <td>0.169720</td>\n",
       "      <td>2.634720</td>\n",
       "      <td>1.629720</td>\n",
       "    </tr>\n",
       "  </tbody>\n",
       "</table>\n",
       "</div>"
      ],
      "text/plain": [
       "    Beaujolais     Loire     Rhone\n",
       "0     1.896325  0.061325  1.956325\n",
       "1     1.236325  0.061325  0.816325\n",
       "2     0.989231  0.054231  1.049231\n",
       "3     2.129231  0.054231  1.709231\n",
       "4     2.464195  1.989195  0.204195\n",
       "5     1.755606  3.080606  0.395606\n",
       "6     0.286761  0.611761  0.526761\n",
       "7     1.771733  0.896733  0.151733\n",
       "8     0.145742  2.210742  2.245742\n",
       "9     0.022619  1.187619  1.222619\n",
       "10    0.286761  0.611761  0.526761\n",
       "11    0.169720  2.634720  1.629720"
      ]
     },
     "execution_count": 24,
     "metadata": {},
     "output_type": "execute_result"
    }
   ],
   "source": [
    "disca.decision_function(D)"
   ]
  },
  {
   "cell_type": "markdown",
   "metadata": {},
   "source": [
    "### predict_proba"
   ]
  },
  {
   "cell_type": "code",
   "execution_count": 25,
   "metadata": {},
   "outputs": [
    {
     "data": {
      "text/html": [
       "<div>\n",
       "<style scoped>\n",
       "    .dataframe tbody tr th:only-of-type {\n",
       "        vertical-align: middle;\n",
       "    }\n",
       "\n",
       "    .dataframe tbody tr th {\n",
       "        vertical-align: top;\n",
       "    }\n",
       "\n",
       "    .dataframe thead th {\n",
       "        text-align: right;\n",
       "    }\n",
       "</style>\n",
       "<table border=\"1\" class=\"dataframe\">\n",
       "  <thead>\n",
       "    <tr style=\"text-align: right;\">\n",
       "      <th></th>\n",
       "      <th>Beaujolais</th>\n",
       "      <th>Loire</th>\n",
       "      <th>Rhone</th>\n",
       "    </tr>\n",
       "  </thead>\n",
       "  <tbody>\n",
       "    <tr>\n",
       "      <th>0</th>\n",
       "      <td>0.223540</td>\n",
       "      <td>0.559526</td>\n",
       "      <td>0.216933</td>\n",
       "    </tr>\n",
       "    <tr>\n",
       "      <th>1</th>\n",
       "      <td>0.247944</td>\n",
       "      <td>0.446172</td>\n",
       "      <td>0.305884</td>\n",
       "    </tr>\n",
       "    <tr>\n",
       "      <th>2</th>\n",
       "      <td>0.280391</td>\n",
       "      <td>0.447504</td>\n",
       "      <td>0.272104</td>\n",
       "    </tr>\n",
       "    <tr>\n",
       "      <th>3</th>\n",
       "      <td>0.197791</td>\n",
       "      <td>0.558198</td>\n",
       "      <td>0.244011</td>\n",
       "    </tr>\n",
       "    <tr>\n",
       "      <th>4</th>\n",
       "      <td>0.186437</td>\n",
       "      <td>0.236417</td>\n",
       "      <td>0.577146</td>\n",
       "    </tr>\n",
       "    <tr>\n",
       "      <th>5</th>\n",
       "      <td>0.286579</td>\n",
       "      <td>0.147749</td>\n",
       "      <td>0.565672</td>\n",
       "    </tr>\n",
       "    <tr>\n",
       "      <th>6</th>\n",
       "      <td>0.365372</td>\n",
       "      <td>0.310572</td>\n",
       "      <td>0.324056</td>\n",
       "    </tr>\n",
       "    <tr>\n",
       "      <th>7</th>\n",
       "      <td>0.208475</td>\n",
       "      <td>0.322892</td>\n",
       "      <td>0.468633</td>\n",
       "    </tr>\n",
       "    <tr>\n",
       "      <th>8</th>\n",
       "      <td>0.586148</td>\n",
       "      <td>0.208736</td>\n",
       "      <td>0.205115</td>\n",
       "    </tr>\n",
       "    <tr>\n",
       "      <th>9</th>\n",
       "      <td>0.474538</td>\n",
       "      <td>0.265030</td>\n",
       "      <td>0.260432</td>\n",
       "    </tr>\n",
       "    <tr>\n",
       "      <th>10</th>\n",
       "      <td>0.365372</td>\n",
       "      <td>0.310572</td>\n",
       "      <td>0.324056</td>\n",
       "    </tr>\n",
       "    <tr>\n",
       "      <th>11</th>\n",
       "      <td>0.563866</td>\n",
       "      <td>0.164402</td>\n",
       "      <td>0.271732</td>\n",
       "    </tr>\n",
       "  </tbody>\n",
       "</table>\n",
       "</div>"
      ],
      "text/plain": [
       "    Beaujolais     Loire     Rhone\n",
       "0     0.223540  0.559526  0.216933\n",
       "1     0.247944  0.446172  0.305884\n",
       "2     0.280391  0.447504  0.272104\n",
       "3     0.197791  0.558198  0.244011\n",
       "4     0.186437  0.236417  0.577146\n",
       "5     0.286579  0.147749  0.565672\n",
       "6     0.365372  0.310572  0.324056\n",
       "7     0.208475  0.322892  0.468633\n",
       "8     0.586148  0.208736  0.205115\n",
       "9     0.474538  0.265030  0.260432\n",
       "10    0.365372  0.310572  0.324056\n",
       "11    0.563866  0.164402  0.271732"
      ]
     },
     "execution_count": 25,
     "metadata": {},
     "output_type": "execute_result"
    }
   ],
   "source": [
    "disca.predict_proba(D)"
   ]
  },
  {
   "cell_type": "markdown",
   "metadata": {},
   "source": [
    "### predict()"
   ]
  },
  {
   "cell_type": "code",
   "execution_count": 26,
   "metadata": {},
   "outputs": [
    {
     "data": {
      "text/plain": [
       "0          Loire\n",
       "1          Loire\n",
       "2          Loire\n",
       "3          Loire\n",
       "4          Rhone\n",
       "5          Rhone\n",
       "6     Beaujolais\n",
       "7          Rhone\n",
       "8     Beaujolais\n",
       "9     Beaujolais\n",
       "10    Beaujolais\n",
       "11    Beaujolais\n",
       "Name: prediction, dtype: object"
      ]
     },
     "execution_count": 26,
     "metadata": {},
     "output_type": "execute_result"
    }
   ],
   "source": [
    "disca.predict(D)"
   ]
  },
  {
   "cell_type": "markdown",
   "metadata": {},
   "source": [
    "### pred_table()"
   ]
  },
  {
   "cell_type": "code",
   "execution_count": 27,
   "metadata": {},
   "outputs": [
    {
     "data": {
      "text/html": [
       "<div>\n",
       "<style scoped>\n",
       "    .dataframe tbody tr th:only-of-type {\n",
       "        vertical-align: middle;\n",
       "    }\n",
       "\n",
       "    .dataframe tbody tr th {\n",
       "        vertical-align: top;\n",
       "    }\n",
       "\n",
       "    .dataframe thead th {\n",
       "        text-align: right;\n",
       "    }\n",
       "</style>\n",
       "<table border=\"1\" class=\"dataframe\">\n",
       "  <thead>\n",
       "    <tr style=\"text-align: right;\">\n",
       "      <th>prediction</th>\n",
       "      <th>Beaujolais</th>\n",
       "      <th>Loire</th>\n",
       "      <th>Rhone</th>\n",
       "    </tr>\n",
       "    <tr>\n",
       "      <th>Region</th>\n",
       "      <th></th>\n",
       "      <th></th>\n",
       "      <th></th>\n",
       "    </tr>\n",
       "  </thead>\n",
       "  <tbody>\n",
       "    <tr>\n",
       "      <th>Beaujolais</th>\n",
       "      <td>4</td>\n",
       "      <td>0</td>\n",
       "      <td>0</td>\n",
       "    </tr>\n",
       "    <tr>\n",
       "      <th>Loire</th>\n",
       "      <td>0</td>\n",
       "      <td>4</td>\n",
       "      <td>0</td>\n",
       "    </tr>\n",
       "    <tr>\n",
       "      <th>Rhone</th>\n",
       "      <td>1</td>\n",
       "      <td>0</td>\n",
       "      <td>3</td>\n",
       "    </tr>\n",
       "  </tbody>\n",
       "</table>\n",
       "</div>"
      ],
      "text/plain": [
       "prediction  Beaujolais  Loire  Rhone\n",
       "Region                              \n",
       "Beaujolais           4      0      0\n",
       "Loire                0      4      0\n",
       "Rhone                1      0      3"
      ]
     },
     "execution_count": 27,
     "metadata": {},
     "output_type": "execute_result"
    }
   ],
   "source": [
    "disca.pred_table()"
   ]
  },
  {
   "cell_type": "markdown",
   "metadata": {},
   "source": [
    "## Extraction"
   ]
  },
  {
   "cell_type": "code",
   "execution_count": 28,
   "metadata": {},
   "outputs": [],
   "source": [
    "from discrimintools import get_disca, summaryDISCA\n",
    "ind = get_disca(disca, choice=\"ind\")\n",
    "var = get_disca(disca,choice=\"var\")\n",
    "coef = get_disca(disca,choice=\"coef\")\n",
    "classes = get_disca(disca,choice=\"classes\")"
   ]
  },
  {
   "cell_type": "code",
   "execution_count": 29,
   "metadata": {},
   "outputs": [
    {
     "name": "stdout",
     "output_type": "stream",
     "text": [
      "                     Discriminant Correspondence Analysis - Results                     \n",
      "\n",
      "\n",
      "Class Level information\n",
      "\n",
      "            Frequency  Proportion  Prior Probability\n",
      "Region                                              \n",
      "Beaujolais          4    0.333333           0.333333\n",
      "Loire               4    0.333333           0.333333\n",
      "Rhone               4    0.333333           0.333333\n",
      "\n",
      "Canonical coeffcients\n",
      "\n",
      "           Dim.1  Dim.2\n",
      "Woody_A   -0.372 -0.019\n",
      "Woody_B    0.020  0.156\n",
      "Woody_C    0.352 -0.137\n",
      "Fruity_A   0.352 -0.137\n",
      "Fruity_B   0.020  0.156\n",
      "Fruity_C  -0.372 -0.019\n",
      "Sweet_A    0.202  0.285\n",
      "Sweet_B   -0.131 -0.058\n",
      "Sweet_C   -0.016 -0.125\n",
      "Alcohol_A  0.056 -0.328\n",
      "Alcohol_B -0.131 -0.058\n",
      "Alcohol_C  0.081  0.624\n",
      "Hedonic_A  0.000  0.000\n",
      "Hedonic_B  0.000  0.000\n",
      "Hedonic_C  0.000  0.000\n",
      "Hedonic_D  0.000  0.000\n",
      "\n",
      "Individuals (the 10 first)\n",
      "\n",
      "   Dim.1  Dim.2\n",
      "0 -0.820 -0.423\n",
      "1 -0.499 -0.046\n",
      "2 -0.427 -0.249\n",
      "3 -0.892 -0.220\n",
      "4 -0.069  1.046\n",
      "5  0.656  0.928\n",
      "6  0.111 -0.098\n",
      "7 -0.287  0.636\n",
      "8  0.744 -0.727\n",
      "9  0.412 -0.434\n",
      "\n",
      "Categories (the 10 first)\n",
      "\n",
      "           Dim.1     ctr   cos2  Dim.2     ctr   cos2\n",
      "Woody_A   -0.934  23.112  0.998 -0.042   0.059  0.002\n",
      "Woody_B    0.051   0.069  0.021  0.350   4.050  0.979\n",
      "Woody_C    0.883  20.652  0.892 -0.308   3.134  0.108\n",
      "Fruity_A   0.883  20.652  0.892 -0.308   3.134  0.108\n",
      "Fruity_B   0.051   0.069  0.021  0.350   4.050  0.979\n",
      "Fruity_C  -0.934  23.112  0.998 -0.042   0.059  0.002\n",
      "Sweet_A    0.506   5.086  0.384  0.641  10.187  0.616\n",
      "Sweet_B   -0.329   2.857  0.863 -0.131   0.565  0.137\n",
      "Sweet_C   -0.041   0.055  0.021 -0.280   3.240  0.979\n",
      "Alcohol_A  0.140   0.650  0.035 -0.735  22.354  0.965\n",
      "\n",
      "Groups\n",
      "\n",
      "            Dim.1     ctr   cos2  Dim.2     ctr   cos2\n",
      "Beaujolais  0.557  41.043  0.667 -0.394  25.624  0.333\n",
      "Loire      -0.660  57.563  0.888 -0.235   9.103  0.112\n",
      "Rhone       0.103   1.394  0.026  0.628  65.273  0.974\n"
     ]
    }
   ],
   "source": [
    "summaryDISCA(disca)"
   ]
  },
  {
   "cell_type": "markdown",
   "metadata": {},
   "source": [
    "## Visualisation"
   ]
  },
  {
   "cell_type": "code",
   "execution_count": 30,
   "metadata": {},
   "outputs": [
    {
     "data": {
      "image/png": "[encoded data removed]",
      "text/plain": [
       "<Figure size 432x288 with 1 Axes>"
      ]
     },
     "metadata": {
      "needs_background": "light"
     },
     "output_type": "display_data"
    },
    {
     "name": "stdout",
     "output_type": "stream",
     "text": [
      "\n"
     ]
    }
   ],
   "source": [
    "from discrimintools import fviz_disca_ind, fviz_disca_mod\n",
    "p = fviz_disca_ind(disca)\n",
    "print(p)"
   ]
  },
  {
   "cell_type": "code",
   "execution_count": 31,
   "metadata": {},
   "outputs": [
    {
     "data": {
      "image/png": "[encoded data removed]",
      "text/plain": [
       "<Figure size 640x480 with 1 Axes>"
      ]
     },
     "metadata": {
      "needs_background": "light"
     },
     "output_type": "display_data"
    },
    {
     "name": "stdout",
     "output_type": "stream",
     "text": [
      "\n"
     ]
    }
   ],
   "source": [
    "p = fviz_disca_mod(disca,repel=True)\n",
    "print(p)"
   ]
  }
 ],
 "metadata": {
  "kernelspec": {
   "display_name": "Python 3",
   "language": "python",
   "name": "python3"
  },
  "language_info": {
   "codemirror_mode": {
    "name": "ipython",
    "version": 3
   },
   "file_extension": ".py",
   "mimetype": "text/x-python",
   "name": "python",
   "nbconvert_exporter": "python",
   "pygments_lexer": "ipython3",
   "version": "3.10.5"
  },
  "orig_nbformat": 4
 },
 "nbformat": 4,
 "nbformat_minor": 2
}
