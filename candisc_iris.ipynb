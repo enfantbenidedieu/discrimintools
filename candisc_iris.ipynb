{
 "cells": [
  {
   "attachments": {},
   "cell_type": "markdown",
   "metadata": {},
   "source": [
    "# Canonical Discriminant Analysis on Iris dataset"
   ]
  },
  {
   "cell_type": "code",
   "execution_count": 1,
   "metadata": {},
   "outputs": [],
   "source": [
    "import warnings\n",
    "warnings.simplefilter(action='ignore', category=FutureWarning)\n",
    "warnings.filterwarnings(\"ignore\")"
   ]
  },
  {
   "cell_type": "code",
   "execution_count": 2,
   "metadata": {},
   "outputs": [
    {
     "name": "stdout",
     "output_type": "stream",
     "text": [
      "   sepal_length  sepal_width  petal_length  petal_width species\n",
      "0           5.1          3.5           1.4          0.2  setosa\n",
      "1           4.9          3.0           1.4          0.2  setosa\n",
      "2           4.7          3.2           1.3          0.2  setosa\n",
      "3           4.6          3.1           1.5          0.2  setosa\n",
      "4           5.0          3.6           1.4          0.2  setosa\n"
     ]
    }
   ],
   "source": [
    "from seaborn import load_dataset\n",
    "import pandas as pd\n",
    "\n",
    "iris = load_dataset(\"iris\")\n",
    "print(iris.head())"
   ]
  },
  {
   "cell_type": "code",
   "execution_count": 3,
   "metadata": {},
   "outputs": [
    {
     "data": {
      "text/html": [
       "<style>#sk-container-id-1 {color: black;background-color: white;}#sk-container-id-1 pre{padding: 0;}#sk-container-id-1 div.sk-toggleable {background-color: white;}#sk-container-id-1 label.sk-toggleable__label {cursor: pointer;display: block;width: 100%;margin-bottom: 0;padding: 0.3em;box-sizing: border-box;text-align: center;}#sk-container-id-1 label.sk-toggleable__label-arrow:before {content: \"▸\";float: left;margin-right: 0.25em;color: #696969;}#sk-container-id-1 label.sk-toggleable__label-arrow:hover:before {color: black;}#sk-container-id-1 div.sk-estimator:hover label.sk-toggleable__label-arrow:before {color: black;}#sk-container-id-1 div.sk-toggleable__content {max-height: 0;max-width: 0;overflow: hidden;text-align: left;background-color: #f0f8ff;}#sk-container-id-1 div.sk-toggleable__content pre {margin: 0.2em;color: black;border-radius: 0.25em;background-color: #f0f8ff;}#sk-container-id-1 input.sk-toggleable__control:checked~div.sk-toggleable__content {max-height: 200px;max-width: 100%;overflow: auto;}#sk-container-id-1 input.sk-toggleable__control:checked~label.sk-toggleable__label-arrow:before {content: \"▾\";}#sk-container-id-1 div.sk-estimator input.sk-toggleable__control:checked~label.sk-toggleable__label {background-color: #d4ebff;}#sk-container-id-1 div.sk-label input.sk-toggleable__control:checked~label.sk-toggleable__label {background-color: #d4ebff;}#sk-container-id-1 input.sk-hidden--visually {border: 0;clip: rect(1px 1px 1px 1px);clip: rect(1px, 1px, 1px, 1px);height: 1px;margin: -1px;overflow: hidden;padding: 0;position: absolute;width: 1px;}#sk-container-id-1 div.sk-estimator {font-family: monospace;background-color: #f0f8ff;border: 1px dotted black;border-radius: 0.25em;box-sizing: border-box;margin-bottom: 0.5em;}#sk-container-id-1 div.sk-estimator:hover {background-color: #d4ebff;}#sk-container-id-1 div.sk-parallel-item::after {content: \"\";width: 100%;border-bottom: 1px solid gray;flex-grow: 1;}#sk-container-id-1 div.sk-label:hover label.sk-toggleable__label {background-color: #d4ebff;}#sk-container-id-1 div.sk-serial::before {content: \"\";position: absolute;border-left: 1px solid gray;box-sizing: border-box;top: 0;bottom: 0;left: 50%;z-index: 0;}#sk-container-id-1 div.sk-serial {display: flex;flex-direction: column;align-items: center;background-color: white;padding-right: 0.2em;padding-left: 0.2em;position: relative;}#sk-container-id-1 div.sk-item {position: relative;z-index: 1;}#sk-container-id-1 div.sk-parallel {display: flex;align-items: stretch;justify-content: center;background-color: white;position: relative;}#sk-container-id-1 div.sk-item::before, #sk-container-id-1 div.sk-parallel-item::before {content: \"\";position: absolute;border-left: 1px solid gray;box-sizing: border-box;top: 0;bottom: 0;left: 50%;z-index: -1;}#sk-container-id-1 div.sk-parallel-item {display: flex;flex-direction: column;z-index: 1;position: relative;background-color: white;}#sk-container-id-1 div.sk-parallel-item:first-child::after {align-self: flex-end;width: 50%;}#sk-container-id-1 div.sk-parallel-item:last-child::after {align-self: flex-start;width: 50%;}#sk-container-id-1 div.sk-parallel-item:only-child::after {width: 0;}#sk-container-id-1 div.sk-dashed-wrapped {border: 1px dashed gray;margin: 0 0.4em 0.5em 0.4em;box-sizing: border-box;padding-bottom: 0.4em;background-color: white;}#sk-container-id-1 div.sk-label label {font-family: monospace;font-weight: bold;display: inline-block;line-height: 1.2em;}#sk-container-id-1 div.sk-label-container {text-align: center;}#sk-container-id-1 div.sk-container {/* jupyter's `normalize.less` sets `[hidden] { display: none; }` but bootstrap.min.css set `[hidden] { display: none !important; }` so we also need the `!important` here to be able to override the default hidden behavior on the sphinx rendered scikit-learn.org. See: https://github.com/scikit-learn/scikit-learn/issues/21755 */display: inline-block !important;position: relative;}#sk-container-id-1 div.sk-text-repr-fallback {display: none;}</style><div id=\"sk-container-id-1\" class=\"sk-top-container\"><div class=\"sk-text-repr-fallback\"><pre>CANDISC(n_components=2, target=[&#x27;species&#x27;])</pre><b>In a Jupyter environment, please rerun this cell to show the HTML representation or trust the notebook. <br />On GitHub, the HTML representation is unable to render, please try loading this page with nbviewer.org.</b></div><div class=\"sk-container\" hidden><div class=\"sk-item\"><div class=\"sk-estimator sk-toggleable\"><input class=\"sk-toggleable__control sk-hidden--visually\" id=\"sk-estimator-id-1\" type=\"checkbox\" checked><label for=\"sk-estimator-id-1\" class=\"sk-toggleable__label sk-toggleable__label-arrow\">CANDISC</label><div class=\"sk-toggleable__content\"><pre>CANDISC(n_components=2, target=[&#x27;species&#x27;])</pre></div></div></div></div></div>"
      ],
      "text/plain": [
       "CANDISC(n_components=2, target=['species'])"
      ]
     },
     "execution_count": 3,
     "metadata": {},
     "output_type": "execute_result"
    }
   ],
   "source": [
    "# Chargement de la \n",
    "from discrimintools import CANDISC\n",
    "\n",
    "candisc = CANDISC(n_components=2,target=[\"species\"],parallelize=False)\n",
    "# Instanciattion\n",
    "candisc.fit(iris)"
   ]
  },
  {
   "attachments": {},
   "cell_type": "markdown",
   "metadata": {},
   "source": [
    "## Summary Information\n",
    "\n",
    "### Summary information"
   ]
  },
  {
   "cell_type": "code",
   "execution_count": 4,
   "metadata": {},
   "outputs": [
    {
     "data": {
      "text/html": [
       "<div>\n",
       "<style scoped>\n",
       "    .dataframe tbody tr th:only-of-type {\n",
       "        vertical-align: middle;\n",
       "    }\n",
       "\n",
       "    .dataframe tbody tr th {\n",
       "        vertical-align: top;\n",
       "    }\n",
       "\n",
       "    .dataframe thead th {\n",
       "        text-align: right;\n",
       "    }\n",
       "</style>\n",
       "<table border=\"1\" class=\"dataframe\">\n",
       "  <thead>\n",
       "    <tr style=\"text-align: right;\">\n",
       "      <th></th>\n",
       "      <th>infos</th>\n",
       "      <th>Value</th>\n",
       "      <th>DF</th>\n",
       "      <th>DF value</th>\n",
       "    </tr>\n",
       "  </thead>\n",
       "  <tbody>\n",
       "    <tr>\n",
       "      <th>0</th>\n",
       "      <td>Total Sample Size</td>\n",
       "      <td>150</td>\n",
       "      <td>DF Total</td>\n",
       "      <td>149</td>\n",
       "    </tr>\n",
       "    <tr>\n",
       "      <th>1</th>\n",
       "      <td>Variables</td>\n",
       "      <td>4</td>\n",
       "      <td>DF Within Classes</td>\n",
       "      <td>147</td>\n",
       "    </tr>\n",
       "    <tr>\n",
       "      <th>2</th>\n",
       "      <td>Classes</td>\n",
       "      <td>3</td>\n",
       "      <td>DF Between Classes</td>\n",
       "      <td>2</td>\n",
       "    </tr>\n",
       "  </tbody>\n",
       "</table>\n",
       "</div>"
      ],
      "text/plain": [
       "               infos  Value                  DF  DF value\n",
       "0  Total Sample Size    150            DF Total       149\n",
       "1          Variables      4   DF Within Classes       147\n",
       "2            Classes      3  DF Between Classes         2"
      ]
     },
     "execution_count": 4,
     "metadata": {},
     "output_type": "execute_result"
    }
   ],
   "source": [
    "# Summary Information\n",
    "candisc.summary_information_"
   ]
  },
  {
   "attachments": {},
   "cell_type": "markdown",
   "metadata": {},
   "source": [
    "### Class level Information"
   ]
  },
  {
   "cell_type": "code",
   "execution_count": 5,
   "metadata": {},
   "outputs": [
    {
     "data": {
      "text/html": [
       "<div>\n",
       "<style scoped>\n",
       "    .dataframe tbody tr th:only-of-type {\n",
       "        vertical-align: middle;\n",
       "    }\n",
       "\n",
       "    .dataframe tbody tr th {\n",
       "        vertical-align: top;\n",
       "    }\n",
       "\n",
       "    .dataframe thead th {\n",
       "        text-align: right;\n",
       "    }\n",
       "</style>\n",
       "<table border=\"1\" class=\"dataframe\">\n",
       "  <thead>\n",
       "    <tr style=\"text-align: right;\">\n",
       "      <th></th>\n",
       "      <th>Frequency</th>\n",
       "      <th>Proportion</th>\n",
       "    </tr>\n",
       "    <tr>\n",
       "      <th>species</th>\n",
       "      <th></th>\n",
       "      <th></th>\n",
       "    </tr>\n",
       "  </thead>\n",
       "  <tbody>\n",
       "    <tr>\n",
       "      <th>setosa</th>\n",
       "      <td>50</td>\n",
       "      <td>0.333333</td>\n",
       "    </tr>\n",
       "    <tr>\n",
       "      <th>versicolor</th>\n",
       "      <td>50</td>\n",
       "      <td>0.333333</td>\n",
       "    </tr>\n",
       "    <tr>\n",
       "      <th>virginica</th>\n",
       "      <td>50</td>\n",
       "      <td>0.333333</td>\n",
       "    </tr>\n",
       "  </tbody>\n",
       "</table>\n",
       "</div>"
      ],
      "text/plain": [
       "            Frequency  Proportion\n",
       "species                          \n",
       "setosa             50    0.333333\n",
       "versicolor         50    0.333333\n",
       "virginica          50    0.333333"
      ]
     },
     "execution_count": 5,
     "metadata": {},
     "output_type": "execute_result"
    }
   ],
   "source": [
    "# Class level information\n",
    "candisc.statistics_[\"information\"]"
   ]
  },
  {
   "attachments": {},
   "cell_type": "markdown",
   "metadata": {},
   "source": [
    "## Squared Mahalanobis Distances and Distance statistics\n",
    "\n",
    "### Squared Distance to Species"
   ]
  },
  {
   "cell_type": "code",
   "execution_count": 6,
   "metadata": {},
   "outputs": [
    {
     "data": {
      "text/html": [
       "<div>\n",
       "<style scoped>\n",
       "    .dataframe tbody tr th:only-of-type {\n",
       "        vertical-align: middle;\n",
       "    }\n",
       "\n",
       "    .dataframe tbody tr th {\n",
       "        vertical-align: top;\n",
       "    }\n",
       "\n",
       "    .dataframe thead th {\n",
       "        text-align: right;\n",
       "    }\n",
       "</style>\n",
       "<table border=\"1\" class=\"dataframe\">\n",
       "  <thead>\n",
       "    <tr style=\"text-align: right;\">\n",
       "      <th></th>\n",
       "      <th>setosa</th>\n",
       "      <th>versicolor</th>\n",
       "      <th>virginica</th>\n",
       "    </tr>\n",
       "  </thead>\n",
       "  <tbody>\n",
       "    <tr>\n",
       "      <th>setosa</th>\n",
       "      <td>0.000000</td>\n",
       "      <td>89.864186</td>\n",
       "      <td>179.384713</td>\n",
       "    </tr>\n",
       "    <tr>\n",
       "      <th>versicolor</th>\n",
       "      <td>89.864186</td>\n",
       "      <td>0.000000</td>\n",
       "      <td>17.201066</td>\n",
       "    </tr>\n",
       "    <tr>\n",
       "      <th>virginica</th>\n",
       "      <td>179.384713</td>\n",
       "      <td>17.201066</td>\n",
       "      <td>0.000000</td>\n",
       "    </tr>\n",
       "  </tbody>\n",
       "</table>\n",
       "</div>"
      ],
      "text/plain": [
       "                setosa  versicolor   virginica\n",
       "setosa        0.000000   89.864186  179.384713\n",
       "versicolor   89.864186    0.000000   17.201066\n",
       "virginica   179.384713   17.201066    0.000000"
      ]
     },
     "execution_count": 6,
     "metadata": {},
     "output_type": "execute_result"
    }
   ],
   "source": [
    "# Squared Distance to Species\n",
    "candisc.classes_[\"mahalanobis\"]"
   ]
  },
  {
   "cell_type": "markdown",
   "metadata": {},
   "source": [
    "## Univariate and Multivariate Statistics\n",
    "\n",
    "### Univariate Test Statistics"
   ]
  },
  {
   "cell_type": "code",
   "execution_count": 7,
   "metadata": {},
   "outputs": [
    {
     "data": {
      "text/html": [
       "<div>\n",
       "<style scoped>\n",
       "    .dataframe tbody tr th:only-of-type {\n",
       "        vertical-align: middle;\n",
       "    }\n",
       "\n",
       "    .dataframe tbody tr th {\n",
       "        vertical-align: top;\n",
       "    }\n",
       "\n",
       "    .dataframe thead th {\n",
       "        text-align: right;\n",
       "    }\n",
       "</style>\n",
       "<table border=\"1\" class=\"dataframe\">\n",
       "  <thead>\n",
       "    <tr style=\"text-align: right;\">\n",
       "      <th></th>\n",
       "      <th>Std. Dev.</th>\n",
       "      <th>R-squared</th>\n",
       "      <th>Rsq/(1-Rsq)</th>\n",
       "      <th>F-statistic</th>\n",
       "      <th>Prob (F-statistic)</th>\n",
       "    </tr>\n",
       "  </thead>\n",
       "  <tbody>\n",
       "    <tr>\n",
       "      <th>sepal_length</th>\n",
       "      <td>0.828066</td>\n",
       "      <td>0.618706</td>\n",
       "      <td>1.622646</td>\n",
       "      <td>119.264502</td>\n",
       "      <td>1.669669e-31</td>\n",
       "    </tr>\n",
       "    <tr>\n",
       "      <th>sepal_width</th>\n",
       "      <td>0.435866</td>\n",
       "      <td>0.400783</td>\n",
       "      <td>0.668844</td>\n",
       "      <td>49.160040</td>\n",
       "      <td>4.492017e-17</td>\n",
       "    </tr>\n",
       "    <tr>\n",
       "      <th>petal_length</th>\n",
       "      <td>1.765298</td>\n",
       "      <td>0.941372</td>\n",
       "      <td>16.056615</td>\n",
       "      <td>1180.161182</td>\n",
       "      <td>2.856777e-91</td>\n",
       "    </tr>\n",
       "    <tr>\n",
       "      <th>petal_width</th>\n",
       "      <td>0.762238</td>\n",
       "      <td>0.928883</td>\n",
       "      <td>13.061322</td>\n",
       "      <td>960.007147</td>\n",
       "      <td>4.169446e-85</td>\n",
       "    </tr>\n",
       "  </tbody>\n",
       "</table>\n",
       "</div>"
      ],
      "text/plain": [
       "              Std. Dev.  R-squared  Rsq/(1-Rsq)  F-statistic  \\\n",
       "sepal_length   0.828066   0.618706     1.622646   119.264502   \n",
       "sepal_width    0.435866   0.400783     0.668844    49.160040   \n",
       "petal_length   1.765298   0.941372    16.056615  1180.161182   \n",
       "petal_width    0.762238   0.928883    13.061322   960.007147   \n",
       "\n",
       "              Prob (F-statistic)  \n",
       "sepal_length        1.669669e-31  \n",
       "sepal_width         4.492017e-17  \n",
       "petal_length        2.856777e-91  \n",
       "petal_width         4.169446e-85  "
      ]
     },
     "execution_count": 7,
     "metadata": {},
     "output_type": "execute_result"
    }
   ],
   "source": [
    "# Univariate statistics\n",
    "candisc.statistics_[\"univariate\"]"
   ]
  },
  {
   "cell_type": "markdown",
   "metadata": {},
   "source": [
    "### Manova test"
   ]
  },
  {
   "cell_type": "code",
   "execution_count": 8,
   "metadata": {},
   "outputs": [
    {
     "name": "stdout",
     "output_type": "stream",
     "text": [
      "                   Multivariate linear model\n",
      "================================================================\n",
      "                                                                \n",
      "----------------------------------------------------------------\n",
      "        species          Value  Num DF  Den DF   F Value  Pr > F\n",
      "----------------------------------------------------------------\n",
      "          Wilks' lambda  0.0234 8.0000 288.0000  199.1453 0.0000\n",
      "         Pillai's trace  1.1919 8.0000 290.0000   53.4665 0.0000\n",
      " Hotelling-Lawley trace 32.4773 8.0000 203.4024  582.1970 0.0000\n",
      "    Roy's greatest root 32.1919 4.0000 145.0000 1166.9574 0.0000\n",
      "================================================================\n",
      "\n"
     ]
    }
   ],
   "source": [
    "# MANOVA\n",
    "print(candisc.statistics_[\"manova\"])"
   ]
  },
  {
   "cell_type": "markdown",
   "metadata": {},
   "source": [
    "### Anova"
   ]
  },
  {
   "cell_type": "code",
   "execution_count": 9,
   "metadata": {},
   "outputs": [
    {
     "name": "stdout",
     "output_type": "stream",
     "text": [
      "sepal_length\n",
      "               sum_sq     df    mean_sq           F        PR(>F)    eta_sq  \\\n",
      "C(species)  63.212133    2.0  31.606067  119.264502  1.669669e-31  0.618706   \n",
      "Residual    38.956200  147.0   0.265008         NaN           NaN       NaN   \n",
      "\n",
      "            omega_sq  \n",
      "C(species)  0.611931  \n",
      "Residual         NaN  \n",
      "sepal_width\n",
      "               sum_sq     df   mean_sq         F        PR(>F)    eta_sq  \\\n",
      "C(species)  11.344933    2.0  5.672467  49.16004  4.492017e-17  0.400783   \n",
      "Residual    16.962000  147.0  0.115388       NaN           NaN       NaN   \n",
      "\n",
      "            omega_sq  \n",
      "C(species)  0.391036  \n",
      "Residual         NaN  \n",
      "petal_length\n",
      "              sum_sq     df     mean_sq            F        PR(>F)    eta_sq  \\\n",
      "C(species)  437.1028    2.0  218.551400  1180.161182  2.856777e-91  0.941372   \n",
      "Residual     27.2226  147.0    0.185188          NaN           NaN       NaN   \n",
      "\n",
      "            omega_sq  \n",
      "C(species)  0.940199  \n",
      "Residual         NaN  \n",
      "petal_width\n",
      "               sum_sq     df    mean_sq           F        PR(>F)    eta_sq  \\\n",
      "C(species)  80.413333    2.0  40.206667  960.007147  4.169446e-85  0.928883   \n",
      "Residual     6.156600  147.0   0.041882         NaN           NaN       NaN   \n",
      "\n",
      "            omega_sq  \n",
      "C(species)  0.927467  \n",
      "Residual         NaN  \n"
     ]
    }
   ],
   "source": [
    "for key in candisc.statistics_[\"anova\"].keys():\n",
    "    print(key)\n",
    "    print(candisc.statistics_[\"anova\"][key])"
   ]
  },
  {
   "cell_type": "markdown",
   "metadata": {},
   "source": [
    "### Correlation ratio"
   ]
  },
  {
   "cell_type": "code",
   "execution_count": 10,
   "metadata": {},
   "outputs": [
    {
     "data": {
      "text/html": [
       "<div>\n",
       "<style scoped>\n",
       "    .dataframe tbody tr th:only-of-type {\n",
       "        vertical-align: middle;\n",
       "    }\n",
       "\n",
       "    .dataframe tbody tr th {\n",
       "        vertical-align: top;\n",
       "    }\n",
       "\n",
       "    .dataframe thead th {\n",
       "        text-align: right;\n",
       "    }\n",
       "</style>\n",
       "<table border=\"1\" class=\"dataframe\">\n",
       "  <thead>\n",
       "    <tr style=\"text-align: right;\">\n",
       "      <th></th>\n",
       "      <th>Sum. Intra</th>\n",
       "      <th>Sum. Inter</th>\n",
       "      <th>Eta2</th>\n",
       "      <th>F-stats</th>\n",
       "      <th>pvalue</th>\n",
       "    </tr>\n",
       "  </thead>\n",
       "  <tbody>\n",
       "    <tr>\n",
       "      <th>sepal_length</th>\n",
       "      <td>38.9562</td>\n",
       "      <td>63.2121</td>\n",
       "      <td>0.6187</td>\n",
       "      <td>119.2645</td>\n",
       "      <td>0.0</td>\n",
       "    </tr>\n",
       "    <tr>\n",
       "      <th>sepal_width</th>\n",
       "      <td>16.9620</td>\n",
       "      <td>11.3449</td>\n",
       "      <td>0.4008</td>\n",
       "      <td>49.1600</td>\n",
       "      <td>0.0</td>\n",
       "    </tr>\n",
       "    <tr>\n",
       "      <th>petal_length</th>\n",
       "      <td>27.2226</td>\n",
       "      <td>437.1028</td>\n",
       "      <td>0.9414</td>\n",
       "      <td>1180.1612</td>\n",
       "      <td>0.0</td>\n",
       "    </tr>\n",
       "    <tr>\n",
       "      <th>petal_width</th>\n",
       "      <td>6.1566</td>\n",
       "      <td>80.4133</td>\n",
       "      <td>0.9289</td>\n",
       "      <td>960.0071</td>\n",
       "      <td>0.0</td>\n",
       "    </tr>\n",
       "  </tbody>\n",
       "</table>\n",
       "</div>"
      ],
      "text/plain": [
       "              Sum. Intra  Sum. Inter    Eta2    F-stats  pvalue\n",
       "sepal_length     38.9562     63.2121  0.6187   119.2645     0.0\n",
       "sepal_width      16.9620     11.3449  0.4008    49.1600     0.0\n",
       "petal_length     27.2226    437.1028  0.9414  1180.1612     0.0\n",
       "petal_width       6.1566     80.4133  0.9289   960.0071     0.0"
      ]
     },
     "execution_count": 10,
     "metadata": {},
     "output_type": "execute_result"
    }
   ],
   "source": [
    "candisc.statistics_[\"Eta2\"]"
   ]
  },
  {
   "cell_type": "markdown",
   "metadata": {},
   "source": [
    "## Canonical Correlations and Eigenvalues\n",
    "\n",
    "### Eigenvalues"
   ]
  },
  {
   "cell_type": "code",
   "execution_count": 11,
   "metadata": {},
   "outputs": [
    {
     "data": {
      "text/html": [
       "<div>\n",
       "<style scoped>\n",
       "    .dataframe tbody tr th:only-of-type {\n",
       "        vertical-align: middle;\n",
       "    }\n",
       "\n",
       "    .dataframe tbody tr th {\n",
       "        vertical-align: top;\n",
       "    }\n",
       "\n",
       "    .dataframe thead th {\n",
       "        text-align: right;\n",
       "    }\n",
       "</style>\n",
       "<table border=\"1\" class=\"dataframe\">\n",
       "  <thead>\n",
       "    <tr style=\"text-align: right;\">\n",
       "      <th></th>\n",
       "      <th>Eigenvalue</th>\n",
       "      <th>Difference</th>\n",
       "      <th>Proportion</th>\n",
       "      <th>Cumulative</th>\n",
       "    </tr>\n",
       "  </thead>\n",
       "  <tbody>\n",
       "    <tr>\n",
       "      <th>LD1</th>\n",
       "      <td>32.191929</td>\n",
       "      <td>31.906538</td>\n",
       "      <td>99.12126</td>\n",
       "      <td>99.12126</td>\n",
       "    </tr>\n",
       "    <tr>\n",
       "      <th>LD2</th>\n",
       "      <td>0.285391</td>\n",
       "      <td>NaN</td>\n",
       "      <td>0.87874</td>\n",
       "      <td>100.00000</td>\n",
       "    </tr>\n",
       "  </tbody>\n",
       "</table>\n",
       "</div>"
      ],
      "text/plain": [
       "     Eigenvalue  Difference  Proportion  Cumulative\n",
       "LD1   32.191929   31.906538    99.12126    99.12126\n",
       "LD2    0.285391         NaN     0.87874   100.00000"
      ]
     },
     "execution_count": 11,
     "metadata": {},
     "output_type": "execute_result"
    }
   ],
   "source": [
    "candisc.eig_"
   ]
  },
  {
   "cell_type": "markdown",
   "metadata": {},
   "source": [
    "### Likelihood ratio test"
   ]
  },
  {
   "cell_type": "code",
   "execution_count": 12,
   "metadata": {},
   "outputs": [
    {
     "data": {
      "text/html": [
       "<div>\n",
       "<style scoped>\n",
       "    .dataframe tbody tr th:only-of-type {\n",
       "        vertical-align: middle;\n",
       "    }\n",
       "\n",
       "    .dataframe tbody tr th {\n",
       "        vertical-align: top;\n",
       "    }\n",
       "\n",
       "    .dataframe thead th {\n",
       "        text-align: right;\n",
       "    }\n",
       "</style>\n",
       "<table border=\"1\" class=\"dataframe\">\n",
       "  <thead>\n",
       "    <tr style=\"text-align: right;\">\n",
       "      <th></th>\n",
       "      <th>statistic</th>\n",
       "      <th>DDL num.</th>\n",
       "      <th>DDL den.</th>\n",
       "      <th>Pr&gt;F</th>\n",
       "    </tr>\n",
       "  </thead>\n",
       "  <tbody>\n",
       "    <tr>\n",
       "      <th>0</th>\n",
       "      <td>199.145344</td>\n",
       "      <td>8.0</td>\n",
       "      <td>288.0</td>\n",
       "      <td>1.110223e-16</td>\n",
       "    </tr>\n",
       "    <tr>\n",
       "      <th>1</th>\n",
       "      <td>13.793900</td>\n",
       "      <td>3.0</td>\n",
       "      <td>145.0</td>\n",
       "      <td>5.794465e-08</td>\n",
       "    </tr>\n",
       "  </tbody>\n",
       "</table>\n",
       "</div>"
      ],
      "text/plain": [
       "    statistic  DDL num.  DDL den.          Pr>F\n",
       "0  199.145344       8.0     288.0  1.110223e-16\n",
       "1   13.793900       3.0     145.0  5.794465e-08"
      ]
     },
     "execution_count": 12,
     "metadata": {},
     "output_type": "execute_result"
    }
   ],
   "source": [
    "candisc.statistics_[\"likelihood_test\"]"
   ]
  },
  {
   "cell_type": "markdown",
   "metadata": {},
   "source": [
    "## Correlations between Canonical and Original Variables\n",
    "\n",
    "### Total Canonical Structure"
   ]
  },
  {
   "cell_type": "code",
   "execution_count": 13,
   "metadata": {},
   "outputs": [
    {
     "data": {
      "text/html": [
       "<div>\n",
       "<style scoped>\n",
       "    .dataframe tbody tr th:only-of-type {\n",
       "        vertical-align: middle;\n",
       "    }\n",
       "\n",
       "    .dataframe tbody tr th {\n",
       "        vertical-align: top;\n",
       "    }\n",
       "\n",
       "    .dataframe thead th {\n",
       "        text-align: right;\n",
       "    }\n",
       "</style>\n",
       "<table border=\"1\" class=\"dataframe\">\n",
       "  <thead>\n",
       "    <tr style=\"text-align: right;\">\n",
       "      <th></th>\n",
       "      <th>LD1</th>\n",
       "      <th>LD2</th>\n",
       "    </tr>\n",
       "  </thead>\n",
       "  <tbody>\n",
       "    <tr>\n",
       "      <th>sepal_length</th>\n",
       "      <td>0.791888</td>\n",
       "      <td>0.217593</td>\n",
       "    </tr>\n",
       "    <tr>\n",
       "      <th>sepal_width</th>\n",
       "      <td>-0.530759</td>\n",
       "      <td>0.757989</td>\n",
       "    </tr>\n",
       "    <tr>\n",
       "      <th>petal_length</th>\n",
       "      <td>0.984951</td>\n",
       "      <td>0.046037</td>\n",
       "    </tr>\n",
       "    <tr>\n",
       "      <th>petal_width</th>\n",
       "      <td>0.972812</td>\n",
       "      <td>0.222902</td>\n",
       "    </tr>\n",
       "  </tbody>\n",
       "</table>\n",
       "</div>"
      ],
      "text/plain": [
       "                   LD1       LD2\n",
       "sepal_length  0.791888  0.217593\n",
       "sepal_width  -0.530759  0.757989\n",
       "petal_length  0.984951  0.046037\n",
       "petal_width   0.972812  0.222902"
      ]
     },
     "execution_count": 13,
     "metadata": {},
     "output_type": "execute_result"
    }
   ],
   "source": [
    "candisc.corr_[\"total\"]"
   ]
  },
  {
   "cell_type": "markdown",
   "metadata": {},
   "source": [
    "### Between Canonical Structure"
   ]
  },
  {
   "cell_type": "code",
   "execution_count": 14,
   "metadata": {},
   "outputs": [
    {
     "data": {
      "text/html": [
       "<div>\n",
       "<style scoped>\n",
       "    .dataframe tbody tr th:only-of-type {\n",
       "        vertical-align: middle;\n",
       "    }\n",
       "\n",
       "    .dataframe tbody tr th {\n",
       "        vertical-align: top;\n",
       "    }\n",
       "\n",
       "    .dataframe thead th {\n",
       "        text-align: right;\n",
       "    }\n",
       "</style>\n",
       "<table border=\"1\" class=\"dataframe\">\n",
       "  <thead>\n",
       "    <tr style=\"text-align: right;\">\n",
       "      <th></th>\n",
       "      <th>LD1</th>\n",
       "      <th>LD2</th>\n",
       "    </tr>\n",
       "  </thead>\n",
       "  <tbody>\n",
       "    <tr>\n",
       "      <th>sepal_length</th>\n",
       "      <td>0.991468</td>\n",
       "      <td>0.130348</td>\n",
       "    </tr>\n",
       "    <tr>\n",
       "      <th>sepal_width</th>\n",
       "      <td>-0.825658</td>\n",
       "      <td>0.564171</td>\n",
       "    </tr>\n",
       "    <tr>\n",
       "      <th>petal_length</th>\n",
       "      <td>0.999750</td>\n",
       "      <td>0.022358</td>\n",
       "    </tr>\n",
       "    <tr>\n",
       "      <th>petal_width</th>\n",
       "      <td>0.994044</td>\n",
       "      <td>0.108977</td>\n",
       "    </tr>\n",
       "  </tbody>\n",
       "</table>\n",
       "</div>"
      ],
      "text/plain": [
       "                   LD1       LD2\n",
       "sepal_length  0.991468  0.130348\n",
       "sepal_width  -0.825658  0.564171\n",
       "petal_length  0.999750  0.022358\n",
       "petal_width   0.994044  0.108977"
      ]
     },
     "execution_count": 14,
     "metadata": {},
     "output_type": "execute_result"
    }
   ],
   "source": [
    "candisc.corr_[\"between\"]"
   ]
  },
  {
   "cell_type": "markdown",
   "metadata": {},
   "source": [
    "### Polled Within Canonical Structure"
   ]
  },
  {
   "cell_type": "code",
   "execution_count": 15,
   "metadata": {},
   "outputs": [
    {
     "data": {
      "text/html": [
       "<div>\n",
       "<style scoped>\n",
       "    .dataframe tbody tr th:only-of-type {\n",
       "        vertical-align: middle;\n",
       "    }\n",
       "\n",
       "    .dataframe tbody tr th {\n",
       "        vertical-align: top;\n",
       "    }\n",
       "\n",
       "    .dataframe thead th {\n",
       "        text-align: right;\n",
       "    }\n",
       "</style>\n",
       "<table border=\"1\" class=\"dataframe\">\n",
       "  <thead>\n",
       "    <tr style=\"text-align: right;\">\n",
       "      <th></th>\n",
       "      <th>LD1</th>\n",
       "      <th>LD2</th>\n",
       "    </tr>\n",
       "  </thead>\n",
       "  <tbody>\n",
       "    <tr>\n",
       "      <th>sepal_length</th>\n",
       "      <td>0.222596</td>\n",
       "      <td>0.310812</td>\n",
       "    </tr>\n",
       "    <tr>\n",
       "      <th>sepal_width</th>\n",
       "      <td>-0.119012</td>\n",
       "      <td>0.863681</td>\n",
       "    </tr>\n",
       "    <tr>\n",
       "      <th>petal_length</th>\n",
       "      <td>0.706065</td>\n",
       "      <td>0.167701</td>\n",
       "    </tr>\n",
       "    <tr>\n",
       "      <th>petal_width</th>\n",
       "      <td>0.633178</td>\n",
       "      <td>0.737242</td>\n",
       "    </tr>\n",
       "  </tbody>\n",
       "</table>\n",
       "</div>"
      ],
      "text/plain": [
       "                   LD1       LD2\n",
       "sepal_length  0.222596  0.310812\n",
       "sepal_width  -0.119012  0.863681\n",
       "petal_length  0.706065  0.167701\n",
       "petal_width   0.633178  0.737242"
      ]
     },
     "execution_count": 15,
     "metadata": {},
     "output_type": "execute_result"
    }
   ],
   "source": [
    "candisc.corr_[\"within\"]"
   ]
  },
  {
   "cell_type": "markdown",
   "metadata": {},
   "source": [
    "## Canonical Coefficients\n",
    "\n",
    "### Raw Canonical Coefficients"
   ]
  },
  {
   "cell_type": "code",
   "execution_count": 16,
   "metadata": {},
   "outputs": [
    {
     "data": {
      "text/html": [
       "<div>\n",
       "<style scoped>\n",
       "    .dataframe tbody tr th:only-of-type {\n",
       "        vertical-align: middle;\n",
       "    }\n",
       "\n",
       "    .dataframe tbody tr th {\n",
       "        vertical-align: top;\n",
       "    }\n",
       "\n",
       "    .dataframe thead th {\n",
       "        text-align: right;\n",
       "    }\n",
       "</style>\n",
       "<table border=\"1\" class=\"dataframe\">\n",
       "  <thead>\n",
       "    <tr style=\"text-align: right;\">\n",
       "      <th></th>\n",
       "      <th>LD1</th>\n",
       "      <th>LD2</th>\n",
       "    </tr>\n",
       "  </thead>\n",
       "  <tbody>\n",
       "    <tr>\n",
       "      <th>sepal_length</th>\n",
       "      <td>-0.829378</td>\n",
       "      <td>0.024102</td>\n",
       "    </tr>\n",
       "    <tr>\n",
       "      <th>sepal_width</th>\n",
       "      <td>-1.534473</td>\n",
       "      <td>2.164521</td>\n",
       "    </tr>\n",
       "    <tr>\n",
       "      <th>petal_length</th>\n",
       "      <td>2.201212</td>\n",
       "      <td>-0.931921</td>\n",
       "    </tr>\n",
       "    <tr>\n",
       "      <th>petal_width</th>\n",
       "      <td>2.810460</td>\n",
       "      <td>2.839188</td>\n",
       "    </tr>\n",
       "  </tbody>\n",
       "</table>\n",
       "</div>"
      ],
      "text/plain": [
       "                   LD1       LD2\n",
       "sepal_length -0.829378  0.024102\n",
       "sepal_width  -1.534473  2.164521\n",
       "petal_length  2.201212 -0.931921\n",
       "petal_width   2.810460  2.839188"
      ]
     },
     "execution_count": 16,
     "metadata": {},
     "output_type": "execute_result"
    }
   ],
   "source": [
    "candisc.coef_"
   ]
  },
  {
   "cell_type": "markdown",
   "metadata": {},
   "source": [
    "## Canonical Means"
   ]
  },
  {
   "cell_type": "code",
   "execution_count": 17,
   "metadata": {},
   "outputs": [
    {
     "data": {
      "text/html": [
       "<div>\n",
       "<style scoped>\n",
       "    .dataframe tbody tr th:only-of-type {\n",
       "        vertical-align: middle;\n",
       "    }\n",
       "\n",
       "    .dataframe tbody tr th {\n",
       "        vertical-align: top;\n",
       "    }\n",
       "\n",
       "    .dataframe thead th {\n",
       "        text-align: right;\n",
       "    }\n",
       "</style>\n",
       "<table border=\"1\" class=\"dataframe\">\n",
       "  <thead>\n",
       "    <tr style=\"text-align: right;\">\n",
       "      <th></th>\n",
       "      <th>LD1</th>\n",
       "      <th>LD2</th>\n",
       "    </tr>\n",
       "    <tr>\n",
       "      <th>species</th>\n",
       "      <th></th>\n",
       "      <th></th>\n",
       "    </tr>\n",
       "  </thead>\n",
       "  <tbody>\n",
       "    <tr>\n",
       "      <th>setosa</th>\n",
       "      <td>-7.607600</td>\n",
       "      <td>0.215133</td>\n",
       "    </tr>\n",
       "    <tr>\n",
       "      <th>versicolor</th>\n",
       "      <td>1.825049</td>\n",
       "      <td>-0.727900</td>\n",
       "    </tr>\n",
       "    <tr>\n",
       "      <th>virginica</th>\n",
       "      <td>5.782550</td>\n",
       "      <td>0.512767</td>\n",
       "    </tr>\n",
       "  </tbody>\n",
       "</table>\n",
       "</div>"
      ],
      "text/plain": [
       "                 LD1       LD2\n",
       "species                       \n",
       "setosa     -7.607600  0.215133\n",
       "versicolor  1.825049 -0.727900\n",
       "virginica   5.782550  0.512767"
      ]
     },
     "execution_count": 17,
     "metadata": {},
     "output_type": "execute_result"
    }
   ],
   "source": [
    "candisc.classes_[\"coord\"]"
   ]
  },
  {
   "cell_type": "markdown",
   "metadata": {},
   "source": [
    "## Extractions"
   ]
  },
  {
   "cell_type": "code",
   "execution_count": 18,
   "metadata": {},
   "outputs": [],
   "source": [
    "from discrimintools import get_candisc, summaryCANDISC\n",
    "ind = get_candisc(candisc,choice=\"ind\")\n",
    "vcov = get_candisc(candisc,choice=\"covariance\")\n",
    "corr = get_candisc(candisc,choice=\"correlation\")\n",
    "coef = get_candisc(candisc,choice=\"absolute\")\n",
    "score_coef = get_candisc(candisc,choice=\"score\")"
   ]
  },
  {
   "cell_type": "code",
   "execution_count": 19,
   "metadata": {},
   "outputs": [
    {
     "name": "stdout",
     "output_type": "stream",
     "text": [
      "                     Canonical Discriminant Analysis - Results                     \n",
      "\n",
      "\n",
      "Summary Information\n",
      "\n",
      "               infos  Value                  DF  DF value\n",
      "0  Total Sample Size    150            DF Total       149\n",
      "1          Variables      4   DF Within Classes       147\n",
      "2            Classes      3  DF Between Classes         2\n",
      "\n",
      "Class Level information\n",
      "\n",
      "            Frequency  Proportion\n",
      "species                          \n",
      "setosa             50    0.333333\n",
      "versicolor         50    0.333333\n",
      "virginica          50    0.333333\n",
      "\n",
      "Importance of components\n",
      "                         LD1      LD2\n",
      "Variance              32.192    0.285\n",
      "Difference            31.907      NaN\n",
      "% of var.             99.121    0.879\n",
      "Cumulative % of var.  99.121  100.000\n",
      "\n",
      "Test of H0: The canonical correlations in the current row and all that follow are zero\n",
      "\n",
      "   statistic  DDL num.  DDL den.  Pr>F\n",
      "0    199.145       8.0     288.0   0.0\n",
      "1     13.794       3.0     145.0   0.0\n",
      "\n",
      "Group means:\n",
      "\n",
      "              setosa  versicolor  virginica\n",
      "sepal_length   5.006       5.936      6.588\n",
      "sepal_width    3.428       2.770      2.974\n",
      "petal_length   1.462       4.260      5.552\n",
      "petal_width    0.246       1.326      2.026\n",
      "\n",
      "Coefficients of canonical discriminants:\n",
      "\n",
      "                LD1    LD2\n",
      "sepal_length -0.829  0.024\n",
      "sepal_width  -1.534  2.165\n",
      "petal_length  2.201 -0.932\n",
      "petal_width   2.810  2.839\n",
      "intercept    -2.105 -6.661\n",
      "\n",
      "Classification functions coefficients:\n",
      "\n",
      "              setosa  versicolor  virginica\n",
      "sepal_length   6.315      -1.531     -4.784\n",
      "sepal_width   12.139      -4.376     -7.763\n",
      "petal_length -16.946       4.696     12.251\n",
      "petal_width  -20.770       3.063     17.707\n",
      "intercept    -15.478      -2.022    -33.538\n",
      "\n",
      "Individuals (the 10 first)\n",
      "\n",
      "     LD1    LD2\n",
      "0 -8.062  0.300\n",
      "1 -7.129 -0.787\n",
      "2 -7.490 -0.265\n",
      "3 -6.813 -0.671\n",
      "4 -8.132  0.514\n",
      "5 -7.702  1.462\n",
      "6 -7.213  0.356\n",
      "7 -7.605 -0.012\n",
      "8 -6.561 -1.015\n",
      "9 -7.343 -0.947\n",
      "\n",
      "Correlations between Canonical and Original Variables\n",
      "\n",
      "              total.1  between.1  within.1  total.2  between.2  within.2\n",
      "sepal_length    0.792      0.991     0.223    0.218      0.130     0.311\n",
      "sepal_width    -0.531     -0.826    -0.119    0.758      0.564     0.864\n",
      "petal_length    0.985      1.000     0.706    0.046      0.022     0.168\n",
      "petal_width     0.973      0.994     0.633    0.223      0.109     0.737\n",
      "\n",
      "Class Means on Canonical Variables\n",
      "\n",
      "              LD1    LD2\n",
      "species                 \n",
      "setosa     -7.608  0.215\n",
      "versicolor  1.825 -0.728\n",
      "virginica   5.783  0.513\n"
     ]
    }
   ],
   "source": [
    "summaryCANDISC(candisc)"
   ]
  },
  {
   "cell_type": "code",
   "execution_count": 23,
   "metadata": {},
   "outputs": [
    {
     "data": {
      "image/png": "[encoded data removed]",
      "text/plain": [
       "<Figure size 640x480 with 1 Axes>"
      ]
     },
     "metadata": {
      "needs_background": "light"
     },
     "output_type": "display_data"
    },
    {
     "name": "stdout",
     "output_type": "stream",
     "text": [
      "\n"
     ]
    }
   ],
   "source": [
    "from discrimintools import fviz_candisc\n",
    "p = fviz_candisc(candisc,repel=True)\n",
    "print(p)"
   ]
  }
 ],
 "metadata": {
  "kernelspec": {
   "display_name": "Python 3",
   "language": "python",
   "name": "python3"
  },
  "language_info": {
   "codemirror_mode": {
    "name": "ipython",
    "version": 3
   },
   "file_extension": ".py",
   "mimetype": "text/x-python",
   "name": "python",
   "nbconvert_exporter": "python",
   "pygments_lexer": "ipython3",
   "version": "3.10.5"
  },
  "orig_nbformat": 4
 },
 "nbformat": 4,
 "nbformat_minor": 2
}
