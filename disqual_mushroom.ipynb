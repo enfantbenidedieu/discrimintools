{
 "cells": [
  {
   "attachments": {},
   "cell_type": "markdown",
   "metadata": {},
   "source": [
    "# Importation, partition train-test et DISQUAL"
   ]
  },
  {
   "cell_type": "code",
   "execution_count": 1,
   "metadata": {},
   "outputs": [],
   "source": [
    "import warnings\n",
    "warnings.simplefilter(action='ignore', category=FutureWarning)\n",
    "warnings.filterwarnings(\"ignore\")"
   ]
  },
  {
   "cell_type": "code",
   "execution_count": 2,
   "metadata": {},
   "outputs": [
    {
     "name": "stdout",
     "output_type": "stream",
     "text": [
      "(4124, 20)\n",
      "(4000, 20)\n"
     ]
    }
   ],
   "source": [
    "# \n",
    "from discrimintools.datasets import load_mushroom\n",
    "dfTrain = load_mushroom(which=\"train\")\n",
    "dfTest = load_mushroom(which=\"test\")\n",
    "\n",
    "#vérif.\n",
    "print(dfTrain.shape)\n",
    "print(dfTest.shape)"
   ]
  },
  {
   "cell_type": "code",
   "execution_count": 3,
   "metadata": {},
   "outputs": [
    {
     "name": "stdout",
     "output_type": "stream",
     "text": [
      "<class 'pandas.core.frame.DataFrame'>\n",
      "Index: 4124 entries, 0 to 4123\n",
      "Data columns (total 20 columns):\n",
      " #   Column             Non-Null Count  Dtype \n",
      "---  ------             --------------  ----- \n",
      " 0   capshape           4124 non-null   object\n",
      " 1   capsurface         4124 non-null   object\n",
      " 2   capcolor           4124 non-null   object\n",
      " 3   bruises            4124 non-null   object\n",
      " 4   gillattachment     4124 non-null   object\n",
      " 5   gillspacing        4124 non-null   object\n",
      " 6   gillsize           4124 non-null   object\n",
      " 7   gillcolor          4124 non-null   object\n",
      " 8   stalkshape         4124 non-null   object\n",
      " 9   stalksurfaceabove  4124 non-null   object\n",
      " 10  stalksurfacebelow  4124 non-null   object\n",
      " 11  stalkcoloraboveri  4124 non-null   object\n",
      " 12  stalkcolorbelowri  4124 non-null   object\n",
      " 13  veilcolor          4124 non-null   object\n",
      " 14  ringnumber         4124 non-null   object\n",
      " 15  ringtype           4124 non-null   object\n",
      " 16  sporeprintcolor    4124 non-null   object\n",
      " 17  population         4124 non-null   object\n",
      " 18  habitat            4124 non-null   object\n",
      " 19  classe             4124 non-null   object\n",
      "dtypes: object(20)\n",
      "memory usage: 676.6+ KB\n"
     ]
    }
   ],
   "source": [
    "dfTrain.info()"
   ]
  },
  {
   "cell_type": "code",
   "execution_count": 4,
   "metadata": {},
   "outputs": [],
   "source": [
    "#méthode DISQUAL instanciation\n",
    "from discrimintools import DISQUAL\n",
    "disqual = DISQUAL(n_components=2,target=['classe'],priors=\"prop\",parallelize=False)"
   ]
  },
  {
   "cell_type": "code",
   "execution_count": 5,
   "metadata": {},
   "outputs": [
    {
     "data": {
      "text/html": [
       "<style>#sk-container-id-1 {color: black;background-color: white;}#sk-container-id-1 pre{padding: 0;}#sk-container-id-1 div.sk-toggleable {background-color: white;}#sk-container-id-1 label.sk-toggleable__label {cursor: pointer;display: block;width: 100%;margin-bottom: 0;padding: 0.3em;box-sizing: border-box;text-align: center;}#sk-container-id-1 label.sk-toggleable__label-arrow:before {content: \"▸\";float: left;margin-right: 0.25em;color: #696969;}#sk-container-id-1 label.sk-toggleable__label-arrow:hover:before {color: black;}#sk-container-id-1 div.sk-estimator:hover label.sk-toggleable__label-arrow:before {color: black;}#sk-container-id-1 div.sk-toggleable__content {max-height: 0;max-width: 0;overflow: hidden;text-align: left;background-color: #f0f8ff;}#sk-container-id-1 div.sk-toggleable__content pre {margin: 0.2em;color: black;border-radius: 0.25em;background-color: #f0f8ff;}#sk-container-id-1 input.sk-toggleable__control:checked~div.sk-toggleable__content {max-height: 200px;max-width: 100%;overflow: auto;}#sk-container-id-1 input.sk-toggleable__control:checked~label.sk-toggleable__label-arrow:before {content: \"▾\";}#sk-container-id-1 div.sk-estimator input.sk-toggleable__control:checked~label.sk-toggleable__label {background-color: #d4ebff;}#sk-container-id-1 div.sk-label input.sk-toggleable__control:checked~label.sk-toggleable__label {background-color: #d4ebff;}#sk-container-id-1 input.sk-hidden--visually {border: 0;clip: rect(1px 1px 1px 1px);clip: rect(1px, 1px, 1px, 1px);height: 1px;margin: -1px;overflow: hidden;padding: 0;position: absolute;width: 1px;}#sk-container-id-1 div.sk-estimator {font-family: monospace;background-color: #f0f8ff;border: 1px dotted black;border-radius: 0.25em;box-sizing: border-box;margin-bottom: 0.5em;}#sk-container-id-1 div.sk-estimator:hover {background-color: #d4ebff;}#sk-container-id-1 div.sk-parallel-item::after {content: \"\";width: 100%;border-bottom: 1px solid gray;flex-grow: 1;}#sk-container-id-1 div.sk-label:hover label.sk-toggleable__label {background-color: #d4ebff;}#sk-container-id-1 div.sk-serial::before {content: \"\";position: absolute;border-left: 1px solid gray;box-sizing: border-box;top: 0;bottom: 0;left: 50%;z-index: 0;}#sk-container-id-1 div.sk-serial {display: flex;flex-direction: column;align-items: center;background-color: white;padding-right: 0.2em;padding-left: 0.2em;position: relative;}#sk-container-id-1 div.sk-item {position: relative;z-index: 1;}#sk-container-id-1 div.sk-parallel {display: flex;align-items: stretch;justify-content: center;background-color: white;position: relative;}#sk-container-id-1 div.sk-item::before, #sk-container-id-1 div.sk-parallel-item::before {content: \"\";position: absolute;border-left: 1px solid gray;box-sizing: border-box;top: 0;bottom: 0;left: 50%;z-index: -1;}#sk-container-id-1 div.sk-parallel-item {display: flex;flex-direction: column;z-index: 1;position: relative;background-color: white;}#sk-container-id-1 div.sk-parallel-item:first-child::after {align-self: flex-end;width: 50%;}#sk-container-id-1 div.sk-parallel-item:last-child::after {align-self: flex-start;width: 50%;}#sk-container-id-1 div.sk-parallel-item:only-child::after {width: 0;}#sk-container-id-1 div.sk-dashed-wrapped {border: 1px dashed gray;margin: 0 0.4em 0.5em 0.4em;box-sizing: border-box;padding-bottom: 0.4em;background-color: white;}#sk-container-id-1 div.sk-label label {font-family: monospace;font-weight: bold;display: inline-block;line-height: 1.2em;}#sk-container-id-1 div.sk-label-container {text-align: center;}#sk-container-id-1 div.sk-container {/* jupyter's `normalize.less` sets `[hidden] { display: none; }` but bootstrap.min.css set `[hidden] { display: none !important; }` so we also need the `!important` here to be able to override the default hidden behavior on the sphinx rendered scikit-learn.org. See: https://github.com/scikit-learn/scikit-learn/issues/21755 */display: inline-block !important;position: relative;}#sk-container-id-1 div.sk-text-repr-fallback {display: none;}</style><div id=\"sk-container-id-1\" class=\"sk-top-container\"><div class=\"sk-text-repr-fallback\"><pre>DISQUAL(n_components=2, priors=&#x27;prop&#x27;, target=[&#x27;classe&#x27;])</pre><b>In a Jupyter environment, please rerun this cell to show the HTML representation or trust the notebook. <br />On GitHub, the HTML representation is unable to render, please try loading this page with nbviewer.org.</b></div><div class=\"sk-container\" hidden><div class=\"sk-item\"><div class=\"sk-estimator sk-toggleable\"><input class=\"sk-toggleable__control sk-hidden--visually\" id=\"sk-estimator-id-1\" type=\"checkbox\" checked><label for=\"sk-estimator-id-1\" class=\"sk-toggleable__label sk-toggleable__label-arrow\">DISQUAL</label><div class=\"sk-toggleable__content\"><pre>DISQUAL(n_components=2, priors=&#x27;prop&#x27;, target=[&#x27;classe&#x27;])</pre></div></div></div></div></div>"
      ],
      "text/plain": [
       "DISQUAL(n_components=2, priors='prop', target=['classe'])"
      ]
     },
     "execution_count": 5,
     "metadata": {},
     "output_type": "execute_result"
    }
   ],
   "source": [
    "# Entrainement\n",
    "disqual.fit(dfTrain)"
   ]
  },
  {
   "cell_type": "code",
   "execution_count": 6,
   "metadata": {},
   "outputs": [
    {
     "data": {
      "text/html": [
       "<div>\n",
       "<style scoped>\n",
       "    .dataframe tbody tr th:only-of-type {\n",
       "        vertical-align: middle;\n",
       "    }\n",
       "\n",
       "    .dataframe tbody tr th {\n",
       "        vertical-align: top;\n",
       "    }\n",
       "\n",
       "    .dataframe thead th {\n",
       "        text-align: right;\n",
       "    }\n",
       "</style>\n",
       "<table border=\"1\" class=\"dataframe\">\n",
       "  <thead>\n",
       "    <tr style=\"text-align: right;\">\n",
       "      <th></th>\n",
       "      <th>Z1</th>\n",
       "      <th>Z2</th>\n",
       "    </tr>\n",
       "  </thead>\n",
       "  <tbody>\n",
       "    <tr>\n",
       "      <th>4124</th>\n",
       "      <td>0.243385</td>\n",
       "      <td>-0.461286</td>\n",
       "    </tr>\n",
       "    <tr>\n",
       "      <th>4125</th>\n",
       "      <td>-0.014605</td>\n",
       "      <td>0.395672</td>\n",
       "    </tr>\n",
       "    <tr>\n",
       "      <th>4126</th>\n",
       "      <td>0.117779</td>\n",
       "      <td>-0.356121</td>\n",
       "    </tr>\n",
       "    <tr>\n",
       "      <th>4127</th>\n",
       "      <td>-0.154580</td>\n",
       "      <td>0.356261</td>\n",
       "    </tr>\n",
       "    <tr>\n",
       "      <th>4128</th>\n",
       "      <td>0.238605</td>\n",
       "      <td>-0.587712</td>\n",
       "    </tr>\n",
       "    <tr>\n",
       "      <th>...</th>\n",
       "      <td>...</td>\n",
       "      <td>...</td>\n",
       "    </tr>\n",
       "    <tr>\n",
       "      <th>8119</th>\n",
       "      <td>0.152047</td>\n",
       "      <td>0.211099</td>\n",
       "    </tr>\n",
       "    <tr>\n",
       "      <th>8120</th>\n",
       "      <td>0.018136</td>\n",
       "      <td>-0.277977</td>\n",
       "    </tr>\n",
       "    <tr>\n",
       "      <th>8121</th>\n",
       "      <td>0.076630</td>\n",
       "      <td>-0.166914</td>\n",
       "    </tr>\n",
       "    <tr>\n",
       "      <th>8122</th>\n",
       "      <td>0.237519</td>\n",
       "      <td>0.134281</td>\n",
       "    </tr>\n",
       "    <tr>\n",
       "      <th>8123</th>\n",
       "      <td>0.001963</td>\n",
       "      <td>-0.359254</td>\n",
       "    </tr>\n",
       "  </tbody>\n",
       "</table>\n",
       "<p>4000 rows × 2 columns</p>\n",
       "</div>"
      ],
      "text/plain": [
       "            Z1        Z2\n",
       "4124  0.243385 -0.461286\n",
       "4125 -0.014605  0.395672\n",
       "4126  0.117779 -0.356121\n",
       "4127 -0.154580  0.356261\n",
       "4128  0.238605 -0.587712\n",
       "...        ...       ...\n",
       "8119  0.152047  0.211099\n",
       "8120  0.018136 -0.277977\n",
       "8121  0.076630 -0.166914\n",
       "8122  0.237519  0.134281\n",
       "8123  0.001963 -0.359254\n",
       "\n",
       "[4000 rows x 2 columns]"
      ]
     },
     "execution_count": 6,
     "metadata": {},
     "output_type": "execute_result"
    }
   ],
   "source": [
    "disqual.transform(dfTest)"
   ]
  },
  {
   "cell_type": "code",
   "execution_count": 7,
   "metadata": {},
   "outputs": [
    {
     "data": {
      "text/plain": [
       "4124       edible\n",
       "4125    poisonous\n",
       "4126       edible\n",
       "4127    poisonous\n",
       "4128       edible\n",
       "          ...    \n",
       "8119    poisonous\n",
       "8120       edible\n",
       "8121       edible\n",
       "8122       edible\n",
       "8123       edible\n",
       "Name: prediction, Length: 4000, dtype: object"
      ]
     },
     "execution_count": 7,
     "metadata": {},
     "output_type": "execute_result"
    }
   ],
   "source": [
    "disqual.predict(X=dfTest)"
   ]
  },
  {
   "cell_type": "code",
   "execution_count": 8,
   "metadata": {},
   "outputs": [
    {
     "data": {
      "text/html": [
       "<div>\n",
       "<style scoped>\n",
       "    .dataframe tbody tr th:only-of-type {\n",
       "        vertical-align: middle;\n",
       "    }\n",
       "\n",
       "    .dataframe tbody tr th {\n",
       "        vertical-align: top;\n",
       "    }\n",
       "\n",
       "    .dataframe thead th {\n",
       "        text-align: right;\n",
       "    }\n",
       "</style>\n",
       "<table border=\"1\" class=\"dataframe\">\n",
       "  <thead>\n",
       "    <tr style=\"text-align: right;\">\n",
       "      <th>prediction</th>\n",
       "      <th>edible</th>\n",
       "      <th>poisonous</th>\n",
       "    </tr>\n",
       "    <tr>\n",
       "      <th>classe</th>\n",
       "      <th></th>\n",
       "      <th></th>\n",
       "    </tr>\n",
       "  </thead>\n",
       "  <tbody>\n",
       "    <tr>\n",
       "      <th>edible</th>\n",
       "      <td>2112</td>\n",
       "      <td>48</td>\n",
       "    </tr>\n",
       "    <tr>\n",
       "      <th>poisonous</th>\n",
       "      <td>512</td>\n",
       "      <td>1452</td>\n",
       "    </tr>\n",
       "  </tbody>\n",
       "</table>\n",
       "</div>"
      ],
      "text/plain": [
       "prediction  edible  poisonous\n",
       "classe                       \n",
       "edible        2112         48\n",
       "poisonous      512       1452"
      ]
     },
     "execution_count": 8,
     "metadata": {},
     "output_type": "execute_result"
    }
   ],
   "source": [
    "disqual.pred_table()"
   ]
  },
  {
   "cell_type": "code",
   "execution_count": 9,
   "metadata": {},
   "outputs": [
    {
     "data": {
      "text/html": [
       "<div>\n",
       "<style scoped>\n",
       "    .dataframe tbody tr th:only-of-type {\n",
       "        vertical-align: middle;\n",
       "    }\n",
       "\n",
       "    .dataframe tbody tr th {\n",
       "        vertical-align: top;\n",
       "    }\n",
       "\n",
       "    .dataframe thead th {\n",
       "        text-align: right;\n",
       "    }\n",
       "</style>\n",
       "<table border=\"1\" class=\"dataframe\">\n",
       "  <thead>\n",
       "    <tr style=\"text-align: right;\">\n",
       "      <th></th>\n",
       "      <th>statistic</th>\n",
       "      <th>ddl</th>\n",
       "      <th>pvalue</th>\n",
       "    </tr>\n",
       "  </thead>\n",
       "  <tbody>\n",
       "    <tr>\n",
       "      <th>sporeprintcolor</th>\n",
       "      <td>2296.787306</td>\n",
       "      <td>8</td>\n",
       "      <td>0.000000e+00</td>\n",
       "    </tr>\n",
       "    <tr>\n",
       "      <th>ringtype</th>\n",
       "      <td>1512.241854</td>\n",
       "      <td>4</td>\n",
       "      <td>0.000000e+00</td>\n",
       "    </tr>\n",
       "    <tr>\n",
       "      <th>gillcolor</th>\n",
       "      <td>1925.736099</td>\n",
       "      <td>11</td>\n",
       "      <td>0.000000e+00</td>\n",
       "    </tr>\n",
       "    <tr>\n",
       "      <th>stalksurfaceabove</th>\n",
       "      <td>1435.523703</td>\n",
       "      <td>3</td>\n",
       "      <td>5.764160e-311</td>\n",
       "    </tr>\n",
       "    <tr>\n",
       "      <th>stalksurfacebelow</th>\n",
       "      <td>1361.419709</td>\n",
       "      <td>3</td>\n",
       "      <td>6.929806e-295</td>\n",
       "    </tr>\n",
       "    <tr>\n",
       "      <th>gillsize</th>\n",
       "      <td>1239.017930</td>\n",
       "      <td>1</td>\n",
       "      <td>2.021746e-271</td>\n",
       "    </tr>\n",
       "    <tr>\n",
       "      <th>stalkcoloraboveri</th>\n",
       "      <td>1156.805138</td>\n",
       "      <td>8</td>\n",
       "      <td>2.059443e-244</td>\n",
       "    </tr>\n",
       "    <tr>\n",
       "      <th>stalkcolorbelowri</th>\n",
       "      <td>1123.920542</td>\n",
       "      <td>8</td>\n",
       "      <td>2.612410e-237</td>\n",
       "    </tr>\n",
       "    <tr>\n",
       "      <th>bruises</th>\n",
       "      <td>1068.596759</td>\n",
       "      <td>1</td>\n",
       "      <td>2.209479e-234</td>\n",
       "    </tr>\n",
       "    <tr>\n",
       "      <th>population</th>\n",
       "      <td>1011.036064</td>\n",
       "      <td>5</td>\n",
       "      <td>2.452251e-216</td>\n",
       "    </tr>\n",
       "    <tr>\n",
       "      <th>habitat</th>\n",
       "      <td>793.755432</td>\n",
       "      <td>6</td>\n",
       "      <td>3.440883e-168</td>\n",
       "    </tr>\n",
       "    <tr>\n",
       "      <th>gillspacing</th>\n",
       "      <td>482.706221</td>\n",
       "      <td>1</td>\n",
       "      <td>5.506547e-107</td>\n",
       "    </tr>\n",
       "    <tr>\n",
       "      <th>capshape</th>\n",
       "      <td>239.605566</td>\n",
       "      <td>5</td>\n",
       "      <td>9.328305e-50</td>\n",
       "    </tr>\n",
       "    <tr>\n",
       "      <th>ringnumber</th>\n",
       "      <td>205.857883</td>\n",
       "      <td>2</td>\n",
       "      <td>1.988514e-45</td>\n",
       "    </tr>\n",
       "    <tr>\n",
       "      <th>capcolor</th>\n",
       "      <td>220.214713</td>\n",
       "      <td>9</td>\n",
       "      <td>1.886225e-42</td>\n",
       "    </tr>\n",
       "    <tr>\n",
       "      <th>capsurface</th>\n",
       "      <td>158.903768</td>\n",
       "      <td>3</td>\n",
       "      <td>3.160094e-34</td>\n",
       "    </tr>\n",
       "    <tr>\n",
       "      <th>veilcolor</th>\n",
       "      <td>93.688641</td>\n",
       "      <td>3</td>\n",
       "      <td>3.532784e-20</td>\n",
       "    </tr>\n",
       "    <tr>\n",
       "      <th>gillattachment</th>\n",
       "      <td>62.701613</td>\n",
       "      <td>1</td>\n",
       "      <td>2.405186e-15</td>\n",
       "    </tr>\n",
       "    <tr>\n",
       "      <th>stalkshape</th>\n",
       "      <td>40.965946</td>\n",
       "      <td>1</td>\n",
       "      <td>1.549049e-10</td>\n",
       "    </tr>\n",
       "  </tbody>\n",
       "</table>\n",
       "</div>"
      ],
      "text/plain": [
       "                     statistic  ddl         pvalue\n",
       "sporeprintcolor    2296.787306    8   0.000000e+00\n",
       "ringtype           1512.241854    4   0.000000e+00\n",
       "gillcolor          1925.736099   11   0.000000e+00\n",
       "stalksurfaceabove  1435.523703    3  5.764160e-311\n",
       "stalksurfacebelow  1361.419709    3  6.929806e-295\n",
       "gillsize           1239.017930    1  2.021746e-271\n",
       "stalkcoloraboveri  1156.805138    8  2.059443e-244\n",
       "stalkcolorbelowri  1123.920542    8  2.612410e-237\n",
       "bruises            1068.596759    1  2.209479e-234\n",
       "population         1011.036064    5  2.452251e-216\n",
       "habitat             793.755432    6  3.440883e-168\n",
       "gillspacing         482.706221    1  5.506547e-107\n",
       "capshape            239.605566    5   9.328305e-50\n",
       "ringnumber          205.857883    2   1.988514e-45\n",
       "capcolor            220.214713    9   1.886225e-42\n",
       "capsurface          158.903768    3   3.160094e-34\n",
       "veilcolor            93.688641    3   3.532784e-20\n",
       "gillattachment       62.701613    1   2.405186e-15\n",
       "stalkshape           40.965946    1   1.549049e-10"
      ]
     },
     "execution_count": 9,
     "metadata": {},
     "output_type": "execute_result"
    }
   ],
   "source": [
    "disqual.statistics_[\"chi2\"]"
   ]
  }
 ],
 "metadata": {
  "kernelspec": {
   "display_name": "env_tutos",
   "language": "python",
   "name": "python3"
  },
  "language_info": {
   "codemirror_mode": {
    "name": "ipython",
    "version": 3
   },
   "file_extension": ".py",
   "mimetype": "text/x-python",
   "name": "python",
   "nbconvert_exporter": "python",
   "pygments_lexer": "ipython3",
   "version": "3.10.5"
  },
  "orig_nbformat": 4
 },
 "nbformat": 4,
 "nbformat_minor": 2
}
